{
 "cells": [
  {
   "cell_type": "code",
   "execution_count": 1,
   "id": "2c6e13d1-47ed-4be0-8ec4-8351cacdcf36",
   "metadata": {},
   "outputs": [],
   "source": [
    "data_root = '/home/scott/Documents/SPEC_Spider'"
   ]
  },
  {
   "cell_type": "code",
   "execution_count": 2,
   "id": "ea2a07e6-4ed0-43c8-9df1-084ad4a895e7",
   "metadata": {},
   "outputs": [
    {
     "name": "stdout",
     "output_type": "stream",
     "text": [
      "\u001b[01;34m/home/scott/Documents/SPEC_Spider\u001b[0m\n",
      "├── \u001b[01;34mcpu\u001b[0m\n",
      "│   ├── \u001b[01;34mcpu2006\u001b[0m\n",
      "│   │   ├── \u001b[00mSPECfp.csv\u001b[0m\n",
      "│   │   ├── \u001b[00mSPECfp_rate.csv\u001b[0m\n",
      "│   │   ├── \u001b[00mSPECint.csv\u001b[0m\n",
      "│   │   └── \u001b[00mSPECint_rate.csv\u001b[0m\n",
      "│   └── \u001b[01;34mcpu2017\u001b[0m\n",
      "│       ├── \u001b[00mCFP2017_rate.csv\u001b[0m\n",
      "│       ├── \u001b[00mCFP2017_speed.csv\u001b[0m\n",
      "│       ├── \u001b[00mCINT2017_rate.csv\u001b[0m\n",
      "│       └── \u001b[00mCINT2017_speed.csv\u001b[0m\n",
      "├── \u001b[01;34mjava\u001b[0m\n",
      "│   ├── \u001b[01;34mjbb2015\u001b[0m\n",
      "│   │   ├── \u001b[00mSPECjbb2015-Composite.csv\u001b[0m\n",
      "│   │   ├── \u001b[00mSPECjbb2015-Distributed.csv\u001b[0m\n",
      "│   │   └── \u001b[00mSPECjbb2015-MultiJVM.csv\u001b[0m\n",
      "│   └── \u001b[01;34mjvm2008\u001b[0m\n",
      "│       └── \u001b[00mjvm2008.csv\u001b[0m\n",
      "├── \u001b[00mjbb2015.csv\u001b[0m\n",
      "└── \u001b[01;34mpower\u001b[0m\n",
      "    └── \u001b[00mssj2008.csv\u001b[0m\n",
      "\n",
      "7 directories, 14 files\n"
     ]
    }
   ],
   "source": [
    "!tree /home/scott/Documents/SPEC_Spider"
   ]
  },
  {
   "cell_type": "code",
   "execution_count": 3,
   "id": "bf286a97-b278-4c33-aac5-7507a9c06ffb",
   "metadata": {},
   "outputs": [],
   "source": [
    "import pandas as pd\n",
    "import numpy as np\n",
    "import re"
   ]
  },
  {
   "cell_type": "code",
   "execution_count": 4,
   "id": "909273fb-83f0-45bb-8b32-a750edd6b00f",
   "metadata": {},
   "outputs": [],
   "source": [
    "j2015_com = pd.read_csv(f\"{data_root}/java/jbb2015/SPECjbb2015-Composite.csv\")\n",
    "j2015_dis = pd.read_csv(f\"{data_root}/java/jbb2015/SPECjbb2015-Distributed.csv\")\n",
    "j2015_mul = pd.read_csv(f\"{data_root}/java/jbb2015/SPECjbb2015-MultiJVM.csv\")"
   ]
  },
  {
   "cell_type": "code",
   "execution_count": 5,
   "id": "65c9ee30-f584-41f9-913f-a3066b141644",
   "metadata": {},
   "outputs": [],
   "source": [
    "jbb2015_columns = [\n",
    "    'Suite', 'Vendor', 'System Name', 'max_jOPS', 'cirtical_jOPS',\n",
    "    'Test date', 'Hardware Availability',\n",
    "    'Total Systems', 'Total Nodes', 'Nodes Per System', 'Total Chips', 'Total Cores',\n",
    "    'Total Threads', 'Total Memory Amount (GB)', \n",
    "    'CPU Name', 'CPU Characteristics', 'Number of Systems', 'Chips Per System',\n",
    "    'Cores Per System', 'Cores Per Chip', 'Threads Per System',\n",
    "    'Threads Per Core', 'CPU Frequency (MHz)', 'Primary Cache',\n",
    "    'Secondary Cache', 'Tertiary Cache',\n",
    "    'Disk', 'File System', 'Memory Amount (GB)', '# and size of DIMM(s)',\n",
    "    'Memory Details', 'OS Name', 'OS Vendor', 'OS Version', 'JVM Name', 'JVM Vendor', 'JVM Version',\n",
    "    'URL Suffix'\n",
    "]"
   ]
  },
  {
   "cell_type": "code",
   "execution_count": 6,
   "id": "c771eb82-4b70-4c3d-8e74-287ff42413e4",
   "metadata": {},
   "outputs": [],
   "source": [
    "j2015_com = j2015_com[jbb2015_columns]\n",
    "j2015_mul = j2015_mul[jbb2015_columns]\n",
    "j2015_dis = j2015_dis[jbb2015_columns]"
   ]
  },
  {
   "cell_type": "code",
   "execution_count": 7,
   "id": "43bb1696-d33c-4b40-8ffb-a0bf2bee4ec3",
   "metadata": {},
   "outputs": [],
   "source": [
    "j2015 = pd.concat([j2015_com, j2015_mul, j2015_dis]).reset_index(drop=True)"
   ]
  },
  {
   "cell_type": "code",
   "execution_count": 9,
   "id": "a8dd0fad-28a1-4681-9f7a-df4b0c9e6ca0",
   "metadata": {},
   "outputs": [],
   "source": [
    "j2015_rename_dict = {\n",
    "    'Vendor': 'HW Vendor',\n",
    "    'Test date': 'Test Date',\n",
    "    'Hardware Availability': 'HW Avail',\n",
    "    'CPU Frequency (MHz)': 'CPU MHz',\n",
    "    'Primary Cache': 'L1',\n",
    "    'Secondary Cache': 'L2',\n",
    "    'Tertiary Cache': 'L3',\n",
    "    'Disk': 'Storage',\n",
    "}\n",
    "j2015.rename(columns=j2015_rename_dict, inplace=True)"
   ]
  },
  {
   "cell_type": "markdown",
   "id": "7a0ea901-23a1-4468-a80e-7170005b2605",
   "metadata": {},
   "source": [
    "## Clean Vendor"
   ]
  },
  {
   "cell_type": "code",
   "execution_count": 11,
   "id": "9286a15f-811a-441a-a6c1-b497d3d5c884",
   "metadata": {},
   "outputs": [],
   "source": [
    "def clean_vendor(vendor):\n",
    "    def _clear(pattern):\n",
    "        return re.sub(re.compile(pattern, re.IGNORECASE), '', vendor)\n",
    "    vendor = vendor.strip()\n",
    "    patterns = [\n",
    "        ' *[(].*[)]',\n",
    "        ',* *Ltd\\.*$|,* *Inc\\.*$',\n",
    "        ',* *Co\\.*$|,* *Corporation\\.*$|,* *Corparation\\.*$|,* *Corp\\.*$| Incoporated$| Incorporated$| Incorporation$',\n",
    "        ' International$',\n",
    "        ' Computer[s]*$',\n",
    "        ' Technology$'\n",
    "    ]\n",
    "    for pattern in patterns:\n",
    "        vendor = _clear(pattern)\n",
    "    \n",
    "    replace_pairs = [\n",
    "        ('^Huawei', 'Huawei'),\n",
    "        ('^ASUS', 'ASUS'),\n",
    "        ('^acer', 'Acer'),\n",
    "        ('^Hewlett[ -]*Packard', 'HPE'),\n",
    "        ('^Inspur', 'Inspur'),\n",
    "        ('H3C', 'H3C'),\n",
    "        ('^Giga[ -]*byte', 'Gigabyte'),\n",
    "        ('^Fujitsu', 'Fujitsu'),\n",
    "        ('^Hitachi', 'Hitachi'),\n",
    "        ('^Lenovo', 'Lenovo'),\n",
    "        ('^Quanta', 'Quanta'),\n",
    "        ('^Super[ -]*Micro', 'SuperMicro'),\n",
    "        ('^UNIWIDE', 'Uniwide'),\n",
    "        ('^Wizbrain', 'Wizbrain'),\n",
    "        ('^ScaleMP', 'ScaleMP'),\n",
    "        ('^AMD', 'AMD'),\n",
    "        ('Advanced Micro Devices', 'AMD'),\n",
    "        ('^Hewelett-Packard', 'HPE'),\n",
    "        ('^Oracl', 'Oracle'),\n",
    "        ('^BEA', 'BEA'),\n",
    "        ('^OpenJDK', 'OpenJDK'),\n",
    "    ]\n",
    "    for pair in replace_pairs:\n",
    "        if len(re.findall(re.compile(pair[0], re.IGNORECASE), vendor)):\n",
    "            vendor = pair[1]\n",
    "    \n",
    "    return vendor"
   ]
  },
  {
   "cell_type": "code",
   "execution_count": 13,
   "id": "41ce5797-bf8e-4747-bdab-6982fe36814f",
   "metadata": {},
   "outputs": [],
   "source": [
    "j2015['HW Vendor'] = j2015['HW Vendor'].apply(lambda x: clean_vendor(x))"
   ]
  },
  {
   "cell_type": "code",
   "execution_count": 15,
   "id": "d810b94a-ca06-45a4-beb5-fbf5beb36d99",
   "metadata": {},
   "outputs": [],
   "source": [
    "def parse_system_name(info):\n",
    "    info = re.sub('[(].*[)]', '', info)\n",
    "    info = re.sub('[(]|[)]', '', info)\n",
    "    info = info.strip()\n",
    "    info = info.split(',')[0]\n",
    "    info = re.sub(' AMD.*?', '', info)\n",
    "    info = re.sub(' Intel.*', '', info)\n",
    "    info = re.sub('\\d+.*\\d*GHz$', '', info)\n",
    "    info = re.sub('^vSMP ServerONE Supermicro ', '', info)\n",
    "    info = info.strip()\n",
    "    return info"
   ]
  },
  {
   "cell_type": "code",
   "execution_count": 19,
   "id": "ff22423d-9e8a-42d8-9edd-074a4bf22a8b",
   "metadata": {},
   "outputs": [],
   "source": [
    "j2015['System Name'] = j2015['System Name'].apply(lambda x: parse_system_name(x))"
   ]
  },
  {
   "cell_type": "code",
   "execution_count": 18,
   "id": "91a34c81-522a-4184-9387-70ac5759daee",
   "metadata": {},
   "outputs": [
    {
     "data": {
      "text/plain": [
       "(157,)"
      ]
     },
     "execution_count": 18,
     "metadata": {},
     "output_type": "execute_result"
    }
   ],
   "source": [
    "j2015['System Name'].unique().shape"
   ]
  },
  {
   "cell_type": "markdown",
   "id": "2aba92f4-2cb8-4cbb-91c7-37d1f4b145ef",
   "metadata": {},
   "source": [
    "## Clean CPU"
   ]
  },
  {
   "cell_type": "code",
   "execution_count": 21,
   "id": "a106d0b8-1441-4d09-9c31-aa628d59d712",
   "metadata": {},
   "outputs": [
    {
     "data": {
      "text/plain": [
       "Index(['Suite', 'HW Vendor', 'System Name', 'max_jOPS', 'cirtical_jOPS',\n",
       "       'Test Date', 'HW Avail', 'Total Systems', 'Total Nodes',\n",
       "       'Nodes Per System', 'Total Chips', 'Total Cores', 'Total Threads',\n",
       "       'Total Memory Amount (GB)', 'CPU Name', 'CPU Characteristics',\n",
       "       'Number of Systems', 'Chips Per System', 'Cores Per System',\n",
       "       'Cores Per Chip', 'Threads Per System', 'Threads Per Core', 'CPU MHz',\n",
       "       'L1', 'L2', 'L3', 'Storage', 'File System', 'Memory Amount (GB)',\n",
       "       '# and size of DIMM(s)', 'Memory Details', 'OS Name', 'OS Vendor',\n",
       "       'OS Version', 'JVM Name', 'JVM Vendor', 'JVM Version', 'URL Suffix'],\n",
       "      dtype='object')"
      ]
     },
     "execution_count": 21,
     "metadata": {},
     "output_type": "execute_result"
    }
   ],
   "source": [
    "j2015.columns"
   ]
  },
  {
   "cell_type": "code",
   "execution_count": 23,
   "id": "2cb0dda6-7991-4d68-9770-981cb812ba63",
   "metadata": {},
   "outputs": [],
   "source": [
    "def get_cpu_vendor(cpu_name):\n",
    "    item = cpu_name.split()[0]\n",
    "    if item in ['Intel', 'AMD', 'Huawei']:\n",
    "        vendor = item\n",
    "    else:\n",
    "        vendor = 'Other'\n",
    "    return vendor\n",
    "j2015['CPU Vendor'] = j2015['CPU Name'].apply(lambda x: get_cpu_vendor(x))"
   ]
  },
  {
   "cell_type": "code",
   "execution_count": 26,
   "id": "2b19c090-c415-4766-a47f-ad5f0246424f",
   "metadata": {},
   "outputs": [],
   "source": [
    "j2015['CPU MHz'] = j2015['CPU MHz'].apply(lambda x: round(x /1000, 2))"
   ]
  },
  {
   "cell_type": "code",
   "execution_count": 28,
   "id": "49201d1c-f6c1-49be-8073-10072f9dec6c",
   "metadata": {},
   "outputs": [],
   "source": [
    "def parse_cpu_char(info):\n",
    "    items = re.findall('\\d+\\.*\\d*[ ]?G[ ]?Hz', info)\n",
    "    if len(items) == 0:\n",
    "        items = re.findall('\\d+\\.*\\d*[ ]?M[ ]?Hz', info)\n",
    "        if len(items) == 0:\n",
    "            value = 0\n",
    "        else:\n",
    "            value = float(re.sub('[ ]?M[ ]?Hz', '', items[0]))\n",
    "    else:\n",
    "        value = float(re.sub('[ ]?G[ ]?Hz', '', items[0]))\n",
    "    return value"
   ]
  },
  {
   "cell_type": "code",
   "execution_count": 31,
   "id": "5cdbc9f9-4b7b-4e05-8f9b-f45a10afbd50",
   "metadata": {},
   "outputs": [],
   "source": [
    "j2015['Max MHz'] = j2015['CPU Characteristics'].apply(lambda x: parse_cpu_char(x))"
   ]
  },
  {
   "cell_type": "code",
   "execution_count": 33,
   "id": "1ca0c163-32e3-4114-881c-006696ff0341",
   "metadata": {},
   "outputs": [],
   "source": [
    "f = j2015['Max MHz'] == 0.\n",
    "indices = j2015[f].index\n",
    "cpu_mhz = j2015.loc[indices, 'CPU MHz']\n",
    "j2015.loc[indices, 'Max MHz'] = j2015.loc[indices, 'CPU MHz']"
   ]
  },
  {
   "cell_type": "code",
   "execution_count": 36,
   "id": "612c2126-b317-4d33-aa34-01113bc6b45b",
   "metadata": {},
   "outputs": [],
   "source": [
    "j2015['File System'] = j2015['File System'].apply(lambda x: x.lower())"
   ]
  },
  {
   "cell_type": "code",
   "execution_count": null,
   "id": "7d54de3d-c48e-4379-ad34-c73207c03018",
   "metadata": {},
   "outputs": [],
   "source": []
  },
  {
   "cell_type": "code",
   "execution_count": 48,
   "id": "d04a355b-ee41-4e17-ab3a-2e77edfafa2f",
   "metadata": {},
   "outputs": [],
   "source": [
    "def parse_memory_amount(item):\n",
    "    if type(item) != int:\n",
    "        if 'GB' in item:\n",
    "            item = re.sub('GB', '', item)\n",
    "        item = item.strip()\n",
    "        item = int(item)\n",
    "    return item\n",
    "j2015['Memory Amount (GB)'] = j2015['Memory Amount (GB)'].apply(lambda x: parse_memory_amount(x))"
   ]
  },
  {
   "cell_type": "code",
   "execution_count": 51,
   "id": "02f254d2-cdfd-4695-a2a6-714efeb62197",
   "metadata": {},
   "outputs": [],
   "source": [
    "j2015['Total Memory Amount (GB)'] = j2015['Total Memory Amount (GB)'].apply(lambda x: parse_memory_amount(x))"
   ]
  },
  {
   "cell_type": "code",
   "execution_count": 58,
   "id": "0bce51df-cade-467d-a484-62ca855ddcf2",
   "metadata": {},
   "outputs": [],
   "source": [
    "def get_memory_num(info):\n",
    "    items = re.findall('\\d+[ ]*x', info)\n",
    "    if len(items) == 0:\n",
    "        number = 1\n",
    "    else:\n",
    "        number = int(re.sub('[ ]*x', '', items[0]))\n",
    "    return number"
   ]
  },
  {
   "cell_type": "code",
   "execution_count": 60,
   "id": "cbabb1ac-54b0-47e5-95b4-d0d2426db773",
   "metadata": {},
   "outputs": [],
   "source": [
    "j2015['Memory Number'] = j2015['# and size of DIMM(s)'].apply(lambda x: get_memory_num(x))"
   ]
  },
  {
   "cell_type": "code",
   "execution_count": 61,
   "id": "a6c11e4e-1a12-439a-a19d-0517e63f465d",
   "metadata": {},
   "outputs": [
    {
     "data": {
      "text/html": [
       "<div>\n",
       "<style scoped>\n",
       "    .dataframe tbody tr th:only-of-type {\n",
       "        vertical-align: middle;\n",
       "    }\n",
       "\n",
       "    .dataframe tbody tr th {\n",
       "        vertical-align: top;\n",
       "    }\n",
       "\n",
       "    .dataframe thead th {\n",
       "        text-align: right;\n",
       "    }\n",
       "</style>\n",
       "<table border=\"1\" class=\"dataframe\">\n",
       "  <thead>\n",
       "    <tr style=\"text-align: right;\">\n",
       "      <th></th>\n",
       "      <th># and size of DIMM(s)</th>\n",
       "      <th>Memory Details</th>\n",
       "      <th>Memory Amount (GB)</th>\n",
       "      <th>Total Memory Amount (GB)</th>\n",
       "      <th>Memory Number</th>\n",
       "    </tr>\n",
       "  </thead>\n",
       "  <tbody>\n",
       "    <tr>\n",
       "      <th>0</th>\n",
       "      <td>16 x 64 GB</td>\n",
       "      <td>64 GB 2Rx4 PC4-3200AA-R</td>\n",
       "      <td>1024</td>\n",
       "      <td>1024</td>\n",
       "      <td>16</td>\n",
       "    </tr>\n",
       "    <tr>\n",
       "      <th>1</th>\n",
       "      <td>4 x 16GB</td>\n",
       "      <td>16GB 2Rx8 PC4-2666V-E</td>\n",
       "      <td>64</td>\n",
       "      <td>64</td>\n",
       "      <td>4</td>\n",
       "    </tr>\n",
       "    <tr>\n",
       "      <th>2</th>\n",
       "      <td>4 x 16GB</td>\n",
       "      <td>16GB 2Rx8 PC4-2666V-E</td>\n",
       "      <td>64</td>\n",
       "      <td>64</td>\n",
       "      <td>4</td>\n",
       "    </tr>\n",
       "    <tr>\n",
       "      <th>3</th>\n",
       "      <td>4 x 16GB</td>\n",
       "      <td>16GB 2Rx8 PC4-2666V-E</td>\n",
       "      <td>64</td>\n",
       "      <td>64</td>\n",
       "      <td>4</td>\n",
       "    </tr>\n",
       "    <tr>\n",
       "      <th>4</th>\n",
       "      <td>24 x 32 GB</td>\n",
       "      <td>32GB 2Rx4 PC4-2666V-R</td>\n",
       "      <td>768</td>\n",
       "      <td>768</td>\n",
       "      <td>24</td>\n",
       "    </tr>\n",
       "    <tr>\n",
       "      <th>...</th>\n",
       "      <td>...</td>\n",
       "      <td>...</td>\n",
       "      <td>...</td>\n",
       "      <td>...</td>\n",
       "      <td>...</td>\n",
       "    </tr>\n",
       "    <tr>\n",
       "      <th>662</th>\n",
       "      <td>16 x 32768 MB</td>\n",
       "      <td>32 GB 2Rx4 PC4-2400T-R</td>\n",
       "      <td>512</td>\n",
       "      <td>512</td>\n",
       "      <td>16</td>\n",
       "    </tr>\n",
       "    <tr>\n",
       "      <th>663</th>\n",
       "      <td>48 x 16 GB</td>\n",
       "      <td>768 GB (48 x 16 GB 2Rx8 PC4-2666V)</td>\n",
       "      <td>768</td>\n",
       "      <td>768</td>\n",
       "      <td>48</td>\n",
       "    </tr>\n",
       "    <tr>\n",
       "      <th>664</th>\n",
       "      <td>24 x 64 GB</td>\n",
       "      <td>1536 GB (24 x 64 GB 4Rx4 PC4-2666V-L)</td>\n",
       "      <td>1536</td>\n",
       "      <td>1536</td>\n",
       "      <td>24</td>\n",
       "    </tr>\n",
       "    <tr>\n",
       "      <th>665</th>\n",
       "      <td>16 x 64 GB</td>\n",
       "      <td>64 GB 4Rx4 PC4-3200AA-L</td>\n",
       "      <td>1024</td>\n",
       "      <td>1024</td>\n",
       "      <td>16</td>\n",
       "    </tr>\n",
       "    <tr>\n",
       "      <th>666</th>\n",
       "      <td>16 x 64 GB</td>\n",
       "      <td>64 GB 4Rx4 PC4-3200AA-L</td>\n",
       "      <td>1024</td>\n",
       "      <td>1024</td>\n",
       "      <td>16</td>\n",
       "    </tr>\n",
       "  </tbody>\n",
       "</table>\n",
       "<p>667 rows × 5 columns</p>\n",
       "</div>"
      ],
      "text/plain": [
       "    # and size of DIMM(s)                         Memory Details  \\\n",
       "0              16 x 64 GB                64 GB 2Rx4 PC4-3200AA-R   \n",
       "1                4 x 16GB                  16GB 2Rx8 PC4-2666V-E   \n",
       "2                4 x 16GB                  16GB 2Rx8 PC4-2666V-E   \n",
       "3                4 x 16GB                  16GB 2Rx8 PC4-2666V-E   \n",
       "4              24 x 32 GB                  32GB 2Rx4 PC4-2666V-R   \n",
       "..                    ...                                    ...   \n",
       "662         16 x 32768 MB                 32 GB 2Rx4 PC4-2400T-R   \n",
       "663            48 x 16 GB     768 GB (48 x 16 GB 2Rx8 PC4-2666V)   \n",
       "664            24 x 64 GB  1536 GB (24 x 64 GB 4Rx4 PC4-2666V-L)   \n",
       "665            16 x 64 GB                64 GB 4Rx4 PC4-3200AA-L   \n",
       "666            16 x 64 GB                64 GB 4Rx4 PC4-3200AA-L   \n",
       "\n",
       "     Memory Amount (GB)  Total Memory Amount (GB)  Memory Number  \n",
       "0                  1024                      1024             16  \n",
       "1                    64                        64              4  \n",
       "2                    64                        64              4  \n",
       "3                    64                        64              4  \n",
       "4                   768                       768             24  \n",
       "..                  ...                       ...            ...  \n",
       "662                 512                       512             16  \n",
       "663                 768                       768             48  \n",
       "664                1536                      1536             24  \n",
       "665                1024                      1024             16  \n",
       "666                1024                      1024             16  \n",
       "\n",
       "[667 rows x 5 columns]"
      ]
     },
     "execution_count": 61,
     "metadata": {},
     "output_type": "execute_result"
    }
   ],
   "source": [
    "j2015[['# and size of DIMM(s)', 'Memory Details', 'Memory Amount (GB)', 'Total Memory Amount (GB)', 'Memory Number']]"
   ]
  },
  {
   "cell_type": "code",
   "execution_count": null,
   "id": "50195c69-3e19-4e32-8f96-98d34db25d2a",
   "metadata": {},
   "outputs": [],
   "source": []
  },
  {
   "cell_type": "code",
   "execution_count": 63,
   "id": "2dc31548-4b56-4a7b-89af-50adc9aa34a2",
   "metadata": {},
   "outputs": [],
   "source": [
    "def parse_storage(info):\n",
    "    if 'SSD' in info.upper():\n",
    "        storage_type = 'SSD'\n",
    "    elif 'HDD' in info.upper():\n",
    "        storage_type = 'HDD'\n",
    "    elif 'ramfs' in info.lower():\n",
    "        storage_type = 'ramfs'\n",
    "    elif 'tmpfs' in info.lower():\n",
    "        storage_type = 'tmpfs'\n",
    "    elif 'zfs' in info.lower():\n",
    "        storage_type = 'zfs'\n",
    "    else:\n",
    "        storage_type = 'SSD'\n",
    "    return storage_type"
   ]
  },
  {
   "cell_type": "code",
   "execution_count": 65,
   "id": "9e3e6ca7-18d8-4a14-a4db-ea954ea65b81",
   "metadata": {},
   "outputs": [],
   "source": [
    "j2015['Storage Type'] = j2015['Storage'].apply(lambda x: parse_storage(x))"
   ]
  },
  {
   "cell_type": "code",
   "execution_count": 67,
   "id": "3e0e87a0-5bcc-46b7-af26-267a31b72097",
   "metadata": {},
   "outputs": [
    {
     "data": {
      "text/plain": [
       "Index(['Suite', 'HW Vendor', 'System Name', 'max_jOPS', 'cirtical_jOPS',\n",
       "       'Test Date', 'HW Avail', 'Total Systems', 'Total Nodes',\n",
       "       'Nodes Per System', 'Total Chips', 'Total Cores', 'Total Threads',\n",
       "       'Total Memory Amount (GB)', 'CPU Name', 'CPU Characteristics',\n",
       "       'Number of Systems', 'Chips Per System', 'Cores Per System',\n",
       "       'Cores Per Chip', 'Threads Per System', 'Threads Per Core', 'CPU MHz',\n",
       "       'L1', 'L2', 'L3', 'Storage', 'File System', 'Memory Amount (GB)',\n",
       "       '# and size of DIMM(s)', 'Memory Details', 'OS Name', 'OS Vendor',\n",
       "       'OS Version', 'JVM Name', 'JVM Vendor', 'JVM Version', 'URL Suffix',\n",
       "       'CPU Vendor', 'Max MHz', 'Memory Number', 'Storage Type'],\n",
       "      dtype='object')"
      ]
     },
     "execution_count": 67,
     "metadata": {},
     "output_type": "execute_result"
    }
   ],
   "source": [
    "j2015.columns"
   ]
  },
  {
   "cell_type": "code",
   "execution_count": 68,
   "id": "abddcffd-0ee1-4527-9288-20028b9d83df",
   "metadata": {},
   "outputs": [
    {
     "data": {
      "text/html": [
       "<div>\n",
       "<style scoped>\n",
       "    .dataframe tbody tr th:only-of-type {\n",
       "        vertical-align: middle;\n",
       "    }\n",
       "\n",
       "    .dataframe tbody tr th {\n",
       "        vertical-align: top;\n",
       "    }\n",
       "\n",
       "    .dataframe thead th {\n",
       "        text-align: right;\n",
       "    }\n",
       "</style>\n",
       "<table border=\"1\" class=\"dataframe\">\n",
       "  <thead>\n",
       "    <tr style=\"text-align: right;\">\n",
       "      <th></th>\n",
       "      <th>OS Name</th>\n",
       "      <th>OS Version</th>\n",
       "    </tr>\n",
       "  </thead>\n",
       "  <tbody>\n",
       "    <tr>\n",
       "      <th>0</th>\n",
       "      <td>SUSE Linux Enterprise Server 15 SP2</td>\n",
       "      <td>5.3.18-22-default</td>\n",
       "    </tr>\n",
       "    <tr>\n",
       "      <th>1</th>\n",
       "      <td>SUSE Linux Enterprise Server 15</td>\n",
       "      <td>4.12.14-23-default</td>\n",
       "    </tr>\n",
       "    <tr>\n",
       "      <th>2</th>\n",
       "      <td>SUSE Linux Enterprise Server 15</td>\n",
       "      <td>4.12.14-23-default</td>\n",
       "    </tr>\n",
       "    <tr>\n",
       "      <th>3</th>\n",
       "      <td>SUSE Linux Enterprise Server 15</td>\n",
       "      <td>4.12.14-23-default</td>\n",
       "    </tr>\n",
       "    <tr>\n",
       "      <th>4</th>\n",
       "      <td>Red Hat Enterprise Linux Server 7.4</td>\n",
       "      <td>3.10.0-693.11.6.el7.x86_64</td>\n",
       "    </tr>\n",
       "    <tr>\n",
       "      <th>...</th>\n",
       "      <td>...</td>\n",
       "      <td>...</td>\n",
       "    </tr>\n",
       "    <tr>\n",
       "      <th>662</th>\n",
       "      <td>Red Hat Enterprise Linux Server 7.2</td>\n",
       "      <td>3.10.0-327</td>\n",
       "    </tr>\n",
       "    <tr>\n",
       "      <th>663</th>\n",
       "      <td>SUSE Linux Enterprise Server 12 SP2</td>\n",
       "      <td>4.4.21-69-default</td>\n",
       "    </tr>\n",
       "    <tr>\n",
       "      <th>664</th>\n",
       "      <td>Red Hat Enterprise Linux</td>\n",
       "      <td>Red Hat Enterprise Linux Server release 7.3 (M...</td>\n",
       "    </tr>\n",
       "    <tr>\n",
       "      <th>665</th>\n",
       "      <td>SUSE Linux Enterprise Server 15 SP2</td>\n",
       "      <td>5.3.18.22-default</td>\n",
       "    </tr>\n",
       "    <tr>\n",
       "      <th>666</th>\n",
       "      <td>SUSE Linux Enterprise Server 15 SP2</td>\n",
       "      <td>5.3.18.22-default</td>\n",
       "    </tr>\n",
       "  </tbody>\n",
       "</table>\n",
       "<p>667 rows × 2 columns</p>\n",
       "</div>"
      ],
      "text/plain": [
       "                                 OS Name  \\\n",
       "0    SUSE Linux Enterprise Server 15 SP2   \n",
       "1        SUSE Linux Enterprise Server 15   \n",
       "2        SUSE Linux Enterprise Server 15   \n",
       "3        SUSE Linux Enterprise Server 15   \n",
       "4    Red Hat Enterprise Linux Server 7.4   \n",
       "..                                   ...   \n",
       "662  Red Hat Enterprise Linux Server 7.2   \n",
       "663  SUSE Linux Enterprise Server 12 SP2   \n",
       "664             Red Hat Enterprise Linux   \n",
       "665  SUSE Linux Enterprise Server 15 SP2   \n",
       "666  SUSE Linux Enterprise Server 15 SP2   \n",
       "\n",
       "                                            OS Version  \n",
       "0                                    5.3.18-22-default  \n",
       "1                                   4.12.14-23-default  \n",
       "2                                   4.12.14-23-default  \n",
       "3                                   4.12.14-23-default  \n",
       "4                           3.10.0-693.11.6.el7.x86_64  \n",
       "..                                                 ...  \n",
       "662                                         3.10.0-327  \n",
       "663                                  4.4.21-69-default  \n",
       "664  Red Hat Enterprise Linux Server release 7.3 (M...  \n",
       "665                                  5.3.18.22-default  \n",
       "666                                  5.3.18.22-default  \n",
       "\n",
       "[667 rows x 2 columns]"
      ]
     },
     "execution_count": 68,
     "metadata": {},
     "output_type": "execute_result"
    }
   ],
   "source": [
    "j2015[['OS Name', 'OS Version']]"
   ]
  }
 ],
 "metadata": {
  "kernelspec": {
   "display_name": "Python 3 (ipykernel)",
   "language": "python",
   "name": "python3"
  },
  "language_info": {
   "codemirror_mode": {
    "name": "ipython",
    "version": 3
   },
   "file_extension": ".py",
   "mimetype": "text/x-python",
   "name": "python",
   "nbconvert_exporter": "python",
   "pygments_lexer": "ipython3",
   "version": "3.8.12"
  }
 },
 "nbformat": 4,
 "nbformat_minor": 5
}
