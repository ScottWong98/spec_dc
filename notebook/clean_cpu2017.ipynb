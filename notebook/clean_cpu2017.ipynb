{
 "cells": [
  {
   "cell_type": "code",
   "execution_count": 1,
   "id": "51e56461-573a-47e2-bd35-b1679b6f8de0",
   "metadata": {},
   "outputs": [],
   "source": [
    "data_root = '/home/scott/Documents/SPEC_Spider'"
   ]
  },
  {
   "cell_type": "code",
   "execution_count": 2,
   "id": "73dde524-0747-4b50-b698-4b23aa0863d8",
   "metadata": {},
   "outputs": [
    {
     "name": "stdout",
     "output_type": "stream",
     "text": [
      "\u001b[01;34m/home/scott/Documents/SPEC_Spider\u001b[0m\n",
      "├── \u001b[01;34mcpu\u001b[0m\n",
      "│   ├── \u001b[01;34mcpu2006\u001b[0m\n",
      "│   │   ├── \u001b[00mSPECfp.csv\u001b[0m\n",
      "│   │   ├── \u001b[00mSPECfp_rate.csv\u001b[0m\n",
      "│   │   ├── \u001b[00mSPECint.csv\u001b[0m\n",
      "│   │   └── \u001b[00mSPECint_rate.csv\u001b[0m\n",
      "│   └── \u001b[01;34mcpu2017\u001b[0m\n",
      "│       ├── \u001b[00mCFP2017_rate.csv\u001b[0m\n",
      "│       ├── \u001b[00mCFP2017_speed.csv\u001b[0m\n",
      "│       ├── \u001b[00mCINT2017_rate.csv\u001b[0m\n",
      "│       └── \u001b[00mCINT2017_speed.csv\u001b[0m\n",
      "├── \u001b[01;34mjava\u001b[0m\n",
      "│   ├── \u001b[01;34mjbb2015\u001b[0m\n",
      "│   │   ├── \u001b[00mSPECjbb2015-Composite.csv\u001b[0m\n",
      "│   │   ├── \u001b[00mSPECjbb2015-Distributed.csv\u001b[0m\n",
      "│   │   └── \u001b[00mSPECjbb2015-MultiJVM.csv\u001b[0m\n",
      "│   └── \u001b[01;34mjvm2008\u001b[0m\n",
      "│       └── \u001b[00mjvm2008.csv\u001b[0m\n",
      "├── \u001b[00mjbb2015.csv\u001b[0m\n",
      "└── \u001b[01;34mpower\u001b[0m\n",
      "    └── \u001b[00mssj2008.csv\u001b[0m\n",
      "\n",
      "7 directories, 14 files\n"
     ]
    }
   ],
   "source": [
    "!tree /home/scott/Documents/SPEC_Spider"
   ]
  },
  {
   "cell_type": "code",
   "execution_count": 3,
   "id": "5e2f3661-b86a-4673-85d8-5f85f526ef48",
   "metadata": {},
   "outputs": [],
   "source": [
    "import pandas as pd\n",
    "import numpy as np\n",
    "import re"
   ]
  },
  {
   "cell_type": "code",
   "execution_count": 4,
   "id": "916d3d2d-b8be-4010-91a8-f666c63c4a9a",
   "metadata": {},
   "outputs": [],
   "source": [
    "c2017_rfp = pd.read_csv(f\"{data_root}/cpu/cpu2017/CFP2017_rate.csv\")\n",
    "c2017_sfp = pd.read_csv(f\"{data_root}/cpu/cpu2017/CFP2017_speed.csv\")\n",
    "c2017_rint = pd.read_csv(f\"{data_root}/cpu/cpu2017/CINT2017_rate.csv\")\n",
    "c2017_sint = pd.read_csv(f\"{data_root}/cpu/cpu2017/CINT2017_speed.csv\")"
   ]
  },
  {
   "cell_type": "code",
   "execution_count": 5,
   "id": "8881cbe2-6c2c-4818-b6f9-33edcfdea0d1",
   "metadata": {},
   "outputs": [],
   "source": [
    "cpu2017_columns = [\n",
    "    'Suite', 'Hardware Vendor', 'System Name', 'Baseline',\n",
    "    'Test Date', 'HW Avail', 'CPU Name', 'Max MHz',\n",
    "    'Nominal', 'Enabled', 'Orderable', 'L1',\n",
    "    'L2', 'L3', 'Memory', 'Storage',\n",
    "    'OS', 'File System', 'URL Suffix',\n",
    "]\n",
    "c2017_rfp = c2017_rfp[cpu2017_columns]\n",
    "c2017_sfp = c2017_sfp[cpu2017_columns]\n",
    "c2017_rint = c2017_rint[cpu2017_columns]\n",
    "c2017_sint = c2017_sint[cpu2017_columns]"
   ]
  },
  {
   "cell_type": "code",
   "execution_count": 7,
   "id": "895a59d5-ece9-41e9-b2db-6ce9a17d06ab",
   "metadata": {},
   "outputs": [],
   "source": [
    "c2017 = pd.concat([c2017_rfp, c2017_sfp, c2017_rint, c2017_sint]).reset_index(drop=True)"
   ]
  },
  {
   "cell_type": "code",
   "execution_count": 8,
   "id": "353da31a-6b74-40e8-b473-339ffade2b57",
   "metadata": {},
   "outputs": [],
   "source": [
    "c2017_rename_dict = {\n",
    "    'Hardware Vendor': 'HW Vendor',\n",
    "    'Nominal': 'CPU MHz',\n",
    "    'Enabled': 'CPU Enabled',\n",
    "    'Orderable': 'CPU Orderable',\n",
    "    'L1': 'L1 Cache',\n",
    "    'L2': 'L2 Cache',\n",
    "    'L3': 'L3 Cache'\n",
    "}\n",
    "c2017.rename(columns=c2017_rename_dict, inplace=True)"
   ]
  },
  {
   "cell_type": "code",
   "execution_count": 9,
   "id": "27889d9a-4b4e-4fbd-82df-11b084b99aaa",
   "metadata": {},
   "outputs": [],
   "source": [
    "c2017 = c2017[~c2017.isnull().any(axis=1)].reset_index(drop=True)"
   ]
  },
  {
   "cell_type": "code",
   "execution_count": 11,
   "id": "8835192a-bc30-4b32-8eb3-269e9894bbc7",
   "metadata": {},
   "outputs": [
    {
     "data": {
      "text/plain": [
       "Index(['Suite', 'HW Vendor', 'System Name', 'Baseline', 'Test Date',\n",
       "       'HW Avail', 'CPU Name', 'Max MHz', 'CPU MHz', 'CPU Enabled',\n",
       "       'CPU Orderable', 'L1 Cache', 'L2 Cache', 'L3 Cache', 'Memory',\n",
       "       'Storage', 'OS', 'File System', 'URL Suffix'],\n",
       "      dtype='object')"
      ]
     },
     "execution_count": 11,
     "metadata": {},
     "output_type": "execute_result"
    }
   ],
   "source": [
    "c2017.columns"
   ]
  },
  {
   "cell_type": "markdown",
   "id": "f1579582-a2c6-4a7c-b9a3-0b8b5a35153f",
   "metadata": {},
   "source": [
    "## Clean Vendor and System Name"
   ]
  },
  {
   "cell_type": "code",
   "execution_count": 10,
   "id": "b6dcc227-23ec-4abb-ba2c-15a5522d9d33",
   "metadata": {},
   "outputs": [],
   "source": [
    "def clean_vendor(vendor):\n",
    "    def _clear(pattern):\n",
    "        return re.sub(re.compile(pattern, re.IGNORECASE), '', vendor)\n",
    "    vendor = vendor.strip()\n",
    "    patterns = [\n",
    "        ' *[(].*[)]',\n",
    "        ',* *Ltd\\.*$|,* *Inc\\.*$',\n",
    "        ',* *Co\\.*$|,* *Corporation\\.*$|,* *Corparation\\.*$|,* *Corp\\.*$| Incoporated$| Incorporated$| Incorporation$',\n",
    "        ' International$',\n",
    "        ' Computer[s]*$',\n",
    "        ' Technology$'\n",
    "    ]\n",
    "    for pattern in patterns:\n",
    "        vendor = _clear(pattern)\n",
    "    \n",
    "    replace_pairs = [\n",
    "        ('^Huawei', 'Huawei'),\n",
    "        ('^ASUS', 'ASUS'),\n",
    "        ('^acer', 'Acer'),\n",
    "        ('^Hewlett[ -]*Packard', 'HPE'),\n",
    "        ('^Inspur', 'Inspur'),\n",
    "        ('H3C', 'H3C'),\n",
    "        ('^Giga[ -]*byte', 'Gigabyte'),\n",
    "        ('^Fujitsu', 'Fujitsu'),\n",
    "        ('^Hitachi', 'Hitachi'),\n",
    "        ('^Lenovo', 'Lenovo'),\n",
    "        ('^Quanta', 'Quanta'),\n",
    "        ('^Super[ -]*Micro', 'SuperMicro'),\n",
    "        ('^UNIWIDE', 'Uniwide'),\n",
    "        ('^Wizbrain', 'Wizbrain'),\n",
    "        ('^ScaleMP', 'ScaleMP'),\n",
    "        ('^AMD', 'AMD'),\n",
    "        ('Advanced Micro Devices', 'AMD'),\n",
    "        ('^Hewelett-Packard', 'HPE'),\n",
    "        ('^Oracl', 'Oracle'),\n",
    "        ('^BEA', 'BEA'),\n",
    "        ('^OpenJDK', 'OpenJDK'),\n",
    "    ]\n",
    "    for pair in replace_pairs:\n",
    "        if len(re.findall(re.compile(pair[0], re.IGNORECASE), vendor)):\n",
    "            vendor = pair[1]\n",
    "    \n",
    "    return vendor"
   ]
  },
  {
   "cell_type": "code",
   "execution_count": 13,
   "id": "a97e55ee-7c1d-435f-a13b-85dcc21bebf6",
   "metadata": {},
   "outputs": [],
   "source": [
    "c2017['HW Vendor'] = c2017['HW Vendor'].apply(lambda x: clean_vendor(x))"
   ]
  },
  {
   "cell_type": "code",
   "execution_count": 69,
   "id": "4c7514f0-0f24-4ba6-90c0-954f4f9e8e66",
   "metadata": {},
   "outputs": [],
   "source": [
    "def parse_system_name(info):\n",
    "    info = re.sub('[(].*[)]', '', info)\n",
    "    info = re.sub('[(]|[)]', '', info)\n",
    "    info = info.strip()\n",
    "    info = info.split(',')[0]\n",
    "    info = re.sub(' AMD.*?', '', info)\n",
    "    info = re.sub(' Intel.*', '', info)\n",
    "    info = re.sub('\\d+.*\\d*GHz$', '', info)\n",
    "    info = re.sub('^vSMP ServerONE Supermicro ', '', info)\n",
    "    info = info.strip()\n",
    "    return info\n",
    "c2017['System Name'] = c2017['System Name'].apply(lambda x: parse_system_name(x))"
   ]
  },
  {
   "cell_type": "markdown",
   "id": "107ef56a-0b4f-4a56-a55f-09dc260870f7",
   "metadata": {},
   "source": [
    "## Clean CPU"
   ]
  },
  {
   "cell_type": "code",
   "execution_count": 70,
   "id": "1fa76535-71dc-42bf-9651-89eaa5dc4eb3",
   "metadata": {},
   "outputs": [],
   "source": [
    "def get_cpu_vendor(cpu_name):\n",
    "    item = cpu_name.split()[0]\n",
    "    if item in ['Intel', 'AMD', 'Huawei']:\n",
    "        vendor = item\n",
    "    else:\n",
    "        vendor = 'Other'\n",
    "    return vendor\n",
    "c2017['CPU Vendor'] = c2017['CPU Name'].apply(lambda x: get_cpu_vendor(x))"
   ]
  },
  {
   "cell_type": "code",
   "execution_count": 71,
   "id": "033f0b1a-53aa-41a0-ade9-9480d99a7647",
   "metadata": {},
   "outputs": [],
   "source": [
    "c2017['Max MHz'] = c2017['Max MHz'].apply(lambda x: round(x / 1000, 2))\n",
    "c2017['CPU MHz'] = c2017['CPU MHz'].apply(lambda x: round(x / 1000, 2))"
   ]
  },
  {
   "cell_type": "code",
   "execution_count": 72,
   "id": "c4fded23-04be-4e2f-b129-25ca278781cd",
   "metadata": {},
   "outputs": [],
   "source": [
    "def parse_cpu_enabled(info):\n",
    "    items = info.split(',')\n",
    "    threads_per_core = 1\n",
    "    total_cores = int(items[0].split()[0])\n",
    "    chips = int(items[1].split()[0])\n",
    "    if len(items) == 3:\n",
    "        threads_per_core = (items[-1].split()[0])\n",
    "    return pd.Series({\n",
    "        'Total Cores': total_cores,\n",
    "        'Chips': chips,\n",
    "        'Threads Per Core': threads_per_core,\n",
    "    })\n",
    "c2017[['Total Cores', 'Chips', 'Threads Per Core']] = c2017['CPU Enabled'].apply(lambda x: parse_cpu_enabled(x))"
   ]
  },
  {
   "cell_type": "code",
   "execution_count": 73,
   "id": "2e48bd3c-c2a4-42ee-97f4-5fa8330d2ee7",
   "metadata": {},
   "outputs": [],
   "source": [
    "c2017['Cores Per Chip'] = c2017.apply(lambda item: item['Total Cores'] // item['Chips'], axis=1)"
   ]
  },
  {
   "cell_type": "code",
   "execution_count": 104,
   "id": "cbff4223-2391-4389-bc39-8a0b8bf0bb4b",
   "metadata": {},
   "outputs": [],
   "source": [
    "def parse_cpu_orderable(info):\n",
    "    info = info.split(';')[0]\n",
    "    items = re.findall('.*chip', info)\n",
    "    number = 1\n",
    "    if len(items):\n",
    "        nums = [int(num) for num in re.findall(r'\\d+', items[0])]\n",
    "        number = nums[-1]\n",
    "    return number\n",
    "c2017['Max Chips'] = c2017['CPU Orderable'].apply(lambda x: parse_cpu_orderable(x))"
   ]
  },
  {
   "cell_type": "code",
   "execution_count": 75,
   "id": "482d6a2a-cff5-4735-9398-71a1ff927968",
   "metadata": {},
   "outputs": [],
   "source": [
    "c2017['File System'] = c2017['File System'].apply(lambda x: x.lower())"
   ]
  },
  {
   "cell_type": "code",
   "execution_count": 76,
   "id": "a3d51cfa-bc75-4a15-ac25-4da8f5b36230",
   "metadata": {},
   "outputs": [],
   "source": [
    "def parse_memory(info):\n",
    "    total_memory_amount = int(info.split()[0])\n",
    "    unit = info.split()[1]\n",
    "    if 'T' in unit:\n",
    "        total_memory_amount *= 1024\n",
    "    items = re.findall(r'\\d+ x', info)\n",
    "    nums = [int(item.split()[0]) for item in items]\n",
    "    memory_num = sum(nums)\n",
    "    memory_detail = re.findall(r'[(].*?[)]', info)[0][1:-1]\n",
    "    return pd.Series({\n",
    "        'Total Memory Amount': total_memory_amount,\n",
    "        'Memory Number': memory_num,\n",
    "        'Memory Detail': memory_detail,\n",
    "    })\n",
    "c2017[['Total Memory Amount', 'Memory Number']] = c2017['Memory'].apply(lambda x: parse_memory(x))  "
   ]
  },
  {
   "cell_type": "code",
   "execution_count": 77,
   "id": "77cdaa48-3aea-4ce0-8638-a112c18150f6",
   "metadata": {},
   "outputs": [],
   "source": [
    "c2017['Memory Amount'] = c2017.apply(lambda item: item['Total Memory Amount'] // item['Memory Number'], axis=1)"
   ]
  },
  {
   "cell_type": "code",
   "execution_count": 78,
   "id": "443e2452-7bb6-46cf-952b-576020dd0123",
   "metadata": {},
   "outputs": [],
   "source": [
    "def parse_storage(info):\n",
    "    items = re.findall(r'\\d+[ ]*x', info)\n",
    "    storage_num = 1\n",
    "    if len(items) != 0:\n",
    "        storage_num = items[0][:-1].strip()\n",
    "    storage_num = int(storage_num)\n",
    "    items = re.findall(r'\\d+[.]?\\d*[ ]*TB?', info)\n",
    "    if len(items):\n",
    "        storage_size = float(re.findall(r'\\d+\\.?\\d*', items[0])[0])\n",
    "        storage_size = storage_size * 1024\n",
    "    else:\n",
    "        items = re.findall(r'\\d+[.]*\\d*[ ]*GB?', info)\n",
    "        storage_size = float(re.findall(r'\\d+\\.?\\d*', items[0])[0])\n",
    "    if 'SSD' in info.upper():\n",
    "        storage_type = 'SSD'\n",
    "    elif 'HDD' in info.upper():\n",
    "        storage_type = 'HDD'\n",
    "    elif 'ramfs' in info.lower():\n",
    "        storage_type = 'ramfs'\n",
    "    elif 'tmpfs' in info.lower():\n",
    "        storage_type = 'tmpfs'\n",
    "    elif 'zfs' in info.lower():\n",
    "        storage_type = 'zfs'\n",
    "    else:\n",
    "        storage_type = 'SSD'\n",
    "    return pd.Series({\n",
    "        'Storage Number': storage_num,\n",
    "        'Storage Size': storage_size,\n",
    "        'Storage Type': storage_type\n",
    "    })\n",
    "\n",
    "c2017[['Storage Number', 'Storage Size', 'Storage Type']] = c2017['Storage'].apply(lambda x: parse_storage(x))"
   ]
  },
  {
   "cell_type": "code",
   "execution_count": 79,
   "id": "bdf179ff-8309-4616-8f78-979d268fbf7d",
   "metadata": {},
   "outputs": [],
   "source": [
    "c2017['Total Storage Size'] = c2017['Storage Number'] * c2017['Storage Size']"
   ]
  },
  {
   "cell_type": "markdown",
   "id": "71e1d7a0-f9d5-4c32-9457-ff81f6e2c26f",
   "metadata": {},
   "source": [
    "## Clean Date"
   ]
  },
  {
   "cell_type": "code",
   "execution_count": 86,
   "id": "c67c14f5-72c8-400a-9183-7e95ae238124",
   "metadata": {},
   "outputs": [
    {
     "data": {
      "text/plain": [
       "{1: 'Jan',\n",
       " 2: 'Feb',\n",
       " 3: 'Mar',\n",
       " 4: 'Apr',\n",
       " 5: 'May',\n",
       " 6: 'Jun',\n",
       " 7: 'Jul',\n",
       " 8: 'Aug',\n",
       " 9: 'Sep',\n",
       " 10: 'Oct',\n",
       " 11: 'Nov',\n",
       " 12: 'Dec'}"
      ]
     },
     "execution_count": 86,
     "metadata": {},
     "output_type": "execute_result"
    }
   ],
   "source": [
    "month_mapper = {\n",
    "    'Jan': 1, 'Feb': 2, 'Mar': 3, 'Apr': 4, 'May':5, 'Jun': 6,\n",
    "    'Jul': 7, 'Aug': 8, 'Sep': 9, 'Oct': 10, 'Nov': 11, 'Dec': 12\n",
    "}\n",
    "re_month_mapper = {v:k for k, v in month_mapper.items()}\n",
    "\n",
    "re_month_mapper"
   ]
  },
  {
   "cell_type": "code",
   "execution_count": 102,
   "id": "50564b67-eb6d-4937-a8b4-7a8a43674e8e",
   "metadata": {},
   "outputs": [],
   "source": [
    "def split_date_1(item):\n",
    "    \"\"\"\n",
    "    May-2017\n",
    "    2014.3\n",
    "    2010\n",
    "    \"\"\"\n",
    "    item = item.strip()\n",
    "    d = 1\n",
    "    if '-' in item:\n",
    "        m, y = item.split('-')\n",
    "    elif '.' in item:\n",
    "        y, m = item.split('.')\n",
    "        m = re_month_mapper[int(m)]\n",
    "    elif ' ' in item:\n",
    "        m, y = item.split()\n",
    "    else:\n",
    "        y = item\n",
    "        m = 'Jan'\n",
    "    m = month_mapper[m[:3]]\n",
    "    y = int(y)\n",
    "    return pd.Series({'day': d, 'month': m, 'year': y})"
   ]
  },
  {
   "cell_type": "code",
   "execution_count": 81,
   "id": "2dba833d-dda8-4399-bd4e-aa2fd05e3a12",
   "metadata": {},
   "outputs": [],
   "source": [
    "def split_date_2(item):\n",
    "    \"\"\"\n",
    "    May 1, 2018\n",
    "    2009/05/19\n",
    "    12.02.2009\n",
    "    \"\"\"\n",
    "    if ',' in item:\n",
    "        md, y = item.split(',')\n",
    "        m, d = md.split()\n",
    "    elif '/' in item:\n",
    "        y, m, d = item.split('/')\n",
    "        m = re_month_mapper[int(m)]\n",
    "    elif '.' in item:\n",
    "        d, m, y = item.split('.')\n",
    "        m = re_month_mapper[int(m)]\n",
    "    m = m[:3]\n",
    "    if m == 'Spe':\n",
    "        m = 'Sep'\n",
    "    m = month_mapper[m[:3]]\n",
    "    d, m, y = int(d), int(m), int(y)\n",
    "    return pd.Series({'day': d, 'month': m, 'year': y})"
   ]
  },
  {
   "cell_type": "code",
   "execution_count": 82,
   "id": "c87b3230-bff8-4125-b7d3-68f17dc1b044",
   "metadata": {},
   "outputs": [],
   "source": [
    "def get_quarter(url):\n",
    "    items = url.split('/')[0]\n",
    "    return pd.Series({'quarter': int(items[-1]), 'submit_year': int(items[3:7])})"
   ]
  },
  {
   "cell_type": "code",
   "execution_count": 84,
   "id": "053fa500-6842-48be-b2ad-c69407f39550",
   "metadata": {},
   "outputs": [
    {
     "data": {
      "text/plain": [
       "Index(['Suite', 'HW Vendor', 'System Name', 'Baseline', 'Test Date',\n",
       "       'HW Avail', 'CPU Name', 'Max MHz', 'CPU MHz', 'CPU Enabled',\n",
       "       'CPU Orderable', 'L1 Cache', 'L2 Cache', 'L3 Cache', 'Memory',\n",
       "       'Storage', 'OS', 'File System', 'URL Suffix', 'CPU Vendor',\n",
       "       'Total Cores', 'Chips', 'Threads Per Core', 'Cores Per Chip',\n",
       "       'Max Chips', 'Total Memory Amount', 'Memory Number', 'Memory Detail',\n",
       "       'Memory Amount', 'Storage Number', 'Storage Size', 'Storage Type',\n",
       "       'Total Storage Size'],\n",
       "      dtype='object')"
      ]
     },
     "execution_count": 84,
     "metadata": {},
     "output_type": "execute_result"
    }
   ],
   "source": [
    "c2017.columns"
   ]
  },
  {
   "cell_type": "code",
   "execution_count": 89,
   "id": "e0e3fbb8-6e45-465f-90a3-2ca8c07b4862",
   "metadata": {},
   "outputs": [],
   "source": [
    "c2017[['day', 'month', 'year']] = c2017['Test Date'].apply(lambda x: split_date_1(x))"
   ]
  },
  {
   "cell_type": "code",
   "execution_count": 91,
   "id": "bb1c8288-4243-487c-b161-df108fdfc7d4",
   "metadata": {},
   "outputs": [],
   "source": [
    "c2017[['quarter', 'submit_year']] = c2017['URL Suffix'].apply(lambda x: get_quarter(x))"
   ]
  },
  {
   "cell_type": "code",
   "execution_count": 93,
   "id": "35423ccd-0865-4728-9b85-4fdb619d458d",
   "metadata": {},
   "outputs": [
    {
     "data": {
      "text/plain": [
       "Index(['Suite', 'HW Vendor', 'System Name', 'Baseline', 'Test Date',\n",
       "       'HW Avail', 'CPU Name', 'Max MHz', 'CPU MHz', 'CPU Enabled',\n",
       "       'CPU Orderable', 'L1 Cache', 'L2 Cache', 'L3 Cache', 'Memory',\n",
       "       'Storage', 'OS', 'File System', 'URL Suffix', 'CPU Vendor',\n",
       "       'Total Cores', 'Chips', 'Threads Per Core', 'Cores Per Chip',\n",
       "       'Max Chips', 'Total Memory Amount', 'Memory Number', 'Memory Detail',\n",
       "       'Memory Amount', 'Storage Number', 'Storage Size', 'Storage Type',\n",
       "       'Total Storage Size', 'day', 'month', 'year', 'quarter', 'submit_year'],\n",
       "      dtype='object')"
      ]
     },
     "execution_count": 93,
     "metadata": {},
     "output_type": "execute_result"
    }
   ],
   "source": [
    "c2017.columns"
   ]
  },
  {
   "cell_type": "code",
   "execution_count": 99,
   "id": "bc492fa1-e827-43c8-963f-4d42977188c6",
   "metadata": {},
   "outputs": [
    {
     "data": {
      "text/plain": [
       "array(['Apr-2021', 'Apr-2019', 'Feb-2020', 'Sep-2020', 'Oct-2020',\n",
       "       'Nov-2020', 'Dec-2020', 'Dec-2017', 'Jul-2021', 'Mar-2022',\n",
       "       'Mar-2021', 'Sep-2021', 'Aug-2019', 'May-2021', 'Sep-2019',\n",
       "       'Apr-2020', 'Jul-2020', 'May-2019', 'Nov-2018', 'Oct-2019',\n",
       "       'Jul-2017', 'Oct-2018', 'Sep-2018', 'Dec-2018', 'Jul-2018',\n",
       "       'Apr-2018', 'Mar-2017', 'Oct-2017', 'Jun-2017', 'Sep-2017',\n",
       "       'Oct-2016', 'Nov-2019', 'Jun-2019', 'Jan-2020', 'Oct-2015',\n",
       "       'Feb-2007', 'Jun-2021', 'Mar-2020', 'Mar-2019', 'Aug-2020',\n",
       "       'May-2020', 'Dec-2019', 'Jul-2019', 'Nov-2017', 'Apr-2017',\n",
       "       'Jan-2019', 'Aug-2017', 'Jan-2018', 'Jun-2018', 'May-2022',\n",
       "       'Apr-2022', 'Nov-2021', 'Jun-2020', 'Mar-2018', 'May-2018',\n",
       "       'Apr-2016', 'Jan-2016', 'Jan-2022', 'Aug-2018', 'Feb-2018',\n",
       "       ' Jan-2022', 'Feb-2019', 'Jun-2016', 'Oct-2021', 'Aug-2021',\n",
       "       'May-2017', 'Dec-2016', 'Dec-2021', ' Jun-2021', 'Aug-2016'],\n",
       "      dtype=object)"
      ]
     },
     "execution_count": 99,
     "metadata": {},
     "output_type": "execute_result"
    }
   ],
   "source": [
    "c2017['HW Avail'].unique()"
   ]
  },
  {
   "cell_type": "code",
   "execution_count": 103,
   "id": "44f634ee-0b0f-43d4-8100-57066d80df75",
   "metadata": {},
   "outputs": [
    {
     "data": {
      "text/html": [
       "<div>\n",
       "<style scoped>\n",
       "    .dataframe tbody tr th:only-of-type {\n",
       "        vertical-align: middle;\n",
       "    }\n",
       "\n",
       "    .dataframe tbody tr th {\n",
       "        vertical-align: top;\n",
       "    }\n",
       "\n",
       "    .dataframe thead th {\n",
       "        text-align: right;\n",
       "    }\n",
       "</style>\n",
       "<table border=\"1\" class=\"dataframe\">\n",
       "  <thead>\n",
       "    <tr style=\"text-align: right;\">\n",
       "      <th></th>\n",
       "      <th>day</th>\n",
       "      <th>month</th>\n",
       "      <th>year</th>\n",
       "    </tr>\n",
       "  </thead>\n",
       "  <tbody>\n",
       "    <tr>\n",
       "      <th>0</th>\n",
       "      <td>1</td>\n",
       "      <td>4</td>\n",
       "      <td>2021</td>\n",
       "    </tr>\n",
       "    <tr>\n",
       "      <th>1</th>\n",
       "      <td>1</td>\n",
       "      <td>4</td>\n",
       "      <td>2021</td>\n",
       "    </tr>\n",
       "    <tr>\n",
       "      <th>2</th>\n",
       "      <td>1</td>\n",
       "      <td>4</td>\n",
       "      <td>2021</td>\n",
       "    </tr>\n",
       "    <tr>\n",
       "      <th>3</th>\n",
       "      <td>1</td>\n",
       "      <td>4</td>\n",
       "      <td>2021</td>\n",
       "    </tr>\n",
       "    <tr>\n",
       "      <th>4</th>\n",
       "      <td>1</td>\n",
       "      <td>4</td>\n",
       "      <td>2021</td>\n",
       "    </tr>\n",
       "    <tr>\n",
       "      <th>...</th>\n",
       "      <td>...</td>\n",
       "      <td>...</td>\n",
       "      <td>...</td>\n",
       "    </tr>\n",
       "    <tr>\n",
       "      <th>27569</th>\n",
       "      <td>1</td>\n",
       "      <td>2</td>\n",
       "      <td>2018</td>\n",
       "    </tr>\n",
       "    <tr>\n",
       "      <th>27570</th>\n",
       "      <td>1</td>\n",
       "      <td>9</td>\n",
       "      <td>2017</td>\n",
       "    </tr>\n",
       "    <tr>\n",
       "      <th>27571</th>\n",
       "      <td>1</td>\n",
       "      <td>9</td>\n",
       "      <td>2017</td>\n",
       "    </tr>\n",
       "    <tr>\n",
       "      <th>27572</th>\n",
       "      <td>1</td>\n",
       "      <td>7</td>\n",
       "      <td>2017</td>\n",
       "    </tr>\n",
       "    <tr>\n",
       "      <th>27573</th>\n",
       "      <td>1</td>\n",
       "      <td>7</td>\n",
       "      <td>2017</td>\n",
       "    </tr>\n",
       "  </tbody>\n",
       "</table>\n",
       "<p>27574 rows × 3 columns</p>\n",
       "</div>"
      ],
      "text/plain": [
       "       day  month  year\n",
       "0        1      4  2021\n",
       "1        1      4  2021\n",
       "2        1      4  2021\n",
       "3        1      4  2021\n",
       "4        1      4  2021\n",
       "...    ...    ...   ...\n",
       "27569    1      2  2018\n",
       "27570    1      9  2017\n",
       "27571    1      9  2017\n",
       "27572    1      7  2017\n",
       "27573    1      7  2017\n",
       "\n",
       "[27574 rows x 3 columns]"
      ]
     },
     "execution_count": 103,
     "metadata": {},
     "output_type": "execute_result"
    }
   ],
   "source": [
    "c2017['HW Avail'].apply(lambda x: split_date_1(x))`"
   ]
  }
 ],
 "metadata": {
  "kernelspec": {
   "display_name": "Python 3 (ipykernel)",
   "language": "python",
   "name": "python3"
  },
  "language_info": {
   "codemirror_mode": {
    "name": "ipython",
    "version": 3
   },
   "file_extension": ".py",
   "mimetype": "text/x-python",
   "name": "python",
   "nbconvert_exporter": "python",
   "pygments_lexer": "ipython3",
   "version": "3.8.12"
  }
 },
 "nbformat": 4,
 "nbformat_minor": 5
}
