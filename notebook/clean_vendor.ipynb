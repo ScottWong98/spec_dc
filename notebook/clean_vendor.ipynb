{
 "cells": [
  {
   "cell_type": "code",
   "execution_count": 1,
   "id": "8f8ba80e-be23-46b6-9342-be29688f4de1",
   "metadata": {},
   "outputs": [],
   "source": [
    "data_root = '/home/scott/Documents/SPEC_Spider'"
   ]
  },
  {
   "cell_type": "code",
   "execution_count": 2,
   "id": "3a6a6397-7ebc-4463-b7dd-2f7ef1435bbb",
   "metadata": {},
   "outputs": [
    {
     "name": "stdout",
     "output_type": "stream",
     "text": [
      "\u001b[01;34m/home/scott/Documents/SPEC_Spider\u001b[0m\n",
      "├── \u001b[01;34mcpu\u001b[0m\n",
      "│   ├── \u001b[01;34mcpu2006\u001b[0m\n",
      "│   │   ├── \u001b[00mSPECfp.csv\u001b[0m\n",
      "│   │   ├── \u001b[00mSPECfp_rate.csv\u001b[0m\n",
      "│   │   ├── \u001b[00mSPECint.csv\u001b[0m\n",
      "│   │   └── \u001b[00mSPECint_rate.csv\u001b[0m\n",
      "│   └── \u001b[01;34mcpu2017\u001b[0m\n",
      "│       ├── \u001b[00mCFP2017_rate.csv\u001b[0m\n",
      "│       ├── \u001b[00mCFP2017_speed.csv\u001b[0m\n",
      "│       ├── \u001b[00mCINT2017_rate.csv\u001b[0m\n",
      "│       └── \u001b[00mCINT2017_speed.csv\u001b[0m\n",
      "├── \u001b[01;34mjava\u001b[0m\n",
      "│   ├── \u001b[01;34mjbb2015\u001b[0m\n",
      "│   │   ├── \u001b[00mSPECjbb2015-Composite.csv\u001b[0m\n",
      "│   │   ├── \u001b[00mSPECjbb2015-Distributed.csv\u001b[0m\n",
      "│   │   └── \u001b[00mSPECjbb2015-MultiJVM.csv\u001b[0m\n",
      "│   └── \u001b[01;34mjvm2008\u001b[0m\n",
      "│       └── \u001b[00mjvm2008.csv\u001b[0m\n",
      "├── \u001b[00mjbb2015.csv\u001b[0m\n",
      "└── \u001b[01;34mpower\u001b[0m\n",
      "    └── \u001b[00mssj2008.csv\u001b[0m\n",
      "\n",
      "7 directories, 14 files\n"
     ]
    }
   ],
   "source": [
    "!tree /home/scott/Documents/SPEC_Spider"
   ]
  },
  {
   "cell_type": "code",
   "execution_count": 3,
   "id": "1d42d420-b8cc-410c-88a6-3ded5bcd82df",
   "metadata": {},
   "outputs": [],
   "source": [
    "import pandas as pd\n",
    "import numpy as np\n",
    "import re"
   ]
  },
  {
   "cell_type": "code",
   "execution_count": 4,
   "id": "f71df1bc-ddc4-4174-a2fc-db002a2d98b7",
   "metadata": {},
   "outputs": [],
   "source": [
    "c2017_rfp = pd.read_csv(f\"{data_root}/cpu/cpu2017/CFP2017_rate.csv\")\n",
    "c2017_sfp = pd.read_csv(f\"{data_root}/cpu/cpu2017/CFP2017_speed.csv\")\n",
    "c2017_rint = pd.read_csv(f\"{data_root}/cpu/cpu2017/CINT2017_rate.csv\")\n",
    "c2017_sint = pd.read_csv(f\"{data_root}/cpu/cpu2017/CINT2017_speed.csv\")\n",
    "\n",
    "c2006_rfp = pd.read_csv(f\"{data_root}/cpu/cpu2006/SPECfp_rate.csv\")\n",
    "c2006_sfp = pd.read_csv(f\"{data_root}/cpu/cpu2006/SPECfp.csv\")\n",
    "c2006_rint = pd.read_csv(f\"{data_root}/cpu/cpu2006/SPECint_rate.csv\")\n",
    "c2006_sint = pd.read_csv(f\"{data_root}/cpu/cpu2006/SPECint.csv\")\n",
    "\n",
    "j2015_com = pd.read_csv(f\"{data_root}/java/jbb2015/SPECjbb2015-Composite.csv\")\n",
    "j2015_dis = pd.read_csv(f\"{data_root}/java/jbb2015/SPECjbb2015-Distributed.csv\")\n",
    "j2015_mul = pd.read_csv(f\"{data_root}/java/jbb2015/SPECjbb2015-MultiJVM.csv\")\n",
    "\n",
    "jvm2008 = pd.read_csv(f\"{data_root}/java/jvm2008/jvm2008.csv\")\n",
    "ssj2008 = pd.read_csv(f\"{data_root}/power/ssj2008.csv\")"
   ]
  },
  {
   "cell_type": "code",
   "execution_count": 5,
   "id": "b4e0e2ac-997a-4792-bc57-85d3d630183c",
   "metadata": {},
   "outputs": [],
   "source": [
    "hw_vendors = set(c2017_rfp['Hardware Vendor'].unique().tolist())\n",
    "hw_vendors |= set(c2017_sfp['Hardware Vendor'].unique().tolist())\n",
    "hw_vendors |= set(c2017_rint['Hardware Vendor'].unique().tolist())\n",
    "hw_vendors |= set(c2017_sint['Hardware Vendor'].unique().tolist())\n",
    "\n",
    "hw_vendors = set(c2006_rfp['Hardware Vendor'].unique().tolist())\n",
    "hw_vendors |= set(c2006_sfp['Hardware Vendor'].unique().tolist())\n",
    "hw_vendors |= set(c2006_rint['Hardware Vendor'].unique().tolist())\n",
    "hw_vendors |= set(c2006_sint['Hardware Vendor'].unique().tolist())\n",
    "hw_vendors |= set(c2006_sint['Hardware Vendor'].unique().tolist())\n",
    "\n",
    "hw_vendors |= set(j2015_com['Vendor'].unique().tolist())\n",
    "hw_vendors |= set(j2015_mul['Vendor'].unique().tolist())\n",
    "hw_vendors |= set(j2015_dis['Vendor'].unique().tolist())\n",
    "\n",
    "hw_vendors |= set(jvm2008['HW vendor'].unique().tolist())\n",
    "\n",
    "hw_vendors |= set(ssj2008['Hardware Vendor'].unique().tolist())\n",
    "\n",
    "hw_vendors_df = pd.DataFrame(list(hw_vendors), columns=['Vendor'])"
   ]
  },
  {
   "cell_type": "markdown",
   "id": "d1402c42-f010-46a5-87c6-7a64fc031992",
   "metadata": {},
   "source": [
    "Hardware Vendor / Test Sponsor / Tested By / JVM Vendor"
   ]
  },
  {
   "cell_type": "code",
   "execution_count": 32,
   "id": "f15186a7-7aaa-445c-8ef7-58be1176b186",
   "metadata": {},
   "outputs": [],
   "source": [
    "def clean_vendor(vendor):\n",
    "    def _clear(pattern):\n",
    "        return re.sub(re.compile(pattern, re.IGNORECASE), '', vendor)\n",
    "    vendor = vendor.strip()\n",
    "    patterns = [\n",
    "        ' *[(].*[)]',\n",
    "        ',* *Ltd\\.*$|,* *Inc\\.*$',\n",
    "        ',* *Co\\.*$|,* *Corporation\\.*$|,* *Corparation\\.*$|,* *Corp\\.*$| Incoporated$| Incorporated$| Incorporation$',\n",
    "        ' International$',\n",
    "        ' Computer[s]*$',\n",
    "        ' Technology$'\n",
    "    ]\n",
    "    for pattern in patterns:\n",
    "        vendor = _clear(pattern)\n",
    "    \n",
    "    replace_pairs = [\n",
    "        ('^Huawei', 'Huawei'),\n",
    "        ('^ASUS', 'ASUS'),\n",
    "        ('^acer', 'Acer'),\n",
    "        ('^Hewlett[ -]*Packard', 'HPE'),\n",
    "        ('^Inspur', 'Inspur'),\n",
    "        ('H3C', 'H3C'),\n",
    "        ('^Giga[ -]*byte', 'Gigabyte'),\n",
    "        ('^Fujitsu', 'Fujitsu'),\n",
    "        ('^Hitachi', 'Hitachi'),\n",
    "        ('^Lenovo', 'Lenovo'),\n",
    "        ('^Quanta', 'Quanta'),\n",
    "        ('^Super[ -]*Micro', 'SuperMicro'),\n",
    "        ('^UNIWIDE', 'Uniwide'),\n",
    "        ('^Wizbrain', 'Wizbrain'),\n",
    "        ('^ScaleMP', 'ScaleMP'),\n",
    "        ('^AMD', 'AMD'),\n",
    "        ('Advanced Micro Devices', 'AMD'),\n",
    "        ('^Hewelett-Packard', 'HPE'),\n",
    "        ('^Oracl', 'Oracle'),\n",
    "        ('^BEA', 'BEA'),\n",
    "        ('^OpenJDK', 'OpenJDK'),\n",
    "    ]\n",
    "    for pair in replace_pairs:\n",
    "        if len(re.findall(re.compile(pair[0], re.IGNORECASE), vendor)):\n",
    "            vendor = pair[1]\n",
    "    \n",
    "    return vendor"
   ]
  },
  {
   "cell_type": "code",
   "execution_count": 7,
   "id": "97dabf21-9cc1-476d-b3b5-1a7c8c2cc064",
   "metadata": {},
   "outputs": [
    {
     "data": {
      "text/plain": [
       "array(['3Score', 'ACTION S.A.', 'ASUS', 'ATEC', 'Acer', 'Apple',\n",
       "       'BOXX Technologies', 'Bull SAS', 'Cisco Systems', 'ClearCube',\n",
       "       'Clevo', 'Cryo Performance Computing', 'DIGI.', 'Dell', 'Digi',\n",
       "       'Digi Intermational', 'E4 Computer Engineering S.p.A.', 'EXO S.A.',\n",
       "       'FORMAT', 'Fujitsu', 'Gigabyte', 'H3C', 'HPE', 'Hitachi', 'Huawei',\n",
       "       'Hypertechnologies Ciara', 'IBM', 'IWILL', 'Incom S.A.', 'Inspur',\n",
       "       'Intel', 'Itautec', 'J.P Sa Couto S.A.', 'KTNF', 'LTechKorea',\n",
       "       'Lenovo', 'M Computers s.r.o.', 'MSI', 'Maxdata AG', 'Microsoft',\n",
       "       'NEC', 'NTT System S. A.', 'Nettars tech', 'Nettrix', 'Nokia',\n",
       "       'Oracle', 'PC Factory S.A.', 'Quanta',\n",
       "       'RDing Technology Limited Company', 'SGI', 'ScaleMP', 'Shuttle',\n",
       "       'Sugon', 'Sun Microsystems', 'SuperMicro', 'TAEJIN T&S',\n",
       "       'TEMPERATURE@LERT', 'TEMPERATURE@LERT.', 'TempAlert',\n",
       "       'Temperature@lert', 'Tyan', 'Unisys', 'Uniwide', 'Wipro Limited',\n",
       "       'Wizbrain', 'YOYOtech', 'Yadro', 'ZTE', 'iButton Link',\n",
       "       'iButtonLink'], dtype=object)"
      ]
     },
     "execution_count": 7,
     "metadata": {},
     "output_type": "execute_result"
    }
   ],
   "source": [
    "np.sort(hw_vendors_df['Vendor'].apply(lambda x: clean_vendor(x)).unique())"
   ]
  },
  {
   "cell_type": "code",
   "execution_count": 8,
   "id": "5be1119c-103a-4477-a05b-f39be7c6e330",
   "metadata": {},
   "outputs": [],
   "source": [
    "sponsors = set(c2017_rfp['Test Sponsor'].unique().tolist())\n",
    "sponsors |= set(c2017_sfp['Test Sponsor'].unique().tolist())\n",
    "sponsors |= set(c2017_rint['Test Sponsor'].unique().tolist())\n",
    "sponsors |= set(c2017_sint['Test Sponsor'].unique().tolist())\n",
    "\n",
    "sponsors = set(c2006_rfp['Test Sponsor'].unique().tolist())\n",
    "sponsors |= set(c2006_sfp['Test Sponsor'].unique().tolist())\n",
    "sponsors |= set(c2006_rint['Test Sponsor'].unique().tolist())\n",
    "sponsors |= set(c2006_sint['Test Sponsor'].unique().tolist())\n",
    "sponsors |= set(c2006_sint['Test Sponsor'].unique().tolist())\n",
    "\n",
    "sponsors |= set(j2015_com['Test Sponsor'].unique().tolist())\n",
    "sponsors |= set(j2015_mul['Test Sponsor'].unique().tolist())\n",
    "sponsors |= set(j2015_dis['Test Sponsor'].unique().tolist())\n",
    "\n",
    "# hw_vendors |= set(jvm2008['HW vendor'].unique().tolist())\n",
    "\n",
    "sponsors |= set(ssj2008['Test Sponsor'].unique().tolist())\n",
    "\n",
    "sponsor_df = pd.DataFrame(list(sponsors), columns=['Sponsor'])"
   ]
  },
  {
   "cell_type": "code",
   "execution_count": 9,
   "id": "d82e1966-e9b0-42fc-a2f3-5b839228554a",
   "metadata": {},
   "outputs": [
    {
     "data": {
      "text/plain": [
       "array(['EXO S.A.',\n",
       "       'Inspur(Beijing) Electronic Information Industry Co., Ltd',\n",
       "       'Hewlett-Packard Company', 'DEPO Computers',\n",
       "       'Verari Systems, Inc.', 'SGI', 'HITACHI', 'M Computers s.r.o.',\n",
       "       'QLogic [formerly PathScale]', 'Fujitsu Limited', 'HPE',\n",
       "       'Future Publishing Ltd.', 'BOXX Technologies, Inc.',\n",
       "       'Nokia Corporation', 'Hewlett Packard Enterprise',\n",
       "       'Sun Microsystems, Inc.', 'Quanta Computer Inc.',\n",
       "       'E4 Computer Engineering S.p.A.', 'Sun Microsystems', 'H3C',\n",
       "       'ScaleMP', 'Acer Incorporated', 'Inspur PowerSystem Corporation',\n",
       "       'ACTION S.A.', 'Hypertechnologies Ciara, Inc', 'Cisco Systems',\n",
       "       'Unisys Corporation', 'Incom S.A.',\n",
       "       'Telecommunications Technology Association', 'Hitachi, Ltd.',\n",
       "       'Sugon', 'IBM Corporation', 'Quanta Cloud Technology', 'Bull SAS',\n",
       "       'ASUSTeK Company Inc.', 'ZT Systems', 'Maxdata',\n",
       "       'NTT System S. A.', 'GIGA-BYTE TECHNOLOGY CO., LTD.',\n",
       "       'NEC Corporation', 'Apple, Inc.', 'ZTE', 'Acer Incorporation',\n",
       "       'ScaleMP / Cyfronet', 'Intel Corporation',\n",
       "       'Advanced Micro Devices', 'Lenovo Group Limited', 'Yadro',\n",
       "       'Apple Computer, Inc.', 'Cisco Systems, Inc.', 'J.P Sa Couto S.A.',\n",
       "       'Itautec', 'Huawei Company', 'Dell',\n",
       "       'Huawei Technologies Co., Ltd', 'GIGA-BYTE Technology Co., Ltd.',\n",
       "       'Wipro Limited', 'Oracle Corporation', 'FORMAT',\n",
       "       'Five9 Network Systems', 'PC Factory S.A.', 'Intel Corp.',\n",
       "       \"Plat'Home\", 'Supermicro', 'Fujitsu Siemens Computers', 'Huawei',\n",
       "       'Nettrix', 'The Portland Group', 'Apple Inc.',\n",
       "       'Inspur Corporation', 'ClearCube Technology',\n",
       "       'Lenovo Global Technology', 'Fujitsu', 'Powerleader Company',\n",
       "       'Super Micro Computer, Inc', 'Nokia', 'Supermicro Inc.',\n",
       "       'Cryo Performance Computing Ltd', 'Dell Inc.',\n",
       "       'Japan Advanced Institute of Science and Technology',\n",
       "       'ASUSTeK Computer Inc.', 'New H3C Technologies Co., Ltd.'],\n",
       "      dtype=object)"
      ]
     },
     "execution_count": 9,
     "metadata": {},
     "output_type": "execute_result"
    }
   ],
   "source": [
    "sponsor_df['Sponsor'].unique()"
   ]
  },
  {
   "cell_type": "code",
   "execution_count": 10,
   "id": "1b27ab6d-ca50-4120-9083-2ae690358211",
   "metadata": {},
   "outputs": [
    {
     "data": {
      "text/plain": [
       "array(['ACTION S.A.', 'AMD', 'ASUS', 'Acer', 'Apple', 'BOXX Technologies',\n",
       "       'Bull SAS', 'Cisco Systems', 'ClearCube',\n",
       "       'Cryo Performance Computing', 'DEPO', 'Dell',\n",
       "       'E4 Computer Engineering S.p.A.', 'EXO S.A.', 'FORMAT',\n",
       "       'Five9 Network Systems', 'Fujitsu', 'Future Publishing',\n",
       "       'Gigabyte', 'H3C', 'HPE', 'Hitachi', 'Huawei',\n",
       "       'Hypertechnologies Ciara', 'IBM', 'Incom S.A.', 'Inspur', 'Intel',\n",
       "       'Itautec', 'J.P Sa Couto S.A.',\n",
       "       'Japan Advanced Institute of Science and', 'Lenovo',\n",
       "       'M Computers s.r.o.', 'Maxdata', 'NEC', 'NTT System S. A.',\n",
       "       'Nettrix', 'Nokia', 'Oracle', 'PC Factory S.A.', \"Plat'Home\",\n",
       "       'Powerleader Company', 'QLogic [formerly PathScale]', 'Quanta',\n",
       "       'SGI', 'ScaleMP', 'Sugon', 'Sun Microsystems', 'SuperMicro',\n",
       "       'Telecommunications Technology Association', 'The Portland Group',\n",
       "       'Unisys', 'Verari Systems', 'Wipro Limited', 'Yadro', 'ZT Systems',\n",
       "       'ZTE'], dtype=object)"
      ]
     },
     "execution_count": 10,
     "metadata": {},
     "output_type": "execute_result"
    }
   ],
   "source": [
    "np.sort(sponsor_df['Sponsor'].apply(lambda x: clean_vendor(x)).unique())"
   ]
  },
  {
   "cell_type": "code",
   "execution_count": 11,
   "id": "d348cbae-e4fb-43d5-957c-6492d5388e84",
   "metadata": {},
   "outputs": [],
   "source": [
    "submitter = set(c2017_rfp['Tested By'].unique().tolist())\n",
    "submitter |= set(c2017_sfp['Tested By'].unique().tolist())\n",
    "submitter |= set(c2017_rint['Tested By'].unique().tolist())\n",
    "submitter |= set(c2017_sint['Tested By'].unique().tolist())\n",
    "\n",
    "submitter = set(c2006_rfp['Tested By'].unique().tolist())\n",
    "submitter |= set(c2006_sfp['Tested By'].unique().tolist())\n",
    "submitter |= set(c2006_rint['Tested By'].unique().tolist())\n",
    "submitter |= set(c2006_sint['Tested By'].unique().tolist())\n",
    "submitter |= set(c2006_sint['Tested By'].unique().tolist())\n",
    "\n",
    "submitter |= set(j2015_com['Tested by'].unique().tolist())\n",
    "submitter |= set(j2015_mul['Tested by'].unique().tolist())\n",
    "submitter |= set(j2015_dis['Tested by'].unique().tolist())\n",
    "\n",
    "submitter |= set(jvm2008['Submitter'].unique().tolist())\n",
    "\n",
    "submitter |= set(ssj2008['Tested By'].unique().tolist())\n",
    "\n",
    "submitter_df = pd.DataFrame(list(submitter), columns=['Submitter'])"
   ]
  },
  {
   "cell_type": "code",
   "execution_count": 12,
   "id": "698c21bf-e8f5-41cc-bb22-12db53cfd01c",
   "metadata": {},
   "outputs": [
    {
     "data": {
      "text/plain": [
       "array(['EXO S.A.',\n",
       "       'Inspur(Beijing) Electronic Information Industry Co., Ltd',\n",
       "       'Hewlett-Packard Company', 'DEPO Computers',\n",
       "       'Verari Systems, Inc.', 'SGI', 'HITACHI', 'M Computers s.r.o.',\n",
       "       'Fujitsu Limited', 'HPE', 'Future Publishing Ltd.',\n",
       "       'BOXX Technologies, Inc.', 'Krzysztof Gierczyk',\n",
       "       'Nokia Corporation', 'Hewlett Packard Enterprise',\n",
       "       'Sun Microsystems, Inc.', 'Quanta Computer Inc.',\n",
       "       'E4 Computer Engineering S.p.A.', 'Sun Microsystems',\n",
       "       'Huawei Technologies Co', ' Huawei', 'H3C', 'ScaleMP',\n",
       "       'Acer Incorporated', 'Inspur PowerSystem Corporation',\n",
       "       ' Hewlett-Packard Company', 'ACTION S.A.',\n",
       "       'Hypertechnologies Ciara, Inc', 'Cisco Systems',\n",
       "       'Unisys Corporation', 'Incom S.A.', 'Piotr Nowicki',\n",
       "       'Telecommunications Technology Association', 'Hitachi, Ltd.',\n",
       "       'Sugon', 'IBM Corporation', 'Francesca Tartaglione',\n",
       "       'Quanta Cloud Technology', 'Sun Microsystems Inc.', 'Bull SAS',\n",
       "       'AMD Performance Labs', 'ASUSTeK Company Inc.',\n",
       "       'QLogic Corporation', 'Maxdata', 'NTT System S. A.',\n",
       "       'GIGA-BYTE TECHNOLOGY CO., LTD.', 'Dell Inc', 'NEC Corporation',\n",
       "       'ZTE', 'Acer Incorporation', 'Apple,  Inc.', 'Intel Corporation',\n",
       "       'Advanced Micro Devices', 'Hewlett Packard Company',\n",
       "       'Lenovo Group Limited', 'Yadro', 'AMD Performance Lab',\n",
       "       'acer Incorporated', 'Apple Computer, Inc.', ' SGI',\n",
       "       'J.P Sa Couto S.A.', 'Itautec', 'Huawei Company', 'Dell',\n",
       "       'Huawei Technologies Co., Ltd', 'Hewelett-Packard Company',\n",
       "       'GIGA-BYTE Technology Co., Ltd.', 'Wipro Limited',\n",
       "       'Oracle Corporation', 'FORMAT', 'Five9 Network Systems',\n",
       "       'Principled Technologies, Inc.', 'PC Factory S.A.', 'AMD',\n",
       "       'Intel Corp.', \"Plat'Home\", 'Supermicro',\n",
       "       'Fujitsu Siemens Computers', 'Huawei', 'Nettrix',\n",
       "       'The Portland Group', 'Apple Inc.', 'Inspur Corporation',\n",
       "       'ClearCube Technology', 'Lenovo Global Technology', 'Fujitsu',\n",
       "       'Powerleader Company', 'Super Micro Computer, Inc', 'Nokia',\n",
       "       'Supermicro Inc.', 'Cryo Performance Computing Ltd', 'Dell Inc.',\n",
       "       'ASUSTeK Computer Inc.', 'New H3C Technologies Co., Ltd.'],\n",
       "      dtype=object)"
      ]
     },
     "execution_count": 12,
     "metadata": {},
     "output_type": "execute_result"
    }
   ],
   "source": [
    "submitter_df['Submitter'].unique()"
   ]
  },
  {
   "cell_type": "code",
   "execution_count": 13,
   "id": "4fe2efd7-ed16-427e-b193-f0eec8ee3cf6",
   "metadata": {},
   "outputs": [
    {
     "data": {
      "text/plain": [
       "array(['ACTION S.A.', 'AMD', 'ASUS', 'Acer', 'Apple', 'Apple, ',\n",
       "       'BOXX Technologies', 'Bull SAS', 'Cisco Systems', 'ClearCube',\n",
       "       'Cryo Performance Computing', 'DEPO', 'Dell',\n",
       "       'E4 Computer Engineering S.p.A.', 'EXO S.A.', 'FORMAT',\n",
       "       'Five9 Network Systems', 'Francesca Tartaglione', 'Fujitsu',\n",
       "       'Future Publishing', 'Gigabyte', 'H3C', 'HPE', 'Hitachi', 'Huawei',\n",
       "       'Hypertechnologies Ciara', 'IBM', 'Incom S.A.', 'Inspur', 'Intel',\n",
       "       'Itautec', 'J.P Sa Couto S.A.', 'Krzysztof Gierczyk', 'Lenovo',\n",
       "       'M Computers s.r.o.', 'Maxdata', 'NEC', 'NTT System S. A.',\n",
       "       'Nettrix', 'Nokia', 'Oracle', 'PC Factory S.A.', 'Piotr Nowicki',\n",
       "       \"Plat'Home\", 'Powerleader Company', 'Principled Technologies',\n",
       "       'QLogic', 'Quanta', 'SGI', 'ScaleMP', 'Sugon', 'Sun Microsystems',\n",
       "       'SuperMicro', 'Telecommunications Technology Association',\n",
       "       'The Portland Group', 'Unisys', 'Verari Systems', 'Wipro Limited',\n",
       "       'Yadro', 'ZTE'], dtype=object)"
      ]
     },
     "execution_count": 13,
     "metadata": {},
     "output_type": "execute_result"
    }
   ],
   "source": [
    "np.sort(submitter_df['Submitter'].apply(lambda x: clean_vendor(x)).unique())"
   ]
  },
  {
   "cell_type": "markdown",
   "id": "a80b5ca4-ff1c-41f9-8fc4-d475b8ba3e8e",
   "metadata": {},
   "source": [
    "---"
   ]
  },
  {
   "cell_type": "code",
   "execution_count": 22,
   "id": "8f98424d-32cc-4572-8aba-e8534cf12585",
   "metadata": {},
   "outputs": [],
   "source": [
    "jvm_vendors = set(j2015_com['JVM Vendor'].unique().tolist())\n",
    "jvm_vendors |= set(j2015_mul['JVM Vendor'].unique().tolist())\n",
    "jvm_vendors |= set(j2015_dis['JVM Vendor'].unique().tolist())\n",
    "\n",
    "jvm_vendors |= set(jvm2008['JVM Vendor'].unique().tolist())\n",
    "\n",
    "jvm_vendors |= set(ssj2008['JVM Vendor'].unique().tolist())\n",
    "\n",
    "jvm_vendor_df = pd.DataFrame(list(jvm_vendors), columns=['Vendor'])"
   ]
  },
  {
   "cell_type": "code",
   "execution_count": 23,
   "id": "76f27f24-b457-4de6-9386-9e4028526c02",
   "metadata": {},
   "outputs": [
    {
     "data": {
      "text/plain": [
       "array(['OpenJDK community', 'IBM Corparation', 'IBM Corp.', 'Oracle Inc.',\n",
       "       'Red Hat, Inc.', 'Oracl', 'IBM Corporation',\n",
       "       'Sun Microsystems Inc.', 'Oracle Corporation.', 'SUSE',\n",
       "       'Apple Inc.', 'Bea Systems, Inc', 'Oracle', 'BEA Systems,Inc.',\n",
       "       'Sun Microsystems, Inc.', 'OpenJDK (openjdk.java.net)',\n",
       "       'Oracle Corp.', 'OpenJDK', 'BEA System, Inc.', 'BEA Systems, Inc.',\n",
       "       'Oracle corporation', 'BEA Systems, Inc', 'Oracle Corporation'],\n",
       "      dtype=object)"
      ]
     },
     "execution_count": 23,
     "metadata": {},
     "output_type": "execute_result"
    }
   ],
   "source": [
    "jvm_vendor_df['Vendor'].unique()"
   ]
  },
  {
   "cell_type": "code",
   "execution_count": 33,
   "id": "c2d9ba4d-7b10-46ee-ab4c-98690f70432e",
   "metadata": {},
   "outputs": [
    {
     "data": {
      "text/plain": [
       "array(['Apple', 'BEA', 'IBM', 'OpenJDK', 'Oracle', 'Red Hat', 'SUSE',\n",
       "       'Sun Microsystems'], dtype=object)"
      ]
     },
     "execution_count": 33,
     "metadata": {},
     "output_type": "execute_result"
    }
   ],
   "source": [
    "np.sort(jvm_vendor_df['Vendor'].apply(lambda x: clean_vendor(x)).unique())"
   ]
  }
 ],
 "metadata": {
  "kernelspec": {
   "display_name": "Python 3 (ipykernel)",
   "language": "python",
   "name": "python3"
  },
  "language_info": {
   "codemirror_mode": {
    "name": "ipython",
    "version": 3
   },
   "file_extension": ".py",
   "mimetype": "text/x-python",
   "name": "python",
   "nbconvert_exporter": "python",
   "pygments_lexer": "ipython3",
   "version": "3.8.12"
  }
 },
 "nbformat": 4,
 "nbformat_minor": 5
}
