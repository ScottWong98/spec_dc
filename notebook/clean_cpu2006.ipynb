{
 "cells": [
  {
   "cell_type": "code",
   "execution_count": 1,
   "id": "dc3f87a6-d07c-43d2-ae8c-c8ecd6766d9c",
   "metadata": {},
   "outputs": [],
   "source": [
    "data_root = '/home/scott/Documents/SPEC_Spider'"
   ]
  },
  {
   "cell_type": "code",
   "execution_count": 2,
   "id": "cadcedb1-94c5-4c24-98a8-74e7c8ee8c85",
   "metadata": {},
   "outputs": [
    {
     "name": "stdout",
     "output_type": "stream",
     "text": [
      "\u001b[01;34m/home/scott/Documents/SPEC_Spider\u001b[0m\n",
      "├── \u001b[01;34mcpu\u001b[0m\n",
      "│   ├── \u001b[01;34mcpu2006\u001b[0m\n",
      "│   │   ├── \u001b[00mSPECfp.csv\u001b[0m\n",
      "│   │   ├── \u001b[00mSPECfp_rate.csv\u001b[0m\n",
      "│   │   ├── \u001b[00mSPECint.csv\u001b[0m\n",
      "│   │   └── \u001b[00mSPECint_rate.csv\u001b[0m\n",
      "│   └── \u001b[01;34mcpu2017\u001b[0m\n",
      "│       ├── \u001b[00mCFP2017_rate.csv\u001b[0m\n",
      "│       ├── \u001b[00mCFP2017_speed.csv\u001b[0m\n",
      "│       ├── \u001b[00mCINT2017_rate.csv\u001b[0m\n",
      "│       └── \u001b[00mCINT2017_speed.csv\u001b[0m\n",
      "├── \u001b[01;34mjava\u001b[0m\n",
      "│   ├── \u001b[01;34mjbb2015\u001b[0m\n",
      "│   │   ├── \u001b[00mSPECjbb2015-Composite.csv\u001b[0m\n",
      "│   │   ├── \u001b[00mSPECjbb2015-Distributed.csv\u001b[0m\n",
      "│   │   └── \u001b[00mSPECjbb2015-MultiJVM.csv\u001b[0m\n",
      "│   └── \u001b[01;34mjvm2008\u001b[0m\n",
      "│       └── \u001b[00mjvm2008.csv\u001b[0m\n",
      "├── \u001b[00mjbb2015.csv\u001b[0m\n",
      "└── \u001b[01;34mpower\u001b[0m\n",
      "    └── \u001b[00mssj2008.csv\u001b[0m\n",
      "\n",
      "7 directories, 14 files\n"
     ]
    }
   ],
   "source": [
    "!tree /home/scott/Documents/SPEC_Spider"
   ]
  },
  {
   "cell_type": "code",
   "execution_count": 3,
   "id": "de29f8a6-9737-4e31-aef7-cebfa937bcd1",
   "metadata": {},
   "outputs": [],
   "source": [
    "import pandas as pd\n",
    "import numpy as np\n",
    "import re"
   ]
  },
  {
   "cell_type": "code",
   "execution_count": 4,
   "id": "d1dd575a-e0b2-4807-ade0-57bbfb9decd0",
   "metadata": {},
   "outputs": [],
   "source": [
    "c2006_rfp = pd.read_csv(f\"{data_root}/cpu/cpu2006/SPECfp_rate.csv\")\n",
    "c2006_sfp = pd.read_csv(f\"{data_root}/cpu/cpu2006/SPECfp.csv\")\n",
    "c2006_rint = pd.read_csv(f\"{data_root}/cpu/cpu2006/SPECint_rate.csv\")\n",
    "c2006_sint = pd.read_csv(f\"{data_root}/cpu/cpu2006/SPECint.csv\")"
   ]
  },
  {
   "cell_type": "code",
   "execution_count": 5,
   "id": "6ddbc1b1-28d2-49b8-b28f-d0386424419f",
   "metadata": {},
   "outputs": [],
   "source": [
    "cpu2006_columns = [\n",
    "    'Suite', 'Hardware Vendor', 'System Name','Baseline',\n",
    "    'Test Date', 'HW Avail', 'CPU Name', 'CPU Characteristics',\n",
    "    'CPU MHz', 'CPU(s) enabled', 'CPU(s) orderable', 'Primary Cache',\n",
    "    'Secondary Cache', 'L3 Cache', 'Memory', 'Disk Subsystem',\n",
    "    'OS', 'File System', 'URL Suffix',\n",
    "]\n",
    "c2006_rfp = c2006_rfp[cpu2006_columns]\n",
    "c2006_sfp = c2006_sfp[cpu2006_columns]\n",
    "c2006_rint = c2006_rint[cpu2006_columns]\n",
    "c2006_sint = c2006_sint[cpu2006_columns]"
   ]
  },
  {
   "cell_type": "code",
   "execution_count": 6,
   "id": "7ada8104-6755-4466-8bdd-be3da1c33d9e",
   "metadata": {},
   "outputs": [],
   "source": [
    "c2006 = pd.concat([c2006_rfp, c2006_sfp, c2006_rint, c2006_sint]).reset_index(drop=True)"
   ]
  },
  {
   "cell_type": "code",
   "execution_count": 7,
   "id": "77cb517f-7d9f-4b67-a9c2-706750aa988f",
   "metadata": {},
   "outputs": [],
   "source": [
    "c2006_rename_dict = {\n",
    "    'Hardware Vendor': 'HW Vendor',\n",
    "    'CPU(s) enabled': 'CPU Enabled',\n",
    "    'CPU(s) orderable': 'CPU Orderable',\n",
    "    'Primary Cache': 'L1 Cache',\n",
    "    'Secondary Cache': 'L2 Cache',\n",
    "    'L3 Cache': 'L3 Cache',\n",
    "    'Disk Subsystem': 'Storage',\n",
    "}\n",
    "c2006.rename(columns=c2006_rename_dict, inplace=True)"
   ]
  },
  {
   "cell_type": "code",
   "execution_count": 8,
   "id": "a569e904-0a88-4165-ab5c-1cdafe6464e9",
   "metadata": {},
   "outputs": [
    {
     "data": {
      "text/plain": [
       "(48381, 19)"
      ]
     },
     "execution_count": 8,
     "metadata": {},
     "output_type": "execute_result"
    }
   ],
   "source": [
    "c2006.shape"
   ]
  },
  {
   "cell_type": "code",
   "execution_count": 9,
   "id": "ac91bb2e-7b31-49ae-8c3e-6a6ab5ef3ebb",
   "metadata": {},
   "outputs": [],
   "source": [
    "c2006 = c2006[~c2006.isnull().any(axis=1)].reset_index(drop=True)"
   ]
  },
  {
   "cell_type": "code",
   "execution_count": 10,
   "id": "9f90e519-ce49-44c4-8a42-380cb4ec4a8e",
   "metadata": {},
   "outputs": [
    {
     "data": {
      "text/plain": [
       "Index(['Suite', 'HW Vendor', 'System Name', 'Baseline', 'Test Date',\n",
       "       'HW Avail', 'CPU Name', 'CPU Characteristics', 'CPU MHz', 'CPU Enabled',\n",
       "       'CPU Orderable', 'L1 Cache', 'L2 Cache', 'L3 Cache', 'Memory',\n",
       "       'Storage', 'OS', 'File System', 'URL Suffix'],\n",
       "      dtype='object')"
      ]
     },
     "execution_count": 10,
     "metadata": {},
     "output_type": "execute_result"
    }
   ],
   "source": [
    "c2006.columns"
   ]
  },
  {
   "cell_type": "markdown",
   "id": "029d4a01-db4a-4d2a-92f7-64e28070f527",
   "metadata": {},
   "source": [
    "## Clean Vendor and System Name"
   ]
  },
  {
   "cell_type": "code",
   "execution_count": 11,
   "id": "1df64b92-026c-4b04-96d1-ce0be3799438",
   "metadata": {},
   "outputs": [],
   "source": [
    "def clean_vendor(vendor):\n",
    "    def _clear(pattern):\n",
    "        return re.sub(re.compile(pattern, re.IGNORECASE), '', vendor)\n",
    "    vendor = vendor.strip()\n",
    "    patterns = [\n",
    "        ' *[(].*[)]',\n",
    "        ',* *Ltd\\.*$|,* *Inc\\.*$',\n",
    "        ',* *Co\\.*$|,* *Corporation\\.*$|,* *Corparation\\.*$|,* *Corp\\.*$| Incoporated$| Incorporated$| Incorporation$',\n",
    "        ' International$',\n",
    "        ' Computer[s]*$',\n",
    "        ' Technology$'\n",
    "    ]\n",
    "    for pattern in patterns:\n",
    "        vendor = _clear(pattern)\n",
    "    \n",
    "    replace_pairs = [\n",
    "        ('^Huawei', 'Huawei'),\n",
    "        ('^ASUS', 'ASUS'),\n",
    "        ('^acer', 'Acer'),\n",
    "        ('^Hewlett[ -]*Packard', 'HPE'),\n",
    "        ('^Inspur', 'Inspur'),\n",
    "        ('H3C', 'H3C'),\n",
    "        ('^Giga[ -]*byte', 'Gigabyte'),\n",
    "        ('^Fujitsu', 'Fujitsu'),\n",
    "        ('^Hitachi', 'Hitachi'),\n",
    "        ('^Lenovo', 'Lenovo'),\n",
    "        ('^Quanta', 'Quanta'),\n",
    "        ('^Super[ -]*Micro', 'SuperMicro'),\n",
    "        ('^UNIWIDE', 'Uniwide'),\n",
    "        ('^Wizbrain', 'Wizbrain'),\n",
    "        ('^ScaleMP', 'ScaleMP'),\n",
    "        ('^AMD', 'AMD'),\n",
    "        ('Advanced Micro Devices', 'AMD'),\n",
    "        ('^Hewelett-Packard', 'HPE'),\n",
    "        ('^Oracl', 'Oracle'),\n",
    "        ('^BEA', 'BEA'),\n",
    "        ('^OpenJDK', 'OpenJDK'),\n",
    "    ]\n",
    "    for pair in replace_pairs:\n",
    "        if len(re.findall(re.compile(pair[0], re.IGNORECASE), vendor)):\n",
    "            vendor = pair[1]\n",
    "    \n",
    "    return vendor"
   ]
  },
  {
   "cell_type": "code",
   "execution_count": 12,
   "id": "33b437be-1a00-4cdf-8e12-38f5a9108e6f",
   "metadata": {},
   "outputs": [],
   "source": [
    "c2006['HW Vendor'] = c2006['HW Vendor'].apply(lambda x: clean_vendor(x))"
   ]
  },
  {
   "cell_type": "code",
   "execution_count": 13,
   "id": "72699e71-05da-4217-b493-482a95093a2a",
   "metadata": {},
   "outputs": [],
   "source": [
    "def parse_system_name(info):\n",
    "    info = re.sub('[(].*[)]', '', info)\n",
    "    info = re.sub('[(]|[)]', '', info)\n",
    "    info = info.strip()\n",
    "    info = info.split(',')[0]\n",
    "    info = re.sub(' AMD.*?', '', info)\n",
    "    info = re.sub(' Intel.*', '', info)\n",
    "    info = re.sub('\\d+.*\\d*GHz$', '', info)\n",
    "    info = re.sub('^vSMP ServerONE Supermicro ', '', info)\n",
    "    info = info.strip()\n",
    "    return info\n",
    "c2006['System Name'] = c2006['System Name'].apply(lambda x: parse_system_name(x))"
   ]
  },
  {
   "cell_type": "markdown",
   "id": "684f61d4-bfb7-46dc-857f-107f35fb6a3b",
   "metadata": {},
   "source": [
    "## Clean CPU"
   ]
  },
  {
   "cell_type": "code",
   "execution_count": 14,
   "id": "dee984b5-afdd-423c-895f-6c745c6f2b15",
   "metadata": {},
   "outputs": [
    {
     "data": {
      "text/plain": [
       "Index(['Suite', 'HW Vendor', 'System Name', 'Baseline', 'Test Date',\n",
       "       'HW Avail', 'CPU Name', 'CPU Characteristics', 'CPU MHz', 'CPU Enabled',\n",
       "       'CPU Orderable', 'L1 Cache', 'L2 Cache', 'L3 Cache', 'Memory',\n",
       "       'Storage', 'OS', 'File System', 'URL Suffix'],\n",
       "      dtype='object')"
      ]
     },
     "execution_count": 14,
     "metadata": {},
     "output_type": "execute_result"
    }
   ],
   "source": [
    "c2006.columns"
   ]
  },
  {
   "cell_type": "code",
   "execution_count": 15,
   "id": "6b1678bc-bf02-4a52-9b84-766593b31832",
   "metadata": {},
   "outputs": [],
   "source": [
    "def get_cpu_vendor(cpu_name):\n",
    "    item = cpu_name.split()[0]\n",
    "    if item in ['Intel', 'AMD', 'Huawei']:\n",
    "        vendor = item\n",
    "    else:\n",
    "        vendor = 'Other'\n",
    "    return vendor\n",
    "c2006['CPU Vendor'] = c2006['CPU Name'].apply(lambda x: get_cpu_vendor(x))"
   ]
  },
  {
   "cell_type": "code",
   "execution_count": 19,
   "id": "fd05cd8d-09b4-418e-a0d1-cabc70659de6",
   "metadata": {},
   "outputs": [],
   "source": [
    "c2006['CPU MHz'] = c2006['CPU MHz'].apply(lambda x: round(x /1000, 2))"
   ]
  },
  {
   "cell_type": "code",
   "execution_count": 34,
   "id": "2efb310b-93f0-47dc-8536-bfbaa1da5c42",
   "metadata": {},
   "outputs": [
    {
     "data": {
      "text/plain": [
       "['3.0GHz']"
      ]
     },
     "execution_count": 34,
     "metadata": {},
     "output_type": "execute_result"
    }
   ],
   "source": [
    "re.findall('\\d+.*?\\d*[ ]*G[ ]*Hz', 'Intel Turbo Boost Technology up to 2.40G Hz') \n",
    "re.findall('\\d+\\.*\\d*[ ]?G[ ]?Hz', '3.0GHz 1333MHz System Bus')"
   ]
  },
  {
   "cell_type": "code",
   "execution_count": 38,
   "id": "63eddf7d-37e2-4f20-b2fa-59dc42a12f17",
   "metadata": {},
   "outputs": [],
   "source": [
    "def parse_cpu_char(info):\n",
    "    items = re.findall('\\d+\\.*\\d*[ ]?G[ ]?Hz', info)\n",
    "    if len(items) == 0:\n",
    "        items = re.findall('\\d+\\.*\\d*[ ]?M[ ]?Hz', info)\n",
    "        if len(items) == 0:\n",
    "            value = 0\n",
    "        else:\n",
    "            value = float(re.sub('[ ]?M[ ]?Hz', '', items[0]))\n",
    "    else:\n",
    "        value = float(re.sub('[ ]?G[ ]?Hz', '', items[0]))\n",
    "    return value\n",
    "c2006['Max MHz'] = c2006['CPU Characteristics'].apply(lambda x: parse_cpu_char(x))"
   ]
  },
  {
   "cell_type": "code",
   "execution_count": 40,
   "id": "defb1a4a-61ad-447e-9469-b9d292e93a34",
   "metadata": {},
   "outputs": [],
   "source": [
    "f = c2006['Max MHz'] == 0.\n",
    "indices = c2006[f].index\n",
    "cpu_mhz = c2006.loc[indices, 'CPU MHz']\n",
    "c2006.loc[indices, 'Max MHz'] = c2006.loc[indices, 'CPU MHz']"
   ]
  },
  {
   "cell_type": "code",
   "execution_count": 43,
   "id": "7868d875-b4dc-47cd-bd5c-244ca650f4d1",
   "metadata": {},
   "outputs": [
    {
     "data": {
      "text/plain": [
       "Index(['Suite', 'HW Vendor', 'System Name', 'Baseline', 'Test Date',\n",
       "       'HW Avail', 'CPU Name', 'CPU Characteristics', 'CPU MHz', 'CPU Enabled',\n",
       "       'CPU Orderable', 'L1 Cache', 'L2 Cache', 'L3 Cache', 'Memory',\n",
       "       'Storage', 'OS', 'File System', 'URL Suffix', 'CPU Vendor', 'Max MHz'],\n",
       "      dtype='object')"
      ]
     },
     "execution_count": 43,
     "metadata": {},
     "output_type": "execute_result"
    }
   ],
   "source": [
    "c2006.columns"
   ]
  },
  {
   "cell_type": "code",
   "execution_count": 46,
   "id": "62612e8e-4826-4fbf-b9b0-e81d4ce238b2",
   "metadata": {},
   "outputs": [],
   "source": [
    "def parse_cpu_enabled(info):\n",
    "    items = info.split(',')\n",
    "    threads_per_core = 1\n",
    "    total_cores = int(items[0].split()[0])\n",
    "    chips = int(items[1].split()[0])\n",
    "    cores_per_chip = int(items[2].split()[0])\n",
    "    if len(items) == 4:\n",
    "        cores_per_chip = (items[-1].split()[0])\n",
    "    return pd.Series({\n",
    "        'Total Cores': total_cores,\n",
    "        'Chips': chips,\n",
    "        'Cores Per Chip': cores_per_chip,\n",
    "        'Threads Per Core': threads_per_core,\n",
    "    })\n",
    "c2006[['Total Cores', 'Chips', 'Cores Per Chip', 'Threads Per Core']] = c2006['CPU Enabled'].apply(lambda x: parse_cpu_enabled(x))"
   ]
  },
  {
   "cell_type": "code",
   "execution_count": 59,
   "id": "e76fb794-0405-4ec9-8afd-59a99b7124e6",
   "metadata": {},
   "outputs": [],
   "source": [
    "def parse_cpu_orderable(info):\n",
    "    info = info.split(';')[0]\n",
    "    items = re.findall('.*chip', info)\n",
    "    number = 1\n",
    "    if len(items):\n",
    "        nums = [int(num) for num in re.findall(r'\\d+', items[0])]\n",
    "        number = nums[-1]\n",
    "    return number\n",
    "c2006['Max Chips'] = c2006['CPU Orderable'].apply(lambda x: parse_cpu_orderable(x))"
   ]
  },
  {
   "cell_type": "code",
   "execution_count": 60,
   "id": "dcdceacb-8ee9-4e9f-af78-c1d413869c42",
   "metadata": {},
   "outputs": [
    {
     "data": {
      "text/plain": [
       "array([   2,    4,    1,    8,   32,  128,  256,   64,  512,   16, 9999,\n",
       "         96])"
      ]
     },
     "execution_count": 60,
     "metadata": {},
     "output_type": "execute_result"
    }
   ],
   "source": [
    "c2006['Max Chips'].unique()"
   ]
  },
  {
   "cell_type": "code",
   "execution_count": 62,
   "id": "d71b1be3-249a-4109-8725-af41f964be4f",
   "metadata": {},
   "outputs": [],
   "source": [
    "c2006['File System'] = c2006['File System'].apply(lambda x: x.lower())"
   ]
  },
  {
   "cell_type": "code",
   "execution_count": 66,
   "id": "4c9229cd-fa91-4dce-a0b2-472b8542940e",
   "metadata": {},
   "outputs": [
    {
     "data": {
      "text/plain": [
       "array(['128 GB (8 x 16 GB 2Rx4 PC3-10600R-9 ECC)',\n",
       "       '4 TB (128 x 32 GB 2Rx4 PC4 - 2400T, running at 1600)',\n",
       "       '8 TB (128 x 64 GB 4Rx4 PC4 - 2400T, running at 1600)', ...,\n",
       "       '256 GB (16 x 16 GB 2Rx4 PC4-1866P-R)',\n",
       "       '96 GB (12 x 8 GB 2Rx4 PC3-12800R-11, ECC, running at 1333 Mhz and CL9)',\n",
       "       '24 GB (6 x 4GB DDR3-1066 RDIMM, CL9)'], dtype=object)"
      ]
     },
     "execution_count": 66,
     "metadata": {},
     "output_type": "execute_result"
    }
   ],
   "source": [
    "c2006['Memory'].unique()"
   ]
  },
  {
   "cell_type": "code",
   "execution_count": 71,
   "id": "af656293-63c2-4c7d-96fd-9bd2d587a6e9",
   "metadata": {
    "tags": []
   },
   "outputs": [],
   "source": [
    "def parse_memory(info):\n",
    "    total_memory_amount = int(info.split()[0])\n",
    "    unit = info.split()[1]\n",
    "    if 'T' in unit:\n",
    "        total_memory_amount *= 1024\n",
    "    items = re.findall(r'\\d+ x', info)\n",
    "    nums = [int(item.split()[0]) for item in items]\n",
    "    memory_num = sum(nums)\n",
    "    if memory_num == 0:\n",
    "        memory_num = 1\n",
    "    return pd.Series({\n",
    "        'Total Memory Amount': total_memory_amount,\n",
    "        'Memory Number': memory_num,\n",
    "    })\n",
    "c2006[['Total Memory Amount', 'Memory Number']] = c2006['Memory'].apply(lambda x: parse_memory(x))  "
   ]
  },
  {
   "cell_type": "code",
   "execution_count": 72,
   "id": "3d1ad73b-2a1b-4ed4-80a0-ac4a5d3e3be5",
   "metadata": {},
   "outputs": [],
   "source": [
    "c2006['Memory Amount'] = c2006.apply(lambda item: item['Total Memory Amount'] // item['Memory Number'], axis=1)"
   ]
  },
  {
   "cell_type": "code",
   "execution_count": 75,
   "id": "d35865bb-5e4a-4b1f-80d3-f7223e223036",
   "metadata": {},
   "outputs": [
    {
     "data": {
      "text/plain": [
       "array(['1 x 300 GB SAS, 10K RPM', '1 x 7.3 TB 7200 RPM SATA',\n",
       "       '2 x 2.9 TB NVMe SSD', ..., '1 x 600GB SAS, 15K RPM',\n",
       "       '1 X 300 GB 10000 RPM SAS Disk', '1 x 10000 GB SATA, 7200 RPM'],\n",
       "      dtype=object)"
      ]
     },
     "execution_count": 75,
     "metadata": {},
     "output_type": "execute_result"
    }
   ],
   "source": [
    "c2006['Storage'].unique()"
   ]
  },
  {
   "cell_type": "code",
   "execution_count": 76,
   "id": "0ff25535-3d83-4033-894b-840ada30bdb0",
   "metadata": {},
   "outputs": [],
   "source": [
    "def parse_storage(info):\n",
    "    # items = re.findall(r'\\d+[ ]*x', info)\n",
    "    # storage_num = 1\n",
    "    # if len(items) != 0:\n",
    "    #     storage_num = items[0][:-1].strip()\n",
    "    # storage_num = int(storage_num)\n",
    "    # items = re.findall(r'\\d+[.]?\\d*[ ]*TB?', info)\n",
    "    # if len(items):\n",
    "    #     storage_size = float(re.findall(r'\\d+\\.?\\d*', items[0])[0])\n",
    "    #     storage_size = storage_size * 1024\n",
    "    # else:\n",
    "    #     items = re.findall(r'\\d+[.]*\\d*[ ]*GB?', info)\n",
    "    #     storage_size = float(re.findall(r'\\d+\\.?\\d*', items[0])[0])\n",
    "    if 'SSD' in info.upper():\n",
    "        storage_type = 'SSD'\n",
    "    elif 'HDD' in info.upper():\n",
    "        storage_type = 'HDD'\n",
    "    elif 'ramfs' in info.lower():\n",
    "        storage_type = 'ramfs'\n",
    "    elif 'tmpfs' in info.lower():\n",
    "        storage_type = 'tmpfs'\n",
    "    elif 'zfs' in info.lower():\n",
    "        storage_type = 'zfs'\n",
    "    else:\n",
    "        storage_type = 'SSD'\n",
    "    return pd.Series({\n",
    "        # 'Storage Number': storage_num,\n",
    "        # 'Storage Size': storage_size,\n",
    "        'Storage Type': storage_type\n",
    "    })\n",
    "\n",
    "c2006['Storage Type'] = c2006['Storage'].apply(lambda x: parse_storage(x))"
   ]
  },
  {
   "cell_type": "markdown",
   "id": "33ef12eb-108d-4001-923f-0ec89fc5b9a4",
   "metadata": {},
   "source": [
    "## Clean Date"
   ]
  },
  {
   "cell_type": "code",
   "execution_count": 77,
   "id": "813595f5-d5e2-4b9d-9751-9483f587e33c",
   "metadata": {},
   "outputs": [
    {
     "data": {
      "text/plain": [
       "{1: 'Jan',\n",
       " 2: 'Feb',\n",
       " 3: 'Mar',\n",
       " 4: 'Apr',\n",
       " 5: 'May',\n",
       " 6: 'Jun',\n",
       " 7: 'Jul',\n",
       " 8: 'Aug',\n",
       " 9: 'Sep',\n",
       " 10: 'Oct',\n",
       " 11: 'Nov',\n",
       " 12: 'Dec'}"
      ]
     },
     "execution_count": 77,
     "metadata": {},
     "output_type": "execute_result"
    }
   ],
   "source": [
    "month_mapper = {\n",
    "    'Jan': 1, 'Feb': 2, 'Mar': 3, 'Apr': 4, 'May':5, 'Jun': 6,\n",
    "    'Jul': 7, 'Aug': 8, 'Sep': 9, 'Oct': 10, 'Nov': 11, 'Dec': 12\n",
    "}\n",
    "re_month_mapper = {v:k for k, v in month_mapper.items()}\n",
    "\n",
    "re_month_mapper"
   ]
  },
  {
   "cell_type": "code",
   "execution_count": 78,
   "id": "6dd18a27-605c-47e7-9daf-bb5c3982e57e",
   "metadata": {},
   "outputs": [],
   "source": [
    "def split_date_1(item):\n",
    "    \"\"\"\n",
    "    May-2017\n",
    "    2014.3\n",
    "    2010\n",
    "    \"\"\"\n",
    "    item = item.strip()\n",
    "    d = 1\n",
    "    if '-' in item:\n",
    "        m, y = item.split('-')\n",
    "    elif '.' in item:\n",
    "        y, m = item.split('.')\n",
    "        m = re_month_mapper[int(m)]\n",
    "    elif ' ' in item:\n",
    "        m, y = item.split()\n",
    "    else:\n",
    "        y = item\n",
    "        m = 'Jan'\n",
    "    m = month_mapper[m[:3]]\n",
    "    y = int(y)\n",
    "    return pd.Series({'day': d, 'month': m, 'year': y})"
   ]
  },
  {
   "cell_type": "code",
   "execution_count": 79,
   "id": "fd271691-7a5a-4a78-ba99-2e7a478579f0",
   "metadata": {},
   "outputs": [],
   "source": [
    "def split_date_2(item):\n",
    "    \"\"\"\n",
    "    May 1, 2018\n",
    "    2009/05/19\n",
    "    12.02.2009\n",
    "    \"\"\"\n",
    "    if ',' in item:\n",
    "        md, y = item.split(',')\n",
    "        m, d = md.split()\n",
    "    elif '/' in item:\n",
    "        y, m, d = item.split('/')\n",
    "        m = re_month_mapper[int(m)]\n",
    "    elif '.' in item:\n",
    "        d, m, y = item.split('.')\n",
    "        m = re_month_mapper[int(m)]\n",
    "    m = m[:3]\n",
    "    if m == 'Spe':\n",
    "        m = 'Sep'\n",
    "    m = month_mapper[m[:3]]\n",
    "    d, m, y = int(d), int(m), int(y)\n",
    "    return pd.Series({'day': d, 'month': m, 'year': y})"
   ]
  },
  {
   "cell_type": "code",
   "execution_count": 80,
   "id": "2698ba7c-2bf2-4420-ab95-0e99d3d535cc",
   "metadata": {},
   "outputs": [],
   "source": [
    "def get_quarter(url):\n",
    "    items = url.split('/')[0]\n",
    "    return pd.Series({'quarter': int(items[-1]), 'submit_year': int(items[3:7])})"
   ]
  },
  {
   "cell_type": "code",
   "execution_count": 81,
   "id": "4f4125a2-6dde-419c-bc2f-c0482c355614",
   "metadata": {},
   "outputs": [
    {
     "data": {
      "text/plain": [
       "Index(['Suite', 'HW Vendor', 'System Name', 'Baseline', 'Test Date',\n",
       "       'HW Avail', 'CPU Name', 'CPU Characteristics', 'CPU MHz', 'CPU Enabled',\n",
       "       'CPU Orderable', 'L1 Cache', 'L2 Cache', 'L3 Cache', 'Memory',\n",
       "       'Storage', 'OS', 'File System', 'URL Suffix', 'CPU Vendor', 'Max MHz',\n",
       "       'Total Cores', 'Chips', 'Cores Per Chip', 'Threads Per Core',\n",
       "       'Max Chips', 'Total Memory Amount', 'Memory Number', 'Memory Amount',\n",
       "       'Storage Type'],\n",
       "      dtype='object')"
      ]
     },
     "execution_count": 81,
     "metadata": {},
     "output_type": "execute_result"
    }
   ],
   "source": [
    "c2006.columns"
   ]
  },
  {
   "cell_type": "code",
   "execution_count": 82,
   "id": "8e8bb97a-7796-4426-a461-26dfe8731a31",
   "metadata": {},
   "outputs": [],
   "source": [
    "c2006[['day', 'month', 'year']] = c2006['Test Date'].apply(lambda x: split_date_1(x))"
   ]
  },
  {
   "cell_type": "code",
   "execution_count": 83,
   "id": "0b645409-0518-4a34-93c9-f8c56a44c4a6",
   "metadata": {},
   "outputs": [],
   "source": [
    "c2006[['quarter', 'submit_year']] = c2006['URL Suffix'].apply(lambda x: get_quarter(x))"
   ]
  },
  {
   "cell_type": "code",
   "execution_count": 84,
   "id": "25330e01-5a43-48c3-a9e8-17c1e0bf2ff8",
   "metadata": {},
   "outputs": [
    {
     "data": {
      "text/plain": [
       "Index(['Suite', 'HW Vendor', 'System Name', 'Baseline', 'Test Date',\n",
       "       'HW Avail', 'CPU Name', 'CPU Characteristics', 'CPU MHz', 'CPU Enabled',\n",
       "       'CPU Orderable', 'L1 Cache', 'L2 Cache', 'L3 Cache', 'Memory',\n",
       "       'Storage', 'OS', 'File System', 'URL Suffix', 'CPU Vendor', 'Max MHz',\n",
       "       'Total Cores', 'Chips', 'Cores Per Chip', 'Threads Per Core',\n",
       "       'Max Chips', 'Total Memory Amount', 'Memory Number', 'Memory Amount',\n",
       "       'Storage Type', 'day', 'month', 'year', 'quarter', 'submit_year'],\n",
       "      dtype='object')"
      ]
     },
     "execution_count": 84,
     "metadata": {},
     "output_type": "execute_result"
    }
   ],
   "source": [
    "c2006.columns"
   ]
  },
  {
   "cell_type": "code",
   "execution_count": 85,
   "id": "361f8ca7-cf3e-4e04-9c9e-7fcc6ed7399f",
   "metadata": {},
   "outputs": [
    {
     "data": {
      "text/plain": [
       "array(['Sep-2013', 'Dec-2017', 'Jun-2013', 'Apr-2011', 'Jul-2017',\n",
       "       'Jun-2016', 'Mar-2017', 'Mar-2016', 'Oct-2015', 'Nov-2015',\n",
       "       'Apr-2016', 'Dec-2015', 'Sep-2015', 'Aug-2015', 'Sep-2014',\n",
       "       'May-2014', 'Jun-2015', 'Nov-2014', 'Jan-2015', 'Oct-2014',\n",
       "       'Dec-2013', 'Aug-2013', 'Mar-2014', 'Oct-2013', 'Jan-2014',\n",
       "       'Jul-2013', 'Nov-2012', 'Mar-2012', 'Feb-2012', 'Nov-2011',\n",
       "       'Feb-2013', 'Dec-2012', 'Sep-2012', 'Apr-2012', 'Jan-2012',\n",
       "       'May-2012', 'Mar-2011', 'Jun-2012', 'Oct-2011', 'Aug-2011',\n",
       "       'Jun-2011', 'Jan-2010', 'Feb-2011', 'Apr-2010', 'Mar-2010',\n",
       "       'Jun-2010', 'May-2010', 'Sep-2009', 'Oct-2009', 'Nov-2008',\n",
       "       'Nov-2007', 'Sep-2007', 'Jul-2007', 'May-2007', 'Nov-2006',\n",
       "       'Dec-2006', 'May-2006', 'Apr-2007', 'Jan-2007', 'Apr-2009',\n",
       "       'Jan-2009', 'Feb-2008', 'Oct-2007', 'May-2016', 'May-2015',\n",
       "       'Jun-2014', 'Feb-2014', 'Nov-2013', 'Mar-2013', 'Dec-2014',\n",
       "       'Mar-2009', 'Mar-2008', 'Jan-2008', 'Aug-2007', 'Nov-2004',\n",
       "       'Jul-2006', 'Dec-2010', 'Aug-2010', 'Jul-2010', 'Sep-2017',\n",
       "       'Dec-2008', 'Sep-2016', 'Apr-2017', 'Dec-2016', 'Jul-2016',\n",
       "       'Apr-2015', 'Feb-2015', 'Jul-2014', 'Oct-2012', 'Jul-2012',\n",
       "       'Sep-2010', 'Jul-2009', 'May-2009', 'Jun-2009', 'Feb-2009',\n",
       "       'Oct-2008', 'Apr-2008', 'May-2008', 'Dec-2007', 'Oct-2006',\n",
       "       'Jun-2007', 'Jun-2017', 'Feb-2017', 'Jan-2017', 'Jul-2015',\n",
       "       'Aug-2017', 'Nov-2017', 'Jul-2011', 'Dec-2009', 'Feb-2007',\n",
       "       'Aug-2014', 'May-2013', 'Apr-2014', 'Sep-2011', 'May-2011',\n",
       "       'Jan-2011', 'Nov-2009', 'Aug-2006', 'Oct-2016', 'Aug-2012',\n",
       "       'Dec-2011', 'Nov-2010', 'Feb-2010', 'Oct-2010', 'Aug-2009',\n",
       "       'Sep-2008', 'Jul-2008', 'Jun-2008', 'Jan-2016', 'Nov-2016',\n",
       "       'Mar-2015', 'Jun-2006', 'Sep-2006', 'Oct-2005', 'Sep-2005',\n",
       "       'Oct-2017', 'Mar-2018', 'May-2017', 'Aug-2016', 'Feb-2016',\n",
       "       'Aug-2008', 'Mar-2007', 'Dec-2005', 'Apr-2013', 'Jan-2006',\n",
       "       'Mar-2006', ' Nov-2007', 'Jan-2013'], dtype=object)"
      ]
     },
     "execution_count": 85,
     "metadata": {},
     "output_type": "execute_result"
    }
   ],
   "source": [
    "c2006['HW Avail'].unique()"
   ]
  },
  {
   "cell_type": "code",
   "execution_count": 86,
   "id": "3009e987-4424-4e6a-967c-f206679f2f2d",
   "metadata": {},
   "outputs": [
    {
     "ename": "SyntaxError",
     "evalue": "invalid syntax (2501212078.py, line 1)",
     "output_type": "error",
     "traceback": [
      "\u001b[0;36m  Input \u001b[0;32mIn [86]\u001b[0;36m\u001b[0m\n\u001b[0;31m    c2006['HW Avail'].apply(lambda x: split_date_1(x))`\u001b[0m\n\u001b[0m                                                      ^\u001b[0m\n\u001b[0;31mSyntaxError\u001b[0m\u001b[0;31m:\u001b[0m invalid syntax\n"
     ]
    }
   ],
   "source": [
    "c2006['HW Avail'].apply(lambda x: split_date_1(x))`"
   ]
  },
  {
   "cell_type": "code",
   "execution_count": null,
   "id": "cca7edec-c6f0-4beb-8215-555ce5b9d7de",
   "metadata": {},
   "outputs": [],
   "source": []
  }
 ],
 "metadata": {
  "kernelspec": {
   "display_name": "Python 3 (ipykernel)",
   "language": "python",
   "name": "python3"
  },
  "language_info": {
   "codemirror_mode": {
    "name": "ipython",
    "version": 3
   },
   "file_extension": ".py",
   "mimetype": "text/x-python",
   "name": "python",
   "nbconvert_exporter": "python",
   "pygments_lexer": "ipython3",
   "version": "3.8.12"
  }
 },
 "nbformat": 4,
 "nbformat_minor": 5
}
