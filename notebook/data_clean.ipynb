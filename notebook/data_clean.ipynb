{
 "cells": [
  {
   "cell_type": "code",
   "execution_count": 1,
   "id": "f0f92945-5003-4299-b64d-097cbd43e179",
   "metadata": {},
   "outputs": [],
   "source": [
    "data_root = '/home/scott/Documents/SPEC_Spider'"
   ]
  },
  {
   "cell_type": "code",
   "execution_count": 2,
   "id": "cc94e7a4-f50e-4020-a624-29020917a536",
   "metadata": {},
   "outputs": [
    {
     "name": "stdout",
     "output_type": "stream",
     "text": [
      "\u001b[01;34m/home/scott/Documents/SPEC_Spider\u001b[0m\n",
      "├── \u001b[01;34mcpu\u001b[0m\n",
      "│   ├── \u001b[01;34mcpu2006\u001b[0m\n",
      "│   │   ├── \u001b[00mSPECfp.csv\u001b[0m\n",
      "│   │   ├── \u001b[00mSPECfp_rate.csv\u001b[0m\n",
      "│   │   ├── \u001b[00mSPECint.csv\u001b[0m\n",
      "│   │   └── \u001b[00mSPECint_rate.csv\u001b[0m\n",
      "│   └── \u001b[01;34mcpu2017\u001b[0m\n",
      "│       ├── \u001b[00mCFP2017_rate.csv\u001b[0m\n",
      "│       ├── \u001b[00mCFP2017_speed.csv\u001b[0m\n",
      "│       ├── \u001b[00mCINT2017_rate.csv\u001b[0m\n",
      "│       └── \u001b[00mCINT2017_speed.csv\u001b[0m\n",
      "├── \u001b[01;34mjava\u001b[0m\n",
      "│   ├── \u001b[01;34mjbb2015\u001b[0m\n",
      "│   │   ├── \u001b[00mSPECjbb2015-Composite.csv\u001b[0m\n",
      "│   │   ├── \u001b[00mSPECjbb2015-Distributed.csv\u001b[0m\n",
      "│   │   └── \u001b[00mSPECjbb2015-MultiJVM.csv\u001b[0m\n",
      "│   └── \u001b[01;34mjvm2008\u001b[0m\n",
      "│       └── \u001b[00mjvm2008.csv\u001b[0m\n",
      "├── \u001b[00mjbb2015.csv\u001b[0m\n",
      "└── \u001b[01;34mpower\u001b[0m\n",
      "    └── \u001b[00mssj2008.csv\u001b[0m\n",
      "\n",
      "7 directories, 14 files\n"
     ]
    }
   ],
   "source": [
    "!tree /home/scott/Documents/SPEC_Spider"
   ]
  },
  {
   "cell_type": "code",
   "execution_count": 14,
   "id": "9cf2a5ed-dff8-42ec-b4de-c7d4df3b59da",
   "metadata": {},
   "outputs": [],
   "source": [
    "import pandas as pd\n",
    "import numpy as np\n",
    "import re"
   ]
  },
  {
   "cell_type": "code",
   "execution_count": 4,
   "id": "3fbf23f1-0eb8-4ffc-9ed5-07937db6d65f",
   "metadata": {},
   "outputs": [],
   "source": [
    "c2017_rfp = pd.read_csv(f\"{data_root}/cpu/cpu2017/CFP2017_rate.csv\")\n",
    "c2017_sfp = pd.read_csv(f\"{data_root}/cpu/cpu2017/CFP2017_speed.csv\")\n",
    "c2017_rint = pd.read_csv(f\"{data_root}/cpu/cpu2017/CINT2017_rate.csv\")\n",
    "c2017_sint = pd.read_csv(f\"{data_root}/cpu/cpu2017/CINT2017_speed.csv\")\n",
    "\n",
    "c2006_rfp = pd.read_csv(f\"{data_root}/cpu/cpu2006/SPECfp_rate.csv\")\n",
    "c2006_sfp = pd.read_csv(f\"{data_root}/cpu/cpu2006/SPECfp.csv\")\n",
    "c2006_rint = pd.read_csv(f\"{data_root}/cpu/cpu2006/SPECint_rate.csv\")\n",
    "c2006_sint = pd.read_csv(f\"{data_root}/cpu/cpu2006/SPECint.csv\")\n",
    "\n",
    "j2015_com = pd.read_csv(f\"{data_root}/java/jbb2015/SPECjbb2015-Composite.csv\")\n",
    "j2015_dis = pd.read_csv(f\"{data_root}/java/jbb2015/SPECjbb2015-Distributed.csv\")\n",
    "j2015_mul = pd.read_csv(f\"{data_root}/java/jbb2015/SPECjbb2015-MultiJVM.csv\")\n",
    "\n",
    "jvm2008 = pd.read_csv(f\"{data_root}/java/jvm2008/jvm2008.csv\")\n",
    "ssj2008 = pd.read_csv(f\"{data_root}/power/ssj2008.csv\")"
   ]
  },
  {
   "cell_type": "markdown",
   "id": "f6d9ae30-9d87-4c28-b038-c29fcd5f71e2",
   "metadata": {},
   "source": [
    "Get all the hardware vendors to clean"
   ]
  },
  {
   "cell_type": "code",
   "execution_count": 156,
   "id": "3d301aca-3d44-4ffb-a03d-087a1c7c706d",
   "metadata": {},
   "outputs": [],
   "source": [
    "def clean_vendor(vendor):\n",
    "    def _clear(pattern):\n",
    "        return re.sub(re.compile(pattern, re.IGNORECASE), '', vendor)\n",
    "    patterns = [\n",
    "        ' *[(].*[)]',\n",
    "        ',* Ltd\\.*$|,* Inc\\.*$',\n",
    "        ',* Co\\.*$|,* Corporation\\.*$|,* Corp\\.*$| Incoporated$| Incorporated$',\n",
    "        ' International$',\n",
    "        ' Computer[s]*$',\n",
    "        ' Technology$'\n",
    "    ]\n",
    "    for pattern in patterns:\n",
    "        vendor = _clear(pattern)\n",
    "    \n",
    "    replace_pairs = [\n",
    "        ('^Huawei', 'Huawei'),\n",
    "        ('^ASUS', 'ASUS'),\n",
    "        ('^Hewlett[ -]*Packard', 'Hewlett Packard'),\n",
    "        ('^Inspur', 'Inspur'),\n",
    "        ('H3C', 'H3C'),\n",
    "        ('^Giga[ -]*byte', 'Gigabyte'),\n",
    "        ('^Fujitsu', 'Fujitsu'),\n",
    "        ('^Hitachi', 'Hitachi'),\n",
    "        ('^Lenovo', 'Lenovo'),\n",
    "        ('^Quanta', 'Quanta'),\n",
    "        ('^Super[ -]*Micro', 'SuperMicro'),\n",
    "        ('^UNIWIDE', 'Uniwide'),\n",
    "        ('^Wizbrain', 'Wizbrain')\n",
    "    ]\n",
    "    for pair in replace_pairs:\n",
    "        if len(re.findall(re.compile(pair[0], re.IGNORECASE), vendor)):\n",
    "            vendor = pair[1]\n",
    "    \n",
    "    return vendor"
   ]
  },
  {
   "cell_type": "code",
   "execution_count": 157,
   "id": "72f2feff-e45d-4ce5-a678-081e598c0dd8",
   "metadata": {},
   "outputs": [
    {
     "data": {
      "text/plain": [
       "array(['xFusion', 'ZTE', 'Yadro', 'KTNF', 'SuperMicro', 'Sugon',\n",
       "       'ScaleMP', 'Quanta', 'Huawei', 'Oracle', 'Sun Microsystems',\n",
       "       'Nokia', 'H3C', 'Tyrone Systems', 'Nettrix', 'NEC',\n",
       "       'M Computers s.r.o.', 'Lenovo', 'Intel', 'ASUS', 'Inspur',\n",
       "       'Hitachi', 'Hewlett Packard', 'Gigabyte', 'Fujitsu',\n",
       "       'Epsylon Sp. z o.o. Sp. Komandytowa', 'Dell', 'Cisco Systems',\n",
       "       'Altos Computing', 'ATOS'], dtype=object)"
      ]
     },
     "execution_count": 157,
     "metadata": {},
     "output_type": "execute_result"
    }
   ],
   "source": [
    "c2017_rfp['Hardware Vendor'].apply(lambda x: clean_vendor(x)).unique()"
   ]
  },
  {
   "cell_type": "code",
   "execution_count": 159,
   "id": "ac77b84f-9fb7-4ec2-82f8-9a750a3a41ab",
   "metadata": {
    "tags": []
   },
   "outputs": [
    {
     "name": "stdout",
     "output_type": "stream",
     "text": [
      "-----CPU2017-------\n",
      "['Suite', 'Hardware Vendor', 'System Name', 'Metric', 'Baseline', 'License', 'Test Sponsor', 'Tested By', 'Test Date', 'HW Avail', 'SW Avail', 'CPU Name', 'Max MHz', 'Nominal', 'Enabled', 'Orderable', 'L1', 'L2', 'L3', 'Other Cache', 'Memory', 'Storage', 'Other HW', 'OS', 'Compiler', 'Parallel', 'Firmware', 'File System', 'System State', 'Base Pointers', 'Peak Pointers', 'Other SW', '503.bwaves_r', '507.cactuBSSN_r', '508.namd_r', '510.parest_r', '511.povray_r', '519.lbm_r', '521.wrf_r', '526.blender_r', '527.cam4_r', '538.imagick_r', '544.nab_r', '549.fotonik3d_r', '554.roms_r', 'Base Copies', 'URL Suffix']\n",
      "-----CPU2006-------\n",
      "['Suite', 'Hardware Vendor', 'System Name', 'Metric', 'Baseline', 'License', 'Test Sponsor', 'Tested By', 'Test Date', 'HW Avail', 'SW Avail', 'CPU Name', 'CPU Characteristics', 'CPU MHz', 'FPU', 'CPU(s) enabled', 'CPU(s) orderable', 'Primary Cache', 'Secondary Cache', 'L3 Cache', 'Other Cache', 'Memory', 'Disk Subsystem', 'Other Hardware', 'OS', 'Compiler', 'Parallel', 'File System', 'System State', 'Base Pointers', 'Peak Pointers', 'Other Software', '410.bwaves', '416.gamess', '433.milc', '434.zeusmp', '435.gromacs', '436.cactusADM', '437.leslie3d', '444.namd', '447.dealII', '450.soplex', '453.povray', '454.calculix', '459.GemsFDTD', '465.tonto', '470.lbm', '481.wrf', '482.sphinx3', 'Base Copies', 'URL Suffix']\n",
      "-----jbb2015-------\n",
      "['Suite', 'max_jOPS', 'cirtical_jOPS', 'Tested by', 'Test Sponsor', 'Test location', 'Test date', 'SPEC license', 'Hardware Availability', 'Software Availability', 'Publication', 'Vendor', 'Total Systems', 'Total Nodes', 'Nodes Per System', 'Total Chips', 'Total Cores', 'Total Threads', 'Total Memory Amount (GB)', 'Form Factor', 'CPU Name', 'CPU Characteristics', 'Number of Systems', 'Chips Per System', 'Cores Per System', 'Cores Per Chip', 'Threads Per System', 'Threads Per Core', 'CPU Frequency (MHz)', 'Primary Cache', 'Secondary Cache', 'Tertiary Cache', 'Other Cache', 'Disk', 'File System', 'Memory Amount (GB)', '# and size of DIMM(s)', 'Memory Details', '# and type of Network Interface Cards (NICs)', 'Power Supply Quantity and Rating (W)', 'System Name', 'OS Name', 'OS Vendor', 'OS Version', 'JVM Name', 'JVM Vendor', 'JVM Version', 'URL Suffix']\n",
      "-----jvm2008-------\n",
      "['Suite', 'Result', 'Submitter', 'SPEC license', 'Test date:', 'HW vendor', 'HW model', 'HW available', 'CPU vendor', 'CPU name', 'CPU frequency', '# of logical cpus', '# of chips', '# of cores', 'Cores per chip', 'Threads per core', 'Threading enabled', 'HW address bits', 'Primary cache', 'Secondary cache', 'Other cache', 'Memory size', 'Memory details', 'Other HW details', 'OS name', 'OS available', 'Filesystem', 'JVM name', 'JVM version', 'JVM available', 'JVM Vendor', 'URL Suffix']\n",
      "-----ssj2008-------\n",
      "['Suite', 'Test Sponsor', 'SPEC License #', 'Test Method', 'Tested By', 'Test Date', 'Hardware Availability', 'Software Availability', 'Publication', 'ssj_ops @ 100% of target load', 'Average watts @ 100% of target load', 'Performance/power @ 100% of target load', 'ssj_ops @ 90% of target load', 'Average watts @ 90% of target load', 'Performance/power @ 90% of target load', 'ssj_ops @ 80% of target load', 'Average watts @ 80% of target load', 'Performance/power @ 80% of target load', 'ssj_ops @ 70% of target load', 'Average watts @ 70% of target load', 'Performance/power @ 70% of target load', 'ssj_ops @ 60% of target load', 'Average watts @ 60% of target load', 'Performance/power @ 60% of target load', 'ssj_ops @ 50% of target load', 'Average watts @ 50% of target load', 'Performance/power @ 50% of target load', 'ssj_ops @ 40% of target load', 'Average watts @ 40% of target load', 'Performance/power @ 40% of target load', 'ssj_ops @ 30% of target load', 'Average watts @ 30% of target load', 'Performance/power @ 30% of target load', 'ssj_ops @ 20% of target load', 'Average watts @ 20% of target load', 'Performance/power @ 20% of target load', 'ssj_ops @ 10% of target load', 'Average watts @ 10% of target load', 'Performance/power @ 10% of target load', 'Average watts @ active idle', 'Benchmark', 'Hardware Vendor', 'Model', 'Form Factor', 'CPU Name', 'CPU Characteristics', 'CPU Frequency (MHz)', 'CPU(s) Enabled', 'Hardware Threads', 'CPU(s) Orderable', 'Primary Cache', 'Secondary Cache', 'Tertiary Cache', 'Other Cache', 'Memory Amount (GB)', '# and size of DIMM', 'Memory Details', 'Power Supply Quantity and Rating (W)', 'Power Supply Details', 'Disk Drive', 'Disk Controller', '# and type of Network Interface Cards (NICs) Installed', 'NICs Enabled in Firmware / OS / Connected', 'Network Speed (Mbit)', 'Other Hardware', 'Power Management', 'Operating System (OS)', 'OS Version', 'Filesystem', 'JVM Vendor', 'JVM Version', 'JVM Instances', 'JVM Initial Heap (MB)', 'JVM Maximum Heap (MB)', 'JVM Address Bits', 'Boot Firmware Version', 'Management Firmware Version', 'Workload Version', 'Director Location', 'Other Software', 'URL Suffix']\n"
     ]
    }
   ],
   "source": [
    "print('-----CPU2017-------')\n",
    "print(c2017_rfp.columns.tolist())\n",
    "print('-----CPU2006-------')\n",
    "print(c2006_rfp.columns.tolist())\n",
    "print('-----jbb2015-------')\n",
    "print(j2015_com.columns.tolist())\n",
    "print('-----jvm2008-------')\n",
    "print(jvm2008.columns.tolist())\n",
    "print('-----ssj2008-------')\n",
    "print(ssj2008.columns.tolist())"
   ]
  },
  {
   "cell_type": "code",
   "execution_count": 51,
   "id": "afea04cc-1841-4d32-bd32-5bbed102988a",
   "metadata": {},
   "outputs": [
    {
     "data": {
      "text/plain": [
       "{'503.bwaves_r',\n",
       " '507.cactuBSSN_r',\n",
       " '508.namd_r',\n",
       " '510.parest_r',\n",
       " '511.povray_r',\n",
       " '519.lbm_r',\n",
       " '521.wrf_r',\n",
       " '526.blender_r',\n",
       " '527.cam4_r',\n",
       " '538.imagick_r',\n",
       " '544.nab_r',\n",
       " '549.fotonik3d_r',\n",
       " '554.roms_r',\n",
       " 'Base Copies'}"
      ]
     },
     "execution_count": 51,
     "metadata": {},
     "output_type": "execute_result"
    }
   ],
   "source": [
    "set(c2017_rfp.columns.tolist()) - set(c2017_sfp.columns.tolist())"
   ]
  },
  {
   "cell_type": "code",
   "execution_count": 49,
   "id": "5c99c66b-36cc-44a0-bd9d-042a8f07cda5",
   "metadata": {
    "collapsed": true,
    "jupyter": {
     "outputs_hidden": true
    },
    "tags": []
   },
   "outputs": [
    {
     "data": {
      "text/plain": [
       "array(['Red Hat Enterprise Linux release 8.4 (Ootpa) 4.18.0-305.el8.x86_64',\n",
       "       'Red Hat Enterprise Linux release 8.3 (Ootpa) 4.18.0-240.el8.x86_64',\n",
       "       'SUSE Linux Enterprise Server 15 SP2 5.3.18-22-default',\n",
       "       'Red Hat Enterprise Linux release 8.0 (Ootpa) 4.18.0-80.el8.x86_64',\n",
       "       'Red Hat Enterprise Linux release 8.2 (Ootpa) 4.18.0-193.el8.x86_64',\n",
       "       'RHEL 7.2 Red Hat Enterprise Linux Server release 7.4 (Maipo) 3.10.0-693.el7.ppc64le',\n",
       "       'RHEL 7.2 Red Hat Enterprise Linux Server release 7.2 (Maipo) 3.10.0-327.el7.ppc64le',\n",
       "       'CentOS Linux release 8.2.2004 (Core) 4.18.0-193.el8.x86_64',\n",
       "       'Ubuntu 20.04.4 LTS Kernel 5.4.0-104-generic',\n",
       "       'Ubuntu 20.04.3 LTS Kernel 5.4.0-99-generic',\n",
       "       'Ubuntu 20.04.3 LTS Kernel 5.4.0-100-generic',\n",
       "       'SUSE Linux Enterprise Server 15 SP3 5.3.18-57-default',\n",
       "       'Red Hat Enterprise Linux release 8.4 Kernel 4.18.0-305.el8.x86_64',\n",
       "       'Red Hat Enterprise Linux 8.4 Kernel 4.18.0-305.el8.x86_64',\n",
       "       'Ubuntu 20.04.3 LTS Kernel 5.4.0-88.generic',\n",
       "       'Ubuntu 20.04.3 LTS Kernel 5.4.0-84-generic',\n",
       "       'Ubuntu 20.04.3 LTS Kernel 5.4.0-88-generic',\n",
       "       'Ubuntu 20.04.3 LTS Kernel 5.4.0-86-generic',\n",
       "       'Red Hat Enterprise Linux 8.3 Kernel 4.18.0-240.el8.x86_64',\n",
       "       'Red Hat Enterprise Linux 8.2 Kernel 4.18.0-193.el8.x86_64',\n",
       "       'Ubuntu 20.04.2 LTS Kernel 5.4.0-73-generic',\n",
       "       'SUSE Linux Enterprise High Performance Computing 15 SP2 5.3.18-22-default',\n",
       "       'Ubuntu 20.04.1 LTS Kernel 5.4.0-60-generic',\n",
       "       'Ubuntu 20.04.1 LTS Kernel 5.4.0-66-generic',\n",
       "       'Red Hat Enterprise Linux 8.0 Kernel 4.18.0-80.el8.x86_64',\n",
       "       'Ubuntu 20.04.1 LTS Kernel 5.4.0-67-generic',\n",
       "       'Ubuntu 20.04.1 LTS Kernel 5.4.0-65-generic',\n",
       "       'Ubuntu 20.04.1 LTS Kernel 5.4.0-62-generic',\n",
       "       'Red Hat Enterprise Linux release 8.2 Kernel 4.18.0-193.el8.x86_64',\n",
       "       'Ubuntu 19.04 kernel 5.0.0-25-generic',\n",
       "       'Ubuntu 19.04 kernel 5.0.0-25-generic 5.0.0-25-generic',\n",
       "       'Red Hat Enterprise Linux release 8.1 Kernel 4.18.0-147.el8.x86_64',\n",
       "       'Ubuntu 19.04 kernel 5.0.0-37-generic',\n",
       "       'SUSE Linux Enterprise Server 12 SP4 (x86_64) Kernel 4.12.14-95.29-default',\n",
       "       'Ubuntu 19.04 Kernel 5.0.0-25-generic',\n",
       "       'Ubuntu 19.04 kernel 5.0.0-25.generic',\n",
       "       'Red Hat Enterprise Linux Server release 7.6 (Maipo) 3.10.0-957.el7.x86_64',\n",
       "       'SUSE Linux Enterprise Server 15 SP1 4.12.14-195-default',\n",
       "       'SUSE Linux Enterprise Server 12 SP4 (x86_64) Kernel 4.12.14-94.41-default',\n",
       "       'SUSE Linux Enterprise Server 15 SP1 (x86_64) Kernel 4.12.14-195-default',\n",
       "       'SUSE Linux Enterprise Server 12 SP3 (x86_64) Kernel 4.4.114-94.11-default',\n",
       "       'SUSE Linux Enterprise Server 12 SP4 (x86_64) Kernel 4.12.14.94.41-default',\n",
       "       'Ubuntu 19.04 kernel 5.0.0-20-generic',\n",
       "       'SUSE Linux Enterprise Server 12 SP4 4.12.14-94.41-default',\n",
       "       'SUSE Linux Enterprise Server 12 SP3 (x86_64) Kernel 4.4.114-94.11-default 4.4.114-94.11-default',\n",
       "       'SUSE Linux Enterprise Server 12 SP3 (x86_64) kernel 4.4.114-94.11-default',\n",
       "       'SUSE Linux Enterprise Server 12 SP3 Kernel 4.4.114-94.11-default',\n",
       "       'SUSE Linux Enterprise Server 12 SP3 4.4.114-94.11-default',\n",
       "       'SUSE Linux Enterprise Server 12 SP2 4.4.114-92.64-default',\n",
       "       'SUSE Linux Enterprise Server 12 SP3 (x86_64) kernel 4.4.73-5-default',\n",
       "       'SUSE Linux Enterprise Server 12 SP2 4.4.21-69-default',\n",
       "       'SUSE Linux Enterprise Server 12 SP2 (x86_64) Kernel 4.4.21-69-default',\n",
       "       'SUSE Linux Enterprise Server 15 4.12.14-25.25-default',\n",
       "       'Red Hat Enterprise Linux Server release 7.5 (Maipo) 3.10.0-862.el7.x86_64',\n",
       "       'SUSE Linux Enterprise Server 12 SP3 x86_64 kernel 4.4.73-5-default',\n",
       "       'SUSE Linux Enterprise Server 12 SP3 kernel 4.4.73-5-default',\n",
       "       'Red Hat Enterprise Linux Server 7.4 kernel 3.10.0-693.2.2',\n",
       "       'SUSE Linux Enterprise Server 15 SP1, kernel version 4.12.14-197.21.1.vSMP.2-default',\n",
       "       'Ubuntu 20.04 LTS (x86_64) kernel 5.4.0-96-generic',\n",
       "       'Red Hat Enterprise Linux release 8.3 (Ootpa) Kernel 4.18.0-240.el8.x86_64',\n",
       "       'Red Hat Enterprise Linux release  8.2 (Oopta) kernel 4.18.0-193.el8.x86_64',\n",
       "       'Red Hat Enterprise Linux release 8.2 (Ootpa) kernel 4.18.0-193.el8.x86_64',\n",
       "       'Ubuntu 20.04.1 LTS Kernel 5.4.0-42-generic',\n",
       "       'Red Hat Enterprise Linux 8.1 (Ootpa) kernel 4.18.0-147.el8.x86_64',\n",
       "       'Ubuntu 19.10 Kernel 5.3.0-18-generic',\n",
       "       'kylin release 10 (Azalea) 4.19.90-5.ky10.aarch64',\n",
       "       'Oracle Solaris 11.3.10.5.0', 'Solaris 10 1/13',\n",
       "       'Red Hat Enterprise Linux Server release 7.5 (Maipo) 3.10.0-957.el7.x86_64',\n",
       "       'Red Hat Enterprise Linux Server release 7.6 (Maipo) 3.10.0-957.10.1.el7.x86_64',\n",
       "       'CentOS Linux release 7.5.1804 (Core) 3.10.0-862.3.2.el7.x86_64',\n",
       "       'Red Hat Enterprise Linux Server release 7.5 (Maipo) 3.10.0-862.3.2.el7.x86_64',\n",
       "       'SUSE Linux Enterprise Server 12 SP3 4.4.126-48-default',\n",
       "       'Red Hat Enterprise Linux 8.0 (Ootpa) kernel version 4.18.0-80.el8.x86_64 4.18.0-80.el8.x86_64',\n",
       "       'CentOS Linux release 8.4.2105 Kernel 4.18.0-305.3.1.el8.x86_64',\n",
       "       'CentOS Linux release 8.3.2011 Kernel 4.18.0-240.el8.x86_64 4.18.0-240.el8.x86_64',\n",
       "       'CentOS Linux release 8.3.2011 4.18.0-240.el8.x86_64',\n",
       "       'Ubuntu 19.04 kernel version 5.0.0-38-generic',\n",
       "       'CentOS Linux release 7.7.1908 (Core) 3.10.0-1062.el7.x86_64',\n",
       "       'Ubuntu 19.04 kernel version 5.0.0-36-generic',\n",
       "       'CentOS Linux Release 7.6.1810 (Core) Kernel 3.10.0-957.el7.x86_64',\n",
       "       'SUSE Linux Enterprise Server 15 SP2 Kernel 5.3.18-24.61-preempt',\n",
       "       'Red Hat Enterprise Linux Server release 7.7 (Maipo) Kernel 3.10.0-1062.1.1.el7.x86_64',\n",
       "       'Red Hat Enterprise Linux Server release 7.6 (Maipo) Kernel 3.10.0-957.5.1.el7.x86_64',\n",
       "       'Red Hat Enterprise Linux Server release 7.7 (Maipo) Kernel 3.10.0-1062.el7.x86_64',\n",
       "       'Red Hat Enterprise Linux Server release 7.5 (Maipo) Kernel 3.10.0-862.11.6.el7.x86_64',\n",
       "       'Red Hat Enterprise Linux Server release 7.4 (Maipo) Kernel 3.10.0-693.21.1.el7.x86_64',\n",
       "       'SUSE Linux Enterprise Server 15 SP3 (x86_64) Kernel 5.3.18-57-default',\n",
       "       'SUSE Linux Enterprise Server 15 SP3 (x86_64) kernel 5.3.18-57-default',\n",
       "       'Red Hat Enterprise Linux release 8.5 (Ootpa) Kernel 4.18.0-348.el8.x86_64',\n",
       "       'Red Hat Enterprise Linux release 8.4 (Ootpa) Kernel 4.18.0-305.el8.x86_64',\n",
       "       'Red Hat Enterprise Linux 8.3 (Ootpa) Kernel 4.18.0-240.el8.x86_64',\n",
       "       'Red Hat Enterprise Linux 8.3  (Ootpa) Kernel 4.18.0-240.el8.x86_64',\n",
       "       'SUSE Linux Enterprise Server 15 SP2 (x86_64) Kernel 5.3.18-22-default',\n",
       "       'SUSE Linux Enterprise Server 12 SP5 (x86_64) Kernel 4.12.14-120-default',\n",
       "       'Red Hat Enterprise Linux release 8.0 (Ootpa) Kernel 4.18.0-80.el8.x86_64',\n",
       "       'Red Hat Enterprise Linux 8.0 (Ootpa) Kernel 4.18.0-80.el8.x86_64',\n",
       "       'Red Hat Enterprise Linux 8.2 (Ootpa) Kernel 4.18.0-193.el8.x86_64',\n",
       "       'Red Hat Enterprise Linux release 8.2 (Ootpa) Kernel 4.18.0-193.el8.x86_64',\n",
       "       'Red Hat Enterprise Linux 8.1 (Ootpa) Kernel 4.18.0-147.el8.x86_64',\n",
       "       'Red Hat Enterprise Linux release 8.1 (Ootpa) Kernel 4.18.0-147.el8.x86_64',\n",
       "       'SUSE Linux Enterprise Server 15 (x86_64) Kernel 4.12.14-25.13-default',\n",
       "       'Red Hat Enterprise Linux Server release 7.6 (Maipo) Kernel 3.10.0-957.el7.x86_64',\n",
       "       'Red Hat Enterprise Linux Server release 7.5 (Maipo) Kernel 3.10.0-862.el7.x86_64',\n",
       "       'SUSE Linux Enterprise Server 12 SP3 (x86_64) Kernel 4.4.131-94.29-default',\n",
       "       'SUSE Linux Enterprise Server 12 SP2 (x86_64) Kernel 4.4.114-92.64-default',\n",
       "       'SUSE Linux Enterprise Server 12 SP2 (x86_64) Kernel 4.4.121-92.80-default',\n",
       "       'Red Hat Enterprise Linux Server release 7.4 (Maipo) Kernel 3.10.0-693.25.7.el7.x86_64',\n",
       "       'Red Hat Enterprise Linux Server release 7.4 (Maipo) Kernel 3.10.0-693.11.6.el7.x86_64',\n",
       "       'Red Hat Enterprise Linux Server release 7.4 (Maipo) Kernel 3.10.0-693.el7.x86_64',\n",
       "       'SUSE Linux Enterprise Server 12 SP3 (x86_64) Kernel 4.4.73-5-default',\n",
       "       'Red Hat Enterprise Linux Server 7.4 (Maipo) Kernel 3.10.0-693.el7.x86_64',\n",
       "       'CentOS Linux release 8.2.2004 (Core) 4.18.0-193.19.1.el8_2.x86_64',\n",
       "       'CentOS Linux release 7.6.1810 (Core) 3.10.0-957.10.1.el7.x86_64',\n",
       "       'CentOS Linux release 7.6.1810 (Core) 4.20.0+',\n",
       "       'Red Hat Enterprise Linux Server release 7.2 (Maipo) 3.10.0-327.el7.x86_64',\n",
       "       'Red Hat Enterprise Linux release 8.5 (Ootpa) 4.18.0-348.el8.x86_64',\n",
       "       'Red Hat Enterprise Linux release 8.3 (Ootpa) 4.18.0-240.el8.aarch64',\n",
       "       'Red Hat Enterprise Linux release 8.1 (Ootpa) 4.18.0-147.el8.x86_64',\n",
       "       'SUSE Linux Enterprise Server 12 SP2 4.4.120-92.70-default',\n",
       "       'SUSE Linux Enterprise Server 12 SP2 4.17.9-69-default',\n",
       "       'SUSE Linux Enterprise Server 12 SP4 (x86_64) 4.12.14-94.41-default',\n",
       "       'Red Hat Enterprise Linux Server release 7.6 (x86_64) (Maipo) 3.10.0-957.el7.x86_64',\n",
       "       'Red Hat Enterprise Linux Server release 7.4 (Maipo) 3.10.0-693.11.6.el7.x86_64',\n",
       "       'Red Hat Enterprise Linux Server release 7.3 (Maipo) 3.10.0-693.11.6.el7.x86_64',\n",
       "       'SUSE Linux Enterprise Server for SAP Applications 12 SP2 4.4.120-92.70-default',\n",
       "       'SUSE Linux Enterprise Server 12 SP2 (x86_64) 4.4.114-92.64-default',\n",
       "       'SUSE Linux Enterprise Server 12 SP2 (x86_64) 4.4.21-69-default',\n",
       "       'Red Hat Enterprise Linux Server release 7.3 (Maipo) 3.10.0-514.el7.x86_64',\n",
       "       'SUSE Linux Enterprise Server 12 SP2(x86_64) 4.4.21-69-default',\n",
       "       'SUSE Linux Enterprise Server 15 SP3 Kernel 5.3.18-57-default',\n",
       "       'Ubuntu 20.04.2 LTS (x86_64) Kernel 5.11.0-41-generic',\n",
       "       'Ubuntu 20.04.2 LTS (x86_64) Kernel 5.13.0-28-generic',\n",
       "       'Ubuntu 20.04.3 LTS (x86_64) Kernel 5.13.0-28-generic',\n",
       "       'Ubuntu 20.04.3 LTS Kernel 5.13.0-28-generic',\n",
       "       'Ubuntu 20.04.1 LTS Kernel 5.4.0-54-generic',\n",
       "       'Ubuntu 20.04.1 LTS (x86_64) Kernel 5.4.0-84-generic',\n",
       "       'Ubuntu 20.04.1 LTS (x86_64) Kernel 5.4.0-56-generic',\n",
       "       'Ubuntu 20.04.1 LTS (x86_64) Kernel 5.4.0-54-generic',\n",
       "       'Ubuntu 20.04.1 LTS (x86_64) Kernel 5.4.0-42-generic',\n",
       "       'Ubuntu 20.04.1 LTS (x86_64) kernel 5.4.0-56-generic',\n",
       "       'SUSE Linux Enterprise Server 15 (x86_64) SP1 Kernel 4.12.14-197.40-default',\n",
       "       'SUSE Linux Enterprise Server 15 (x86_64) SP1 Kernel 4.12.14-195-default',\n",
       "       'SUSE Linux Enterprise High Performance Computing 15 (x86_64) SP1 Kernel 4.12.14-195-default',\n",
       "       'SUSE Linux Enterprise Server 15 SP1 (x86_64) Kernel 4.12.14-197.29-default',\n",
       "       'SUSE Linux Enterprise Server 15 (x86_64) SP1 Kernel 4.12.14-197.29-default',\n",
       "       'SUSE Linux Enterprise Server 15 (x86_64) Kernel 4.12.14-23-default',\n",
       "       'SUSE Linux Enterprise Server 15 (x86_64) SP1 4.12.14-195-default',\n",
       "       'SUSE Linux Enterprise Server 15 (x86_64) 4.12.14-150.32-default',\n",
       "       'SUSE Linux Enterprise Server 15 (x86_64) SP1 kernel 4.12.14-195-default',\n",
       "       'CentOS Linux release 7.6.1810 (x86_64) Kernel 3.10.0-957.21.3.el7.x86_64',\n",
       "       'SLES Enterprise Server 15 (x86_64) SP1 Kernel 4.12.14-193-default',\n",
       "       'SUSE linux Enterprise Server 12 (x86_64) SP3 Kernel version 4.4.132-94.33-default',\n",
       "       'SUSE linux Enterprise Server 12 (x86_64) SP3 Kernel 4.4.132-94.33-default',\n",
       "       'SUSE Linux Enterprise Server 12 (x86_64) SP3 Kernel 4.4.120-94.17-default',\n",
       "       'SUSE Linux Enterprise Server 12 SP3 Kernel 4.4.162-94.72-default',\n",
       "       'SUSE Linux Enterprise Server 15 Kernel 4.12.14-23-default',\n",
       "       'SUSE Linux Enterprise Server 12 (x86_64) SP3 Kernel 4.4.131-94.25-default',\n",
       "       'SUSE Linux Enterprise Server 12 (x86_64) SP3 Kernel 4.4.132-94.33-default',\n",
       "       'SUSE Linux Enterprise Server 12 (x86_64) SP3 Kernel 4.4.140-94.42-default',\n",
       "       'SUSE Linux Enterprise Server 12 (x86_64) SP3 Kernel 4.4.114-94.11-default',\n",
       "       'SUSE Linux Enterprise Server 12 SP3 (x86_64) Kernel 4.4.138-94.39-default',\n",
       "       'SUSE Linux Enterprise Server 12 (x86_64) SP2 Kernel 4.4.121-92.76-default',\n",
       "       'SUSE Linux Enterprise Server 12 SP2 (x86_64) Kernel 4.4.121-92.76-default',\n",
       "       'Red Hat Enterprise Linux Server release 7.3 (Maipo) Kernel 3.10.0-514.el7.x86_64',\n",
       "       'SUSE Linux Enterprise Server 12 (x86_64) SP3 Kernel 4.4.73-5-default',\n",
       "       'SUSE Linux Enterprise Server 12 (x86_64) SP2 Kernel 4.4.21-69-default',\n",
       "       'SUSE Linux Enterprise Server 12 (x86_64) SP2 Kernel 4.4.21-68-default',\n",
       "       'SUSE Linux Enterprise Server 12 SP2 Kernel 4.4.21-69-default',\n",
       "       'SUSE Linux Enterprise Server 12 (x86_64) SP3, Kernel 4.4.92-6.18-default',\n",
       "       'SUSE Linux Enterprise Server 12 (x86_64) SP3, Kernel 4.4.92-6.30-default',\n",
       "       'SUSE Linux Enterprise Server 12 (x86_64) SP2, Kernel 4.4.74-92.38-default',\n",
       "       'SUSE Linux Enterprise Server 12 (x86_64) SP2 kernel 4.4.21-69-default',\n",
       "       'SUSE Linux Enterprise Server 12 SP2 Kernel 4.4.21-68-default',\n",
       "       'SUSE Linux Enterprise Server 12 (x86_64) SP1 Kernel 3.12.49-11-default',\n",
       "       'SUSE Linux Enterprise Server 12 (x86_64) SP1 Kernel 3.12.53-60.30-default',\n",
       "       'SUSE Linux Enterprise Server 12 SP1 SUSE Linux Enterprise Server 12 SP1 3.12.49-11-default',\n",
       "       'Ubuntu 20.04.3 LTS (x86_64) kernel version 5.4.0-96-generic',\n",
       "       'SUSE Linux Enterprise Server 15 SP2 (x86_64) 5.3.18-22-default 5.3.18-22-default',\n",
       "       'CentOS Linux release 8.4.2105 4.18.0-305.7.1.el8_4.aarch64',\n",
       "       'CentOS Linux release 8.3.2011 4.18.0-240.1.1.el8_3.aarch64',\n",
       "       'Ubuntu 20.04.1 LTS (x86_64) Kernel 5.4.0-65-generic',\n",
       "       'Ubuntu 19.04 (x86_64) kernel version 5.0.0-20-generic',\n",
       "       'Ubuntu 19.04 (x86_64) kernel version 5.0.0-16-generic',\n",
       "       'Ubuntu 16.04.4 LTS kernel 4.4.0-116-generic',\n",
       "       'SUSE Linux Enterprise Server 12 SP3 (x86_64) kernel 4.4.126-6.g8f2137c-vanilla',\n",
       "       'SUSE Linux Enterprise Server 15 SP2 (x86_64) kernel version 5.3.18-22-default',\n",
       "       'SUSE Linux Enterprise Server 15 4.12.14-25.28-default',\n",
       "       'SUSE LInux Enterprise Server 15 SP1 (x86_64) kernel version 4.12.14-195-default',\n",
       "       'SUSE Linux Enterprise Server 15 4.12.14-23-default',\n",
       "       'Oracle Solaris 11.3 SRU 24.4',\n",
       "       'SUSE Linux Enterprise Server 12 SP2 RC2 4.4.19-60-default',\n",
       "       'CentOS Linux 8.2 kernel version 4.18.0-193.19.1.el8_2.x86_64',\n",
       "       'Red Hat Enterprise Linux Server release 7.4 (Maipo) 3.10.0-693.21.1.el7.x86_64',\n",
       "       'CentOS Linux release 7.6.1810 3.10.0-862.9.1.el7.x86_64',\n",
       "       'CentOS Linux release 7.5.1804 (Core) 3.10.0-862.14.4.el7.x86_64',\n",
       "       'CentOS Linux release 7.5.1804 (Core) 3.10.0-862.11.6.el7.x86_64',\n",
       "       'CentOS Linux release 7.5.1804 (Core) 3.10.0-862.9.1.el7.x86_64',\n",
       "       'Red Hat Enterprise Linux Server release 7.4 (Maipo) 3.10.0-693.el7.x86_64',\n",
       "       'Red Hat Enterprise Linux Server release 7.4 3.10.0-693.el7.x86_64 (Maipo)',\n",
       "       'SUSE Linux Enterprise Server 12 SP3 4.4.73-5-default',\n",
       "       'Red Hat Enterprise Linux Server release 7.4 3.10.0-693.el7.x86_64',\n",
       "       'Red Hat Enterprise Linux 8.3 (Ootpa) 4.18.0-240.el8.x86_64',\n",
       "       'Ubuntu 20.04.4 LTS 5.4.0-100-generic',\n",
       "       'Red Hat Enterprise Linux 8.4 (Ootpa) 4.18.0-305.el8.x86_64',\n",
       "       'Red Hat Enterprise Linux 8.4 (Ootpa) 4.18.0-305.7.1.el8_4.x86_64',\n",
       "       'Red Hat Enterprise Linux 8.3 (Ootpa) 4.18.0-240.15.1.el8_3.x86_64',\n",
       "       'Red Hat Enterprise Linux 8.3 (Ootpa) 4.18.0-240.22.1.el8_3.x86_64',\n",
       "       'Red Hat Enterprise Linux 8.3 (Ootpa) 4.18.0-240.10.1.el8_3.x86_64',\n",
       "       'Red Hat Enterprise Linux 8.2 (Ootpa) 4.18.0-193.el8.x86_64',\n",
       "       'Red Hat Enterprise Linux 8.3 (Ootpa) kernel 4.18.0-240.15.1.el8_3.x86_64',\n",
       "       'Red Hat Enterprise Linux 8.3 (Ootpa) 4.18.0-240.1.1.el8_3.x86_64',\n",
       "       'Red Hat Enterprise Linux 8.2 (Ootpa) kernel 4.18.0-193.el8.x86_64',\n",
       "       'Red Hat Enterprise Linux 8.3 kernel 4.18.0-240.10.1.el8_3.x86_64',\n",
       "       'Red Hat Enterprise Linux 8.1 kernel 4.18.0-147.el8.x86_64',\n",
       "       'Red Hat Enterprise Linux 8.1 kernel 4.18.0-147.8.1.el8_1.x86_64',\n",
       "       'Red Hat Enterprise Linux 8.2 kernel 4.18.0-193.1.2.el8_2.x86_64',\n",
       "       'Ubuntu 20.04 LTS kernel version 5.4.0-40-generic',\n",
       "       'Red Hat Enterprise Linux 8.2 kernel 4.18.0-193.el8.x86_64',\n",
       "       'SUSE Linux Enterprise Server 15 SP1 kernel 4.12.14-195-default',\n",
       "       'CentOS Linux 8.1.1911 kernel 4.18.0-147.5.1.el8_1.x86_64',\n",
       "       'Ubuntu 18.04.4 LTS kernel 4.15.0-88-generic',\n",
       "       'Red Hat Enterprise Linux release 8.1 kernel 4.18.0-147.el8.x86_64',\n",
       "       'Red Hat Enterprise Linux release 8.1 4.18.0-147.el8.x86_64',\n",
       "       'CentOS Linux release 8.1.1911 kernel 4.18.0-147.el8.x86_64',\n",
       "       'SUSE Linux Enterprise Server 15 SP1 kernel 4.12.14-197.7-default',\n",
       "       'Suse Linux Enterprise Server 15 SP1 kernel 4.12.14-195-default',\n",
       "       'Ubuntu 18.04.2 LTS kernel 4.15.0-65-generic',\n",
       "       'SUSE Linux Enterprise Server 15 SP1 Kernel 4.12.14-195-default',\n",
       "       'SUSE Linux Enterprise Server 15 SP1 kernel 4.12.14-195-default 4.12.14-195-default',\n",
       "       'Ubuntu 18.04.2 LTS kernel 4.15.0-60-generic',\n",
       "       'Ubuntu 18.04.2 LTS kernel 4.15.0-45-generic',\n",
       "       'Ubuntu 18.04.2 LTS kernel 4.15.0-62-generic',\n",
       "       'Ubuntu 18.04.2 LTS kernel 4.15.0-58-generic',\n",
       "       'Ubuntu 18.04.2 LTS kernel 4.15.0-47-generic',\n",
       "       'Ubuntu 18.04.3 LTS kernel 4.15.0-66-generic',\n",
       "       'Ubuntu 18.04.2 LTS kernel 4.15.0-64-generic',\n",
       "       'Ubuntu 18.04.2 LTS kernel 4.15.0-55-generic',\n",
       "       'Ubuntu 18.04.2 LTS 4.15.0-45-generic',\n",
       "       'Ubuntu 18.04.2 LTS 4.15.0-60-generic',\n",
       "       'SUSE Linux Enterprise Server 12 SP4 kernel 4.12.14-94.41-default',\n",
       "       'Ubuntu 18.04.2 LTS kernel 4.15.0-46-generic',\n",
       "       'Ubuntu 18.04.2 LTS kernel 4.15.0-54-generic',\n",
       "       'Ubuntu 18.04.2 LTS kernel 4.15.0-50-generic',\n",
       "       'Ubuntu 18.04.2 LTS kernel 4.15.0-45',\n",
       "       'SUSE Linux Enterprise Server 12 SP3 4.4.126-94.22-default',\n",
       "       'SUSE Linux Enterprise Server 12 SP3 kernel 4.4.126-94.22-default',\n",
       "       'Ubuntu 18.04.2 LTS kernel 4.15-45-generic',\n",
       "       'Ubuntu 18.04.2 LTS kernel 4.15.0-45-generic 4.15.0-45-generic',\n",
       "       'SUSE Linux Enterprise Server 12 SP3 kernel 4.4.114-94.11',\n",
       "       'SUSE Linux Enterprise Server 12 SP3 kernel 4.4.126-94.22',\n",
       "       'SUSE Linux Enterprise Server 12 SP3 kernel 4.4.138-8',\n",
       "       'SUSE Linux Enterprise Server 12 SP3 4.4.138-8.g8686768-default',\n",
       "       'SUSE Linux Enterprise Server 12 SP3 kernel 4.4.114-94.11-default',\n",
       "       'SUSE Linux Enterprise Server 12 SP2 kernel 4.4.126-94.22-default',\n",
       "       'SUSE Linux Enterprise Server 12 SP3 4.4.114-94.11',\n",
       "       'SUSE Linux Enterprise 12 SP3 (x86_64) kernel 4.4.114-94.11-default',\n",
       "       'SUSE Linux Enterprise Server 12 SP3 (x86_64) 4.4.114-94.11-default',\n",
       "       'SUSE Linux Enterprise Server 12 SP3 (x86_64) 4.4.70-2-default',\n",
       "       'SUSE Linux Enterprise Server 12 SP2 (x86_64) 4.4.16-56-default',\n",
       "       'CentOS Linux release 7.4.1708 (Core) 3.10.0-693.5.2.el7.x86_64',\n",
       "       'Ubuntu 17.04 kernel 4.10.0-24',\n",
       "       'SUSE Enterprise Linux Server 12 SP2 (x86_64) 4.4.21-69-default',\n",
       "       'SUSE Linux enterprise Server 12 SP1 3.12.49-11-default',\n",
       "       'SUSE Linux Enterprise Server 15 SP3 (x86_64) kernel version 5.3.18-57-default',\n",
       "       'SUSE Linux Enterprise Server 15 SP2 (x86_64) 5.3.18-22-default',\n",
       "       'SUSE Linux Enterprise Server 15 SP1 (x86_64) 4.12.14-195-default',\n",
       "       'SUSE Linux Enterprise Server 15 SP1 x86_64 kernel version 4.12.14-195-default',\n",
       "       'SUSE Linux Enterprise Server 15 SP1 x86_64 4.12.14-195-default',\n",
       "       'SUSE Linux Enterprise Server 15 (x86_64) 4.12.14-23-default',\n",
       "       'SUSE Linux Enterprise Server 15 (x86_64) 4.12.14-25.25-default',\n",
       "       'SUSE Linux Enterprise Desktop 15 (x86_64) 4.12.14-23-default',\n",
       "       'SUSE Linux Enterprise Server 15 (x86_64) 4.12.14-25.28-default',\n",
       "       'SUSE Linux Enterprise High Performance Computing 15 (x86_64) 4.12.14-25.28-default',\n",
       "       'SUSE Linux Enterprise Server 12 SP2 (x86_64) 4.4.120-92.70-default',\n",
       "       'SUSE Linux Enterprise Server 12 SP3 (x86_64) 4.4.120-94.17-default',\n",
       "       'SUSE Linux Enterprise Server 12 SP2 (x86_64) 4.4.103-92.56-default',\n",
       "       'SUSE Linux Enterprise Server 12 SP3 x86_64 kernel 4.4.143-94.47-default',\n",
       "       'SUSE Linux Enterprise Server 12 SP3 x86_64 kernel 4.4.120-94.17-default',\n",
       "       'SUSE Linux Enterprise Server 12 SP2(x86_64) 4.4.103-92.56-default',\n",
       "       'SUSE Linux Enterprise Server 15 SP2(x86_64) Kernel 5.3.18-22-default',\n",
       "       'Ubuntu 20.04.2 LTS Kernel 5.4.0-72-generic',\n",
       "       'Ubuntu 19.04 Kernel 5.0.0-38-generic',\n",
       "       'Ubuntu 18.04.2 LTS kernel 4.15.0-117-generic',\n",
       "       'SUSE Linux Enterprise Server 15 SP1 (x86_64) Kernel 4.12.14-197.45-default',\n",
       "       'Red Hat Enterprise Linux release 8.1 Kernel 4.18.0-147.el8.x86_64 4.18.0-147.el8.x86_64',\n",
       "       'Red Hat Enterprise Linux Server release 8.1 Kernel 4.18.0-147.el8.x86_64',\n",
       "       'Ubuntu 19.10 Kernel 5.3.0-40-generic',\n",
       "       'SLES Enterprise Server 15 (x86_64) SP1 Kernel 4.12.14-195-default',\n",
       "       'RHEL 8.0 kernel version 4.18.0-80.4.2.el8_0.x86_64',\n",
       "       'Red Hat Enterprise Linux release 8.4 (Ootpa) 4.18.0-305.19.1.el8_4.x86_64',\n",
       "       'Red Hat Enterprise Linux release 8.3 (Ootpa) 4.18.0-240.22.1.el8_3.x86_64',\n",
       "       'Ubuntu 20.04 LTS (x86_64) Kernel 5.4.0-31-generic',\n",
       "       'SUSE Linux Enterprise Server 15 Kernel 4.12.14-150.17-default',\n",
       "       'SUSE Linux Enterprise Server 15 kernel 4.12.14-23-default'],\n",
       "      dtype=object)"
      ]
     },
     "execution_count": 49,
     "metadata": {},
     "output_type": "execute_result"
    }
   ],
   "source": [
    "c2017_rfp['OS'].unique()"
   ]
  },
  {
   "cell_type": "code",
   "execution_count": 17,
   "id": "94826eef-0fec-4649-ac69-22e559e23006",
   "metadata": {
    "tags": []
   },
   "outputs": [],
   "source": [
    "hw_vendors = set(c2017_rfp['Hardware Vendor'].unique().tolist())\n",
    "hw_vendors |= set(c2017_sfp['Hardware Vendor'].unique().tolist())\n",
    "hw_vendors |= set(c2017_rint['Hardware Vendor'].unique().tolist())\n",
    "hw_vendors |= set(c2017_sint['Hardware Vendor'].unique().tolist())\n",
    "\n",
    "hw_vendors = set(c2006_rfp['Hardware Vendor'].unique().tolist())\n",
    "hw_vendors |= set(c2006_sfp['Hardware Vendor'].unique().tolist())\n",
    "hw_vendors |= set(c2006_rint['Hardware Vendor'].unique().tolist())\n",
    "hw_vendors |= set(c2006_sint['Hardware Vendor'].unique().tolist())\n",
    "hw_vendors |= set(c2006_sint['Hardware Vendor'].unique().tolist())\n",
    "\n",
    "hw_vendors |= set(j2015_com['Vendor'].unique().tolist())\n",
    "hw_vendors |= set(j2015_mul['Vendor'].unique().tolist())\n",
    "hw_vendors |= set(j2015_dis['Vendor'].unique().tolist())\n",
    "\n",
    "hw_vendors |= set(jvm2008['HW vendor'].unique().tolist())\n",
    "\n",
    "hw_vendors |= set(ssj2008['Hardware Vendor'].unique().tolist())\n",
    "\n",
    "hw_vendors_df = pd.DataFrame(list(hw_vendors), columns=['Vendor'])"
   ]
  },
  {
   "cell_type": "code",
   "execution_count": 18,
   "id": "41c0390a-fb4f-4b37-8bd3-f42de627305b",
   "metadata": {
    "tags": []
   },
   "outputs": [
    {
     "data": {
      "text/plain": [
       "array(['GIGA-BYTE Technology Co. Ltd.  (Test Sponsor: Advanced Micro Devices)',\n",
       "       'FORMAT', 'UNIWIDE Technologies Inc.', 'Quanta Cloud Technology',\n",
       "       'NEC Corporation', 'Colfax International', 'Apple Computer, Inc.',\n",
       "       'UNIWIDE', 'Bull SAS', 'Cisco Systems', 'Hewlett-Packard Company',\n",
       "       'Acer Incorporated', 'Nettrix', 'Huawei Company',\n",
       "       'Oracle Corporation',\n",
       "       'Supermicro  (Test Sponsor: Advanced Micro Devices)',\n",
       "       'Hewlett-Packard Company  (Test Sponsor: Advanced Micro Devices)',\n",
       "       'Hitachi, Ltd.', 'MSI  (Test Sponsor: Advanced Micro Devices)',\n",
       "       'Supermicro  (Test Sponsor: Intel Corporation)',\n",
       "       'Microsoft Corporation  (Test Sponsor: Intel Corporation)',\n",
       "       'ClearCube Technology', 'TAEJIN T&S', 'Wizbrain', \"Plat'Home\",\n",
       "       'DEPO Computers', 'Maxdata AG  (Test Sponsor: Maxdata)',\n",
       "       'SGI  (Test Sponsor: Japan Advanced Institute of Science and Technology)',\n",
       "       'Nettars tech', 'Cryo Performance Computing Ltd',\n",
       "       'IWILL Corporation  (Test Sponsor: QLogic [formerly PathScale])',\n",
       "       'Inspur(Beijing) Electronic Information Industry Co., Ltd',\n",
       "       'J.P Sa Couto S.A.', 'Inspur Corporation', 'Yadro',\n",
       "       'Inspur PowerSystem Corporation', 'Super Micro Computer, Inc',\n",
       "       'Acer Incorporated  (Test Sponsor: Intel Corporation)',\n",
       "       'Apple, Inc.', 'Itautec', 'ScaleMP', 'IBM Corporation',\n",
       "       'Hewlett Packard Enterprise  (Test Sponsor: Advanced Micro Devices)',\n",
       "       '3Score', 'ASUSTeK Computer Inc.',\n",
       "       'Quanta Cloud Technology  (Test Sponsor: Quanta Computer Inc.)',\n",
       "       'HITACHI', 'YOYOtech  (Test Sponsor: Future Publishing Ltd.)',\n",
       "       'ACTION S.A.', 'Intel Corp.', 'Acer Incoporated', 'LTechKorea',\n",
       "       'Dell Inc.  (Test Sponsor: Intel Corporation)', 'WIZBRAIN',\n",
       "       'Sun Microsystems, Inc.', 'XSLAB', 'Huawei Technologies Co',\n",
       "       'Hewlett-Packard', 'Incom S.A.', 'BOXX Technologies, Inc.',\n",
       "       'Wipro Limited', 'Powerleader', 'Nokia Corporation',\n",
       "       'Cisco Systems, Inc.',\n",
       "       'Dell Inc.  (Test Sponsor: The Portland Group)', 'SGI',\n",
       "       'Gigabyte Technology Co., Ltd.  (Test Sponsor: Intel Corporation)',\n",
       "       'Shuttle  (Test Sponsor: Advanced Micro Devices)',\n",
       "       'Five9 Network Systems',\n",
       "       'Hewlett Packard Enterprise  (Test Sponsor: HPE)', 'Nokia',\n",
       "       'Unisys Corporation', 'EXO S.A.', 'Super Micro Computer, Inc.',\n",
       "       'Hypertechnologies Ciara, Inc', 'E4 Computer Engineering S.p.A.',\n",
       "       'Intel Corporation  (Test Sponsor: Advanced Micro Devices)',\n",
       "       'NTT System S. A.', 'Quanta Computer Inc.', 'Intel Corporation',\n",
       "       'Tyan Computer Corporation', 'Sun Microsystems Inc.',\n",
       "       'Tyan Computer Corp.', 'Fujitsu Siemens Computers',\n",
       "       'ScaleMP  (Test Sponsor: ScaleMP / Cyfronet)', 'Fujitsu',\n",
       "       'Supermicro Inc.',\n",
       "       'Acer Incorporated  (Test Sponsor: Acer Incorporation)',\n",
       "       'ZT Systems', 'PC Factory S.A.', 'SuperMicro, Inc.', 'LSDtech',\n",
       "       'Tyan  (Test Sponsor: Advanced Micro Devices)',\n",
       "       'New H3C Technologies Co., Ltd.',\n",
       "       'ASUS Computer International  (Test Sponsor: Intel Corporation)',\n",
       "       'Huawei Technologies Co., Ltd', 'GIGA-BYTE TECHNOLOGY CO., LTD.',\n",
       "       'ZTE', 'Sun Microsystems',\n",
       "       'Hewlett-Packard Company  (Test Sponsor: Intel Corporation)',\n",
       "       'Apple Inc.', 'Clevo  (Test Sponsor: Intel Corporation)',\n",
       "       'Uniwide Technologies', 'Supermicro', 'M Computers s.r.o.',\n",
       "       'Fujitsu Limited',\n",
       "       'Lenovo Group Limited  (Test Sponsor: Intel Corporation)', 'Sugon',\n",
       "       'ASUSTeK Computer Inc.  (Test Sponsor: Intel Corporation)',\n",
       "       'Lenovo Group Limited',\n",
       "       'ASUS Computer International  (Test Sponsor: Advanced Micro Devices)',\n",
       "       'Verari Systems, Inc.', 'Supermicro Computer Inc.', 'ATEC',\n",
       "       'Huawei', 'Lenovo Global Technology', 'H3C',\n",
       "       'GIGA-BYTE Technology Co. Ltd.  (Test Sponsor: Intel Corporation)',\n",
       "       'ASUSTeK Computer Inc.  (Test Sponsor: Advanced Micro Devices)',\n",
       "       'Hewlett Packard', 'Supermicro Computer, Inc.',\n",
       "       'GIGA-BYTE Technology Co., Ltd.', 'Dell Inc.',\n",
       "       'Hewlett Packard Enterprise', 'KTNF'], dtype=object)"
      ]
     },
     "execution_count": 18,
     "metadata": {},
     "output_type": "execute_result"
    }
   ],
   "source": [
    "hw_vendors_df['Vendor'].values"
   ]
  },
  {
   "cell_type": "code",
   "execution_count": 155,
   "id": "1ab435d1-2b58-4ec6-a5aa-9f52f8674ae6",
   "metadata": {},
   "outputs": [],
   "source": [
    "import re\n",
    "\n",
    "def clean_vendor(vendor):\n",
    "    def _clear(pattern):\n",
    "        return re.sub(re.compile(pattern, re.IGNORECASE), '', vendor)\n",
    "    patterns = [\n",
    "        ' *[(].*[)]',\n",
    "        ',* Ltd\\.*$|,* Inc\\.*$',\n",
    "        ',* Co\\.*$|,* Corporation\\.*$|,* Corp\\.*$| Incoporated$| Incorporated$',\n",
    "        ' International$',\n",
    "        ' Computer[s]*$',\n",
    "        ' Technology$'\n",
    "    ]\n",
    "    for pattern in patterns:\n",
    "        vendor = _clear(pattern)\n",
    "    \n",
    "    replace_pairs = [\n",
    "        ('^Huawei', 'Huawei'),\n",
    "        ('^ASUS', 'ASUS'),\n",
    "        ('^Hewlett[ -]*Packard', 'Hewlett Packard'),\n",
    "        ('^Inspur', 'Inspur'),\n",
    "        ('H3C', 'H3C'),\n",
    "        ('^Giga[ -]*byte', 'Gigabyte'),\n",
    "        ('^Fujitsu', 'Fujitsu'),\n",
    "        ('^Hitachi', 'Hitachi'),\n",
    "        ('^Lenovo', 'Lenovo'),\n",
    "        ('^Quanta', 'Quanta'),\n",
    "        ('^Super[ -]*Micro', 'SuperMicro'),\n",
    "        ('^UNIWIDE', 'Uniwide'),\n",
    "        ('^Wizbrain', 'Wizbrain')\n",
    "    ]\n",
    "    for pair in replace_pairs:\n",
    "        if len(re.findall(re.compile(pair[0], re.IGNORECASE), vendor)):\n",
    "            vendor = pair[1]\n",
    "    \n",
    "    return vendor"
   ]
  },
  {
   "cell_type": "code",
   "execution_count": 154,
   "id": "fa503909-ce65-429a-9212-090c3e4136f1",
   "metadata": {},
   "outputs": [
    {
     "data": {
      "text/plain": [
       "array(['3Score', 'ACTION S.A.', 'ASUS', 'ATEC', 'Acer', 'Apple',\n",
       "       'BOXX Technologies', 'Bull SAS', 'Cisco Systems', 'ClearCube',\n",
       "       'Clevo', 'Colfax', 'Cryo Performance Computing', 'DEPO', 'Dell',\n",
       "       'E4 Computer Engineering S.p.A.', 'EXO S.A.', 'FORMAT',\n",
       "       'Five9 Network Systems', 'Fujitsu', 'Gigabyte', 'H3C',\n",
       "       'Hewlett Packard', 'Hitachi', 'Huawei', 'Hypertechnologies Ciara',\n",
       "       'IBM', 'IWILL', 'Incom S.A.', 'Inspur', 'Intel', 'Itautec',\n",
       "       'J.P Sa Couto S.A.', 'KTNF', 'LSDtech', 'LTechKorea', 'Lenovo',\n",
       "       'M Computers s.r.o.', 'MSI', 'Maxdata AG', 'Microsoft', 'NEC',\n",
       "       'NTT System S. A.', 'Nettars tech', 'Nettrix', 'Nokia', 'Oracle',\n",
       "       'PC Factory S.A.', \"Plat'Home\", 'Powerleader', 'Quanta', 'SGI',\n",
       "       'ScaleMP', 'Shuttle', 'Sugon', 'Sun Microsystems', 'SuperMicro',\n",
       "       'TAEJIN T&S', 'Tyan', 'Unisys', 'Uniwide', 'Verari Systems',\n",
       "       'Wipro Limited', 'Wizbrain', 'XSLAB', 'YOYOtech', 'Yadro',\n",
       "       'ZT Systems', 'ZTE'], dtype=object)"
      ]
     },
     "execution_count": 154,
     "metadata": {},
     "output_type": "execute_result"
    }
   ],
   "source": [
    "np.sort(hw_vendors_df['Vendor'].apply(lambda x: clean_vendor(x)).unique())"
   ]
  },
  {
   "cell_type": "code",
   "execution_count": 26,
   "id": "89ee701e-5b8e-4b1a-ac6c-9057614237f5",
   "metadata": {},
   "outputs": [
    {
     "data": {
      "text/plain": [
       "array(['xFusion', 'ZTE', 'Yadro', 'KTNF', 'Supermicro', 'Sugon',\n",
       "       'ScaleMP', 'Quanta Cloud Technology', 'Huawei', 'Oracle',\n",
       "       'Sun Microsystems', 'Nokia', 'New H3C Technologies',\n",
       "       'Tyrone Systems', 'Nettrix', 'NEC', 'Mputers s.r.o.',\n",
       "       'Lenovo Global Technology', 'Intel', 'ASUSTeKputer', 'Inspur',\n",
       "       'Hitachi Vantara', 'Hewlett Packard Enterprise', 'H3C',\n",
       "       'GIGA-BYTE TECHNOLOGY', 'Fujitsu',\n",
       "       'Epsylon Sp. z o.o. Sp. Komandytowa', 'Dell', 'Cisco Systems',\n",
       "       'Altosputing', 'ATOS'], dtype=object)"
      ]
     },
     "execution_count": 26,
     "metadata": {},
     "output_type": "execute_result"
    }
   ],
   "source": [
    "c2017_df['Hardware Vendor'].apply(lambda x: clean_hw_vendor(x)).unique()"
   ]
  },
  {
   "cell_type": "code",
   "execution_count": 31,
   "id": "e60d9f6d-9d79-4f9e-9a5c-bb3eeb991e3e",
   "metadata": {
    "tags": [
     "Yes"
    ]
   },
   "outputs": [
    {
     "data": {
      "text/plain": [
       "array(['SPECrate2017_fp_base'], dtype=object)"
      ]
     },
     "execution_count": 31,
     "metadata": {},
     "output_type": "execute_result"
    }
   ],
   "source": [
    "c2017_df['Metric'].apply(lambda x: re.sub('®', '', x)).unique()"
   ]
  },
  {
   "cell_type": "code",
   "execution_count": 46,
   "id": "fef224cc-4dc6-4116-8c19-b7e23b3a8044",
   "metadata": {},
   "outputs": [
    {
     "data": {
      "text/plain": [
       "array(['Run level 3 (multi-user)', 'Run level 5 (multi-user)',\n",
       "       'Run level 5 (multi-user with GUI)',\n",
       "       'Run level 5 (multi-user without GUI)',\n",
       "       'Run level 3 (Multi-user mode with networking)',\n",
       "       'Run level 5 (multi-user with display manager)',\n",
       "       'Run level 3 (Multi User)', 'Run level 5 (Multi User with GUI)',\n",
       "       'Run level 5 (multi-user graphical)', 'Default',\n",
       "       'Run level 5 (multi-user with network and display manager)',\n",
       "       'Run level 5 (multi user mode with GUI)',\n",
       "       'Run level 5 (Multi User)', 'Run level 3(multi-user)',\n",
       "       'Run level 3 (Multi-User Mode with Networking)',\n",
       "       'Run level 5 (Multiuser Networking with GUI)',\n",
       "       'Run level 3 (Multi-User)',\n",
       "       'Run level 5 (multi-user, GUI disabled)',\n",
       "       'Run level 3 (multi user)', 'Run level 5 (multi-user, w/GUI)',\n",
       "       'Run level 3 (mulit-user)', 'Run level 3',\n",
       "       'Run level 5 (multi-user w/GUI)', 'Run Level 3 (multi-user)',\n",
       "       'Run Level 5 (multi-user, graphical)',\n",
       "       'Run Level 5 (multi-user,Graphical)', 'Run level 5 (graphical)',\n",
       "       'Run level 5 (graphical multi-user)', 'Run level 5 (multi user)',\n",
       "       'Run level 5 (multi user) (multi-user)'], dtype=object)"
      ]
     },
     "execution_count": 46,
     "metadata": {},
     "output_type": "execute_result"
    }
   ],
   "source": [
    "c2017_df['System State'].unique()"
   ]
  },
  {
   "cell_type": "code",
   "execution_count": 38,
   "id": "2f3a944c-beb7-4cf2-a9bf-785b6c1d252e",
   "metadata": {
    "tags": [
     "Yes"
    ]
   },
   "outputs": [
    {
     "data": {
      "text/plain": [
       "array(['May-2021', 'Jun-2021', 'Feb-2021', 'Dec-2020', 'Apr-2020',\n",
       "       'Dec-2016', 'Mar-2022', 'Feb-2022', 'Sep-2021', 'Aug-2021',\n",
       "       'Apr-2021', 'Jan-2021', 'Mar-2021', 'Aug-2020', 'Aug-2019',\n",
       "       'Nov-2019', 'May-2019', 'Jun-2019', 'Sep-2018', 'Nov-2018',\n",
       "       'Dec-2018', 'Mar-2019', 'Feb-2019', 'Mar-2018', 'Feb-2018',\n",
       "       'Sep-2017', 'Nov-2017', 'Oct-2017', 'May-2017', 'Apr-2019',\n",
       "       'May-2018', 'Aug-2017', 'Jan-2022', 'Oct-2019', 'Jul-2020',\n",
       "       'Jul-2016', 'Dec-2019', 'Jul-2021', 'Jun-2020', 'Sep-2019',\n",
       "       'Jan-2019', 'Aug-2018', 'Nov-2021', 'May-2020', 'Oct-2018',\n",
       "       'Jan-2018', 'Sep-2020', 'Sep-2016', 'Nov-2020', 'Jul-2018',\n",
       "       'Nov-2016', 'Dec-2021', 'Apr-2018', 'Jun-2018', 'Oct-2016',\n",
       "       'Oct-2020', 'Jul-2017', 'Feb-2020', 'Jan-2020', 'Jul-2019',\n",
       "       'Dec-2017'], dtype=object)"
      ]
     },
     "execution_count": 38,
     "metadata": {},
     "output_type": "execute_result"
    }
   ],
   "source": [
    "c2017_df['SW Avail'].apply(lambda x: re.sub('\\t', '', x)).unique()"
   ]
  }
 ],
 "metadata": {
  "kernelspec": {
   "display_name": "Python 3 (ipykernel)",
   "language": "python",
   "name": "python3"
  },
  "language_info": {
   "codemirror_mode": {
    "name": "ipython",
    "version": 3
   },
   "file_extension": ".py",
   "mimetype": "text/x-python",
   "name": "python",
   "nbconvert_exporter": "python",
   "pygments_lexer": "ipython3",
   "version": "3.8.12"
  },
  "toc-autonumbering": false,
  "toc-showcode": false,
  "toc-showmarkdowntxt": false,
  "toc-showtags": true
 },
 "nbformat": 4,
 "nbformat_minor": 5
}
