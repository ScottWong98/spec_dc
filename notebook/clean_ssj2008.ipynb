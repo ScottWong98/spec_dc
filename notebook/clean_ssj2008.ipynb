{
 "cells": [
  {
   "cell_type": "code",
   "execution_count": 1,
   "id": "218e3146-b008-4fec-b91b-a857a2901d85",
   "metadata": {},
   "outputs": [],
   "source": [
    "data_root = '/home/scott/Documents/SPEC_Spider'"
   ]
  },
  {
   "cell_type": "code",
   "execution_count": 2,
   "id": "190571b4-b874-4d10-8fa6-cf914d593b71",
   "metadata": {},
   "outputs": [
    {
     "name": "stdout",
     "output_type": "stream",
     "text": [
      "\u001b[01;34m/home/scott/Documents/SPEC_Spider\u001b[0m\n",
      "├── \u001b[01;34mcpu\u001b[0m\n",
      "│   ├── \u001b[01;34mcpu2006\u001b[0m\n",
      "│   │   ├── \u001b[00mSPECfp.csv\u001b[0m\n",
      "│   │   ├── \u001b[00mSPECfp_rate.csv\u001b[0m\n",
      "│   │   ├── \u001b[00mSPECint.csv\u001b[0m\n",
      "│   │   └── \u001b[00mSPECint_rate.csv\u001b[0m\n",
      "│   └── \u001b[01;34mcpu2017\u001b[0m\n",
      "│       ├── \u001b[00mCFP2017_rate.csv\u001b[0m\n",
      "│       ├── \u001b[00mCFP2017_speed.csv\u001b[0m\n",
      "│       ├── \u001b[00mCINT2017_rate.csv\u001b[0m\n",
      "│       └── \u001b[00mCINT2017_speed.csv\u001b[0m\n",
      "├── \u001b[01;34mjava\u001b[0m\n",
      "│   ├── \u001b[01;34mjbb2015\u001b[0m\n",
      "│   │   ├── \u001b[00mSPECjbb2015-Composite.csv\u001b[0m\n",
      "│   │   ├── \u001b[00mSPECjbb2015-Distributed.csv\u001b[0m\n",
      "│   │   └── \u001b[00mSPECjbb2015-MultiJVM.csv\u001b[0m\n",
      "│   └── \u001b[01;34mjvm2008\u001b[0m\n",
      "│       └── \u001b[00mjvm2008.csv\u001b[0m\n",
      "├── \u001b[00mjbb2015.csv\u001b[0m\n",
      "└── \u001b[01;34mpower\u001b[0m\n",
      "    └── \u001b[00mssj2008.csv\u001b[0m\n",
      "\n",
      "7 directories, 14 files\n"
     ]
    }
   ],
   "source": [
    "!tree /home/scott/Documents/SPEC_Spider"
   ]
  },
  {
   "cell_type": "code",
   "execution_count": 3,
   "id": "5518275d-7d45-433f-b03d-f5796d3ff7ea",
   "metadata": {},
   "outputs": [],
   "source": [
    "import pandas as pd\n",
    "import numpy as np\n",
    "import re"
   ]
  },
  {
   "cell_type": "code",
   "execution_count": 4,
   "id": "26daab67-9037-433f-88f4-2005f2cd0e7d",
   "metadata": {},
   "outputs": [],
   "source": [
    "ssj2008 = pd.read_csv(f\"{data_root}/power/ssj2008.csv\")"
   ]
  },
  {
   "cell_type": "code",
   "execution_count": 5,
   "id": "4f578cae-11f3-4698-8f23-c8a3fa27bfb5",
   "metadata": {},
   "outputs": [
    {
     "data": {
      "text/plain": [
       "Index(['Suite', 'Test Sponsor', 'SPEC License #', 'Test Method', 'Tested By',\n",
       "       'Test Date', 'Hardware Availability', 'Software Availability',\n",
       "       'Publication', 'ssj_ops @ 100% of target load',\n",
       "       'Average watts @ 100% of target load',\n",
       "       'Performance/power @ 100% of target load',\n",
       "       'ssj_ops @ 90% of target load', 'Average watts @ 90% of target load',\n",
       "       'Performance/power @ 90% of target load',\n",
       "       'ssj_ops @ 80% of target load', 'Average watts @ 80% of target load',\n",
       "       'Performance/power @ 80% of target load',\n",
       "       'ssj_ops @ 70% of target load', 'Average watts @ 70% of target load',\n",
       "       'Performance/power @ 70% of target load',\n",
       "       'ssj_ops @ 60% of target load', 'Average watts @ 60% of target load',\n",
       "       'Performance/power @ 60% of target load',\n",
       "       'ssj_ops @ 50% of target load', 'Average watts @ 50% of target load',\n",
       "       'Performance/power @ 50% of target load',\n",
       "       'ssj_ops @ 40% of target load', 'Average watts @ 40% of target load',\n",
       "       'Performance/power @ 40% of target load',\n",
       "       'ssj_ops @ 30% of target load', 'Average watts @ 30% of target load',\n",
       "       'Performance/power @ 30% of target load',\n",
       "       'ssj_ops @ 20% of target load', 'Average watts @ 20% of target load',\n",
       "       'Performance/power @ 20% of target load',\n",
       "       'ssj_ops @ 10% of target load', 'Average watts @ 10% of target load',\n",
       "       'Performance/power @ 10% of target load', 'Average watts @ active idle',\n",
       "       'Benchmark', 'Hardware Vendor', 'Model', 'Form Factor', 'CPU Name',\n",
       "       'CPU Characteristics', 'CPU Frequency (MHz)', 'CPU(s) Enabled',\n",
       "       'Hardware Threads', 'CPU(s) Orderable', 'Primary Cache',\n",
       "       'Secondary Cache', 'Tertiary Cache', 'Other Cache',\n",
       "       'Memory Amount (GB)', '# and size of DIMM', 'Memory Details',\n",
       "       'Power Supply Quantity and Rating (W)', 'Power Supply Details',\n",
       "       'Disk Drive', 'Disk Controller',\n",
       "       '# and type of Network Interface Cards (NICs) Installed',\n",
       "       'NICs Enabled in Firmware / OS / Connected', 'Network Speed (Mbit)',\n",
       "       'Other Hardware', 'Power Management', 'Operating System (OS)',\n",
       "       'OS Version', 'Filesystem', 'JVM Vendor', 'JVM Version',\n",
       "       'JVM Instances', 'JVM Initial Heap (MB)', 'JVM Maximum Heap (MB)',\n",
       "       'JVM Address Bits', 'Boot Firmware Version',\n",
       "       'Management Firmware Version', 'Workload Version', 'Director Location',\n",
       "       'Other Software', 'URL Suffix'],\n",
       "      dtype='object')"
      ]
     },
     "execution_count": 5,
     "metadata": {},
     "output_type": "execute_result"
    }
   ],
   "source": [
    "ssj2008.columns"
   ]
  },
  {
   "cell_type": "code",
   "execution_count": 6,
   "id": "feade2f3-6410-4b44-9243-dca5280c620c",
   "metadata": {},
   "outputs": [],
   "source": [
    "ssj2008_columns = [\n",
    "    'Suite', 'Hardware Vendor', 'Model', 'Test Date',\n",
    "    'Hardware Availability', 'Benchmark',\n",
    "    'CPU Name', 'CPU Characteristics', 'CPU Frequency (MHz)', 'CPU(s) Enabled',\n",
    "    'Hardware Threads', 'CPU(s) Orderable', 'Primary Cache', 'Secondary Cache', 'Tertiary Cache',\n",
    "    'Memory Amount (GB)', '# and size of DIMM', 'Memory Details', 'Disk Drive',\n",
    "    'Operating System (OS)', 'OS Version', 'Filesystem',\n",
    "    'JVM Vendor', 'JVM Version',\n",
    "    'URL Suffix'\n",
    "]"
   ]
  },
  {
   "cell_type": "code",
   "execution_count": 8,
   "id": "8778df9b-f793-4e57-91ef-f550f53b153b",
   "metadata": {},
   "outputs": [],
   "source": [
    "ssj2008 = ssj2008[ssj2008_columns]"
   ]
  },
  {
   "cell_type": "code",
   "execution_count": 10,
   "id": "43d0bb93-ed1f-47e2-beb6-68ee4a136c2a",
   "metadata": {},
   "outputs": [
    {
     "data": {
      "text/plain": [
       "(778, 25)"
      ]
     },
     "execution_count": 10,
     "metadata": {},
     "output_type": "execute_result"
    }
   ],
   "source": [
    "ssj2008.shape"
   ]
  },
  {
   "cell_type": "code",
   "execution_count": 13,
   "id": "918a25c6-6d11-416b-b79c-621f143704f7",
   "metadata": {},
   "outputs": [],
   "source": [
    "ssj2008 = ssj2008[~ssj2008.isnull().any(axis=1)].reset_index(drop=True)"
   ]
  },
  {
   "cell_type": "code",
   "execution_count": 12,
   "id": "b5499f43-fb18-44e2-bad5-21cdda3f182d",
   "metadata": {},
   "outputs": [
    {
     "data": {
      "text/plain": [
       "(778, 25)"
      ]
     },
     "execution_count": 12,
     "metadata": {},
     "output_type": "execute_result"
    }
   ],
   "source": [
    "ssj2008.shape"
   ]
  },
  {
   "cell_type": "code",
   "execution_count": 39,
   "id": "aa4f8e4a-018f-4c57-8b58-0388b1682eda",
   "metadata": {},
   "outputs": [],
   "source": [
    "\n",
    "ssj2008['Total Cores'] = ssj2008['CPU Enabled'].apply(lambda x: int(x.split(',')[0].split()[0]))"
   ]
  },
  {
   "cell_type": "code",
   "execution_count": 41,
   "id": "ade528a7-67a9-4ec4-92b9-c48f7f52e526",
   "metadata": {},
   "outputs": [],
   "source": [
    "ssj2008['Chips'] = ssj2008['CPU Enabled'].apply(lambda x: int(x.split(',')[1].split()[0]))"
   ]
  },
  {
   "cell_type": "code",
   "execution_count": 42,
   "id": "79f659af-88bc-4983-8c5e-a51b969115ec",
   "metadata": {},
   "outputs": [],
   "source": [
    "ssj2008['Cores Per Chip'] = ssj2008['CPU Enabled'].apply(lambda x: int(x.split(',')[2].split()[0]))"
   ]
  },
  {
   "cell_type": "code",
   "execution_count": 49,
   "id": "02be8586-c178-444d-8621-51f9d46353fa",
   "metadata": {},
   "outputs": [
    {
     "data": {
      "text/plain": [
       "array([2, 1, 4])"
      ]
     },
     "execution_count": 49,
     "metadata": {},
     "output_type": "execute_result"
    }
   ],
   "source": [
    "ssj2008['Total Threads'].apply(lambda x: int(re.sub(' / core', '', re.findall('\\d+ / core', x)[0]))).unique()"
   ]
  },
  {
   "cell_type": "code",
   "execution_count": 52,
   "id": "08aeac13-0ef1-410b-b726-626389524087",
   "metadata": {},
   "outputs": [
    {
     "data": {
      "text/plain": [
       "Suite                                                  SPECpower_ssj2008\n",
       "HW Vendor                                              Acer Incorporated\n",
       "System Name                                       Acer AW2000h-AW170h F1\n",
       "Test Date                                                        Various\n",
       "HW Avail                                                        Feb-2011\n",
       "Result                                                             2,769\n",
       "CPU Name                                                Intel Xeon X5675\n",
       "CPU Characteristics                   Six-Core, 3.07 GHz, 12 MB L3 cache\n",
       "CPU MHz                                                             3067\n",
       "CPU Enabled                              12 cores, 2 chips, 6 cores/chip\n",
       "Total Threads                                              24 (2 / core)\n",
       "CPU Orderable                                                  1,2 chips\n",
       "L1 Cache                              32 KB I + 32 KB D on chip per core\n",
       "L2 Cache                                     256 KB I+D on chip per core\n",
       "L3 Cache                                      12 MB I+D on chip per chip\n",
       "Memory Amount                                                       24.0\n",
       "# and size of DIMM                                           6 x 4096 MB\n",
       "Memory                 4GB 2Rx8 PC3-10600E; slots 1A, 2A, and 3A popu...\n",
       "Storage                 1 x 500GB SATA 3.5\" HDD, Acer part #KH.500W8.019\n",
       "OS                               Windows Server 2008, Enterprise Edition\n",
       "OS Version                                                            R2\n",
       "File System                                                         NTFS\n",
       "JVM Vendor                                               IBM Corporation\n",
       "JVM Version            IBM J9 VM (build 2.4, JRE 1.6.0 IBM J9 2.4 Win...\n",
       "URL Suffix                   res2011q2/power_ssj2008-20110315-00365.html\n",
       "Total Cores                                                           12\n",
       "Chips                                                                  2\n",
       "Cores Per Chip                                                         6\n",
       "Name: 737, dtype: object"
      ]
     },
     "execution_count": 52,
     "metadata": {},
     "output_type": "execute_result"
    }
   ],
   "source": [
    "ssj2008[ssj2008['Test Date'] == 'Various'].iloc[0]"
   ]
  },
  {
   "cell_type": "code",
   "execution_count": 50,
   "id": "5e7f70be-b544-43f4-a194-8aed0464c179",
   "metadata": {},
   "outputs": [
    {
     "data": {
      "text/plain": [
       "array(['Sep 26, 2018', 'Oct 20, 2010', 'Oct 5, 2010', 'Sep 29, 2010',\n",
       "       'Oct 8, 2010', 'Aug 17, 2010', 'Aug 5, 2010', 'Sep 10, 2010',\n",
       "       'Sep 14, 2010', 'Aug 19, 2010', 'Aug 20, 2010', 'Jul 26, 2010',\n",
       "       'May 28, 2010', 'Apr 24, 2009', 'Aug 4, 2009', 'Aug 11, 2009',\n",
       "       'Sep 16, 2021', 'Sep 15, 2021', 'May 4, 2009', 'Feb 1, 2021',\n",
       "       'Nov 7, 2012', 'Nov 8, 2012', 'Nov 6, 2012', 'Oct 17, 2008',\n",
       "       'Oct 16, 2008', 'Dec 19, 2008', 'Aug 5, 2008', 'Aug 4, 2008',\n",
       "       'Apr 22, 2021', 'May 27, 2021', 'Sep 7, 2019', 'Apr 15, 2019',\n",
       "       'Dec 20, 2018', 'Jan 6, 2019', 'Aug 24, 2018', 'Jul 15, 2018',\n",
       "       'Sep 25, 2014', 'Jun 28, 2012', 'Jun 19, 2012', 'Jun 12, 2012',\n",
       "       'Sep 12, 2008', 'Oct 15, 2012', 'Oct 11, 2012', 'Apr 25, 2002',\n",
       "       'Sep 23, 2011', 'Sep 13, 2011', 'May 26, 2012', 'May 24, 2012',\n",
       "       'Nov 28, 2007', 'Jan 11, 2008', 'Nov 27, 2007', 'Jan 10, 2008',\n",
       "       'Apr 20, 2009', 'Apr 17, 2009', 'Mar 10, 2009', 'Apr 23, 2018',\n",
       "       'May 27, 2018', 'May 26, 2018', 'May 25, 2018', 'May 21, 2018',\n",
       "       'May 18, 2018', 'Jun 30, 2017', 'Jan 30, 2015', 'Oct 2, 2012',\n",
       "       'Feb 25, 2012', 'Jan 6, 2011', 'Dec 6, 2010', 'May 9, 2008',\n",
       "       'May 16, 2008', 'May 14, 2008', 'May 5, 2008', 'Jun 21, 2017',\n",
       "       'Mar 12, 2019', 'Oct 25, 2018', 'Sep 26, 2017', 'Jul 1, 2017',\n",
       "       'May 20, 2016', 'May 10, 2016', 'Nov 22, 2014', 'Aug 9, 2021',\n",
       "       'Jun 3, 2021', 'Sep 22, 2008', 'Jul 22, 2009', 'Jul 21, 2009',\n",
       "       '2009/05/19', 'Dec 23, 2019', 'Oct 9, 2021', 'Nov 3, 2020',\n",
       "       'May 24, 2019', 'May 23, 2019', 'May 21, 2019', 'May 17, 2019',\n",
       "       'May 13, 2019', 'May 14, 2019', 'May 15, 2019', 'May 6, 2019',\n",
       "       'Apr 29, 2019', 'Apr 27, 2019', 'Apr 18, 2019', 'Aug 23, 2017',\n",
       "       'Jun 1, 2021', 'May 30, 2013', 'Dec 7, 2011', 'Nov 22, 2011',\n",
       "       'Nov 17, 2011', 'Nov 16, 2011', 'Jun 8, 2011', 'Feb 4, 2011',\n",
       "       'Feb 2, 2011', 'Dec 17, 2010', 'Dec 11, 2010', 'Dec 4, 2010',\n",
       "       'Sep 2, 2010', 'Aug 10, 2010', 'Jul 16, 2010', 'Jul 8, 2010',\n",
       "       'Jul 5, 2010', 'Feb 26, 2010', 'Feb 15, 2010', 'Mar 1, 2010',\n",
       "       'Oct 28, 2009', '2008/07/24', 'Jul 14, 2008', 'Jun 10, 2021',\n",
       "       'May 23, 2021', 'May 29, 2021', 'Apr 13, 2021', 'Apr 6, 2021',\n",
       "       'Mar 12, 2021', 'Mar 10, 2021', 'Mar 5, 2021', 'Nov 30, 2020',\n",
       "       'Jul 10, 2020', 'Jul 9, 2020', 'May 12, 2020', 'Mar 4, 2020',\n",
       "       'Mar 3, 2020', 'Feb 29, 2020', 'Feb 27, 2020', 'Oct 2, 2018',\n",
       "       'Jul 11, 2019', 'Jul 19, 2019', 'Jul 17, 2019', 'May 29, 2019',\n",
       "       'Jun 11, 2019', 'May 7, 2019', 'Mar 9, 2019', 'Mar 7, 2019',\n",
       "       'Mar 8, 2019', 'Dec 25, 2018', 'Aug 26, 2018', 'Aug 29, 2018',\n",
       "       'Oct 11, 2017', 'Sep 18, 2017', 'Jul 4, 2017', 'Jun 19, 2017',\n",
       "       'Aug 28, 2020', 'Mar 12, 2008', 'Mar 9, 2022', 'Jan 20, 2022',\n",
       "       'Jul 15, 2021', 'Jul 13, 2021', 'Jul 6, 2021', 'Jul 3, 2021',\n",
       "       'Jul 2, 2021', 'Jun 29, 2021', 'Jan 11, 2021', 'Sep 18, 2020',\n",
       "       'Jun 16, 2020', 'May 19, 2020', 'Sep 16, 2019', 'May 29, 2018',\n",
       "       'Jun 5, 2018', 'Apr 9, 2018', 'Aug 6, 2017', 'Jan 19, 2011',\n",
       "       'Oct 24, 2012', 'Oct 26, 2012', 'Oct 23, 2012', 'Oct 9, 2012',\n",
       "       'Oct 16, 2012', 'Aug 23, 2012', 'Sep 23, 2012', 'Aug 3, 2012',\n",
       "       'Aug 6, 2012', 'Mar 3, 2012', 'Mar 4, 2012', 'Nov 4, 2011',\n",
       "       'Mar 28, 2011', 'Feb 22, 2011', 'Jan 27, 2011', 'Jan 31, 2011',\n",
       "       'Sep 27, 2010', 'Sep 24, 2010', 'Jul 29, 2010', 'May 21, 2010',\n",
       "       'May 14, 2010', 'Mar 9, 2010', 'Mar 10, 2010', 'Oct 20, 2009',\n",
       "       'Nov 2, 2009', 'Oct 27, 2009', 'Oct 22, 2009', 'Oct 23, 2009',\n",
       "       'Sep 18, 2009', 'Jul 1, 2009', 'May 19, 2009', 'May 14, 2009',\n",
       "       'May 15, 2009', 'May 18, 2009', 'Mar 29, 2009', 'Aug 14, 2008',\n",
       "       'Jul 23, 2008', 'Jul 22, 2008', 'May 6, 2008', 'Apr 25, 2008',\n",
       "       'May 2, 2008', 'Mar 7, 2008', 'Mar 13, 2019', 'Mar 11, 2019',\n",
       "       'Aug 21, 2018', 'Jun 18, 2017', 'Mar 4, 2017', 'Sep 17, 2016',\n",
       "       'Sep 18, 2016', 'Apr 11, 2016', 'Apr 4, 2016', 'Aug 25, 2015',\n",
       "       'Mar 8, 2014', 'Sep 6, 2013', 'Sep 2, 2013', 'Aug 19, 2013',\n",
       "       'Jun 16, 2013', 'Jun 5, 2013', 'Oct 13, 2012', 'Oct 12, 2012',\n",
       "       'Oct 10, 2012', 'Aug 21, 2012', 'Aug 18, 2012', 'Aug 5, 2012',\n",
       "       'Jun 2, 2012', 'Jun 11, 2012', 'Jun 4, 2012', 'May 15, 2012',\n",
       "       'May 10, 2012', 'May 14, 2012', 'Apr 27, 2012', 'Apr 25, 2012',\n",
       "       'Apr 26, 2012', 'Mar 21, 2012', 'Mar 20, 2012', 'Mar 7, 2012',\n",
       "       'Mar 6, 2012', 'Feb 29, 2012', 'Feb 23, 2012', 'Oct 19, 2011',\n",
       "       'Jun 2, 2011', 'Feb 11, 2011', 'Oct 12, 2009', 'Mar 5, 2013',\n",
       "       'Feb 22, 2013', 'Jan 17, 2013', 'Jun 26, 2012', 'Jun 25, 2012',\n",
       "       'Jun 22, 2012', 'Jun 21, 2012', 'Jun 15, 2012', 'Jul 28, 2011',\n",
       "       'Aug 4, 2011', 'Aug 3, 2011', 'Jul 17, 2011', 'Jul 14, 2011',\n",
       "       'Jul 10, 2011', 'Jul 9, 2011', 'Mar 22, 2011', 'Feb 20, 2011',\n",
       "       'Feb 3, 2011', 'Feb 8, 2011', 'Jan 28, 2011', 'Jan 26, 2011',\n",
       "       'Jan 21, 2011', 'Jan 24, 2011', 'Jan 20, 2011', 'Nov 5, 2012',\n",
       "       'Oct 18, 2011', 'Jul 12, 2011', 'Nov 13, 2010', 'Jul 20, 2010',\n",
       "       'Jul 2, 2010', 'Jun 1, 2010', 'May 3, 2010', 'Apr 15, 2010',\n",
       "       'Apr 5, 2010', 'Mar 29, 2010', 'Apr 1, 2010', 'Apr 6, 2010',\n",
       "       'Mar 21, 2010', 'Nov 18, 2009', 'Oct 2, 2009', 'Sep 8, 2009',\n",
       "       'Aug 14, 2009', 'Sep 3, 2009', 'Aug 17, 2009', 'Jun 25, 2009',\n",
       "       'Apr 15, 2009', 'Mar 20, 2009', 'Mar 16, 2009', 'Mar 24, 2009',\n",
       "       'Feb 7, 2009', 'Feb 6, 2009', 'Sep 15, 2008', 'Oct 21, 2008',\n",
       "       'Nov 4, 2008', 'Jun 11, 2008', 'May 27, 2008', 'Jan 15, 2008',\n",
       "       'Dec 6, 2007', 'Dec 5, 2007', 'Nov 2, 2007', 'May 31, 2009',\n",
       "       'Feb 14, 2022', 'Feb 10, 2022', 'Feb 2, 2022', 'Feb 25, 2022',\n",
       "       'May 8, 2021', 'Jan 13, 2022', 'Jan 12, 2022', 'Jan 11, 2022',\n",
       "       'Jan 14, 2022', 'Nov 24, 2021', 'Dec 5, 2021', 'Dec 3, 2021',\n",
       "       'Dec 6, 2021', 'Jul 26, 2021', 'Jul 12, 2021', 'May 31, 2021',\n",
       "       'May 28, 2021', 'Feb 23, 2021', 'Feb 22, 2021', 'Feb 21, 2021',\n",
       "       'Feb 19, 2021', 'Feb 18, 2021', 'Oct 15, 2020', 'Oct 19, 2020',\n",
       "       'Oct 16, 2020', 'Oct 13, 2020', 'Apr 6, 2020', 'Apr 7, 2020',\n",
       "       'Feb 14, 2019', 'Jul 30, 2019', 'Jul 16, 2019', 'Oct 1, 2018',\n",
       "       'Jul 15, 2019', 'Apr 8, 2019', 'Mar 26, 2019', 'Mar 28, 2019',\n",
       "       'Mar 27, 2019', 'Mar 10, 2019', 'Aug 28, 2018', 'Aug 27, 2018',\n",
       "       'Jul 19, 2018', 'Jul 3, 2018', 'Mar 16, 2018', 'Apr 10, 2018',\n",
       "       'Apr 6, 2018', 'Oct 23, 2017', 'Oct 10, 2017', 'Oct 9, 2017',\n",
       "       'Oct 6, 2017', 'Jun 28, 2017', 'Jun 1, 2016', 'Sep 8, 2015',\n",
       "       'Jul 13, 2009', 'Jul 27, 2016', 'Sep 18, 2018', 'Feb 15, 2022',\n",
       "       '19.02.2009', '12.02.2009', '16.02.2009', '14.02.2009',\n",
       "       'Sep 10, 2008', 'Aug 25, 2008', 'Aug 20, 2008', 'May 15, 2008',\n",
       "       'Mar 26, 2008', 'Nov 29, 2007', 'Nov 26, 2007', '18.02.2009',\n",
       "       '11.02.2009', '13.02.2009', 'Dec 11, 2021', 'Dec 17, 2021',\n",
       "       'Dec 16, 2021', 'Dec 15, 2021', 'Dec 18, 2021', 'Oct 12, 2021',\n",
       "       'Aug 7, 2021', 'Aug 6, 2021', 'May 18, 2021', 'Apr 3, 2021',\n",
       "       'Apr 2, 2021', 'Oct 7, 2020', 'Dec 3, 2019', 'Oct 7, 2019',\n",
       "       'Oct 1, 2019', 'Apr 26, 2019', 'Apr 24, 2019', 'Apr 6, 2019',\n",
       "       'Apr 9, 2019', 'Nov 22, 2018', 'Nov 23, 2018', 'Dec 15, 2017',\n",
       "       'Dec 18, 2017', 'Sep 27, 2017', 'Mar 8, 2017', 'Mar 7, 2017',\n",
       "       'Apr 19, 2016', 'Apr 7, 2016', 'Mar 6, 2016', 'Mar 9, 2016',\n",
       "       'Dec 12, 2015', 'Nov 20, 2015', 'Nov 6, 2015', 'Apr 24, 2015',\n",
       "       'Mar 9, 2015', 'Mar 10, 2015', 'Dec 9, 2014', 'Jan 9, 2015',\n",
       "       'Nov 15, 2014', 'Sep 27, 2014', 'Oct 14, 2013', 'Jul 27, 2013',\n",
       "       'Sep 17, 2012', 'Sep 15, 2012', 'Sep 12, 2012', 'Sep 10, 2012',\n",
       "       'Sep 3, 2012', 'Aug 31, 2012', 'Jul 24, 2012', 'Jul 25, 2012',\n",
       "       'Jul 13, 2012', 'Jun 14, 2012', 'May 1, 2012', 'May 2, 2012',\n",
       "       'Apr 2, 2012', 'Feb 16, 2012', 'Aug 8, 2011', 'May 31, 2011',\n",
       "       'May 23, 2011', 'Mar 24, 2011', 'Dec 7, 2010', 'Oct 26, 2010',\n",
       "       'Apr 30, 2010', 'Mar 17, 2010', 'Mar 11, 2010', 'Mar 7, 2010',\n",
       "       'Jan 11, 2010', 'Jan 6, 2010', 'Jun 19, 2009', 'Dec 22, 2010',\n",
       "       'Mar 9, 2012', 'Mar 15, 2012', 'Jul 22, 2020', 'Mar 21, 2020',\n",
       "       'Mar 9, 2020', 'Sep 2, 2019', 'Jun 30, 2019', 'Apr 3, 2019',\n",
       "       'Feb 6, 2019', 'Jun 20, 2018', 'Jun 18, 2018', 'May 17, 2018',\n",
       "       'Sep 11, 2017', 'Aug 27, 2017', 'Jun 24, 2016', 'May 3, 2016',\n",
       "       'Apr 30, 2016', 'May 5, 2016', 'Mar 28, 2016', 'Jul 10, 2015',\n",
       "       'Jun 3, 2015', 'Mar 13, 2015', 'Feb 17, 2015', 'Jan 18, 2015',\n",
       "       'Mar 15, 2013', 'Jan 11, 2013', 'Sep 14, 2012', 'Nov 13, 2012',\n",
       "       'Oct 18, 2012', 'Oct 25, 2012', 'Oct 22, 2012', 'Aug 2, 2012',\n",
       "       'Jul 2, 2012', 'Jun 20, 2012', 'May 25, 2012', 'Mar 27, 2012',\n",
       "       'Mar 26, 2012', 'Mar 29, 2012', 'Mar 16, 2012', 'Feb 19, 2012',\n",
       "       'Feb 17, 2012', 'Oct 29, 2011', 'Oct 11, 2011', 'Oct 7, 2011',\n",
       "       'Sep 26, 2011', 'Aug 30, 2011', 'Jun 28, 2011', 'Aug 31, 2010',\n",
       "       'Aug 12, 2010', 'Jun 6, 2010', 'Jun 8, 2010', 'May 1, 2010',\n",
       "       'Aug 21, 2009', 'Jul 16, 2009', 'May 3, 2009', 'Dec 4, 2008',\n",
       "       'Dec 2, 2008', 'Jun 18, 2008', 'Feb 26, 2008', 'Feb 12, 2008',\n",
       "       'Feb 7, 2008', 'Nov 21, 2007', 'Nov 19, 2014', 'Jul 14, 2014',\n",
       "       'Nov 14, 2007', 'Oct 3, 2012', 'Sep 21, 2010', 'Jun 6, 2013',\n",
       "       'Jun 7, 2013', 'Jan 1, 2005', 'May 24, 2013', 'May 27, 2013',\n",
       "       'Apr 9, 2013', 'Apr 3, 2013', 'Dec 21, 2012', 'Dec 13, 2012',\n",
       "       'Dec 12, 2012', 'May 22, 2012', 'May 23, 2012', 'May 29, 2012',\n",
       "       'May 17, 2012', 'Apr 30, 2012', 'Feb 14, 2011', 'Jan 23, 2011',\n",
       "       'Dec 15, 2011', 'Aug 17, 2011', 'Apr 26, 2011', 'Apr 6, 2011',\n",
       "       'Various', 'Jan 10, 2011', 'Nov 2, 2010', 'Oct 22, 2010',\n",
       "       'Oct 25, 2010', 'Oct 27, 2010', 'Oct 19, 2010', 'Jun 21, 2010',\n",
       "       'Apr 9, 2010', 'Mar 16, 2010', 'Feb 25, 2010', 'Oct 29, 2009',\n",
       "       'Jun 18, 2009', 'Nov 24, 2008', 'Nov 14, 2008', 'Dec 10, 2012',\n",
       "       'Dec 8, 2008', 'Oct 30, 2008', 'Oct 27, 2008', 'Dec 14, 2021',\n",
       "       'Sep 15, 2020', 'Mar 12, 2020', 'Mar 2, 2020', 'Nov 22, 2019',\n",
       "       'Nov 21, 2019', 'May 9, 2019', 'Jan 10, 2019'], dtype=object)"
      ]
     },
     "execution_count": 50,
     "metadata": {},
     "output_type": "execute_result"
    }
   ],
   "source": [
    "ssj2008['Test Date'].unique()"
   ]
  },
  {
   "cell_type": "code",
   "execution_count": 46,
   "id": "9ad5f900-da9e-4cd5-8fb2-06b1fdff3b85",
   "metadata": {},
   "outputs": [
    {
     "data": {
      "text/plain": [
       "array(['112 (2 / core)', '24 (1 / core)', '6 (1 / core)', '24 (2 / core)',\n",
       "       '12 (1 / core)', '8 (1 / core)', '16 (2 / core)', '40 (2 / core)',\n",
       "       '16 (1 / core)', '160 (2 / core)', '256 (2 / core)',\n",
       "       '128 (2 / core)', '72 (2 / core)', '32 (2 / core)',\n",
       "       '32 (1 / core)', '4 (1 / core)', '56 (2 / core)', '88 (2 / core)',\n",
       "       '64 (2 / core)', '96 (2 / core)', '8 (2 / core)', '224 (2 / core)',\n",
       "       '4 (2 / core)', '448 (2 / core)', '12 (2 / core)', '48 (2 / core)',\n",
       "       '152 (2 / core)', '144 (2 / core)', '2 (1 / core)',\n",
       "       '64 (1 / core)', '80 (2 / core)', '48 (1 / core)',\n",
       "       '176 (2 / core)', '32 (4 / core)'], dtype=object)"
      ]
     },
     "execution_count": 46,
     "metadata": {},
     "output_type": "execute_result"
    }
   ],
   "source": [
    "ssj2008['Total Threads'].unique()"
   ]
  },
  {
   "cell_type": "code",
   "execution_count": 44,
   "id": "3dcfa5d0-bfd2-4ed1-a62f-edf76800b3ca",
   "metadata": {},
   "outputs": [
    {
     "data": {
      "text/html": [
       "<div>\n",
       "<style scoped>\n",
       "    .dataframe tbody tr th:only-of-type {\n",
       "        vertical-align: middle;\n",
       "    }\n",
       "\n",
       "    .dataframe tbody tr th {\n",
       "        vertical-align: top;\n",
       "    }\n",
       "\n",
       "    .dataframe thead th {\n",
       "        text-align: right;\n",
       "    }\n",
       "</style>\n",
       "<table border=\"1\" class=\"dataframe\">\n",
       "  <thead>\n",
       "    <tr style=\"text-align: right;\">\n",
       "      <th></th>\n",
       "      <th>Suite</th>\n",
       "      <th>HW Vendor</th>\n",
       "      <th>System Name</th>\n",
       "      <th>Test Date</th>\n",
       "      <th>HW Avail</th>\n",
       "      <th>Result</th>\n",
       "      <th>CPU Name</th>\n",
       "      <th>CPU Characteristics</th>\n",
       "      <th>CPU MHz</th>\n",
       "      <th>CPU Enabled</th>\n",
       "      <th>...</th>\n",
       "      <th>Storage</th>\n",
       "      <th>OS</th>\n",
       "      <th>OS Version</th>\n",
       "      <th>File System</th>\n",
       "      <th>JVM Vendor</th>\n",
       "      <th>JVM Version</th>\n",
       "      <th>URL Suffix</th>\n",
       "      <th>Total Cores</th>\n",
       "      <th>Chips</th>\n",
       "      <th>Cores Per Chip</th>\n",
       "    </tr>\n",
       "  </thead>\n",
       "  <tbody>\n",
       "  </tbody>\n",
       "</table>\n",
       "<p>0 rows × 28 columns</p>\n",
       "</div>"
      ],
      "text/plain": [
       "Empty DataFrame\n",
       "Columns: [Suite, HW Vendor, System Name, Test Date, HW Avail, Result, CPU Name, CPU Characteristics, CPU MHz, CPU Enabled, Total Threads, CPU Orderable, L1 Cache, L2 Cache, L3 Cache, Memory Amount, # and size of DIMM, Memory, Storage, OS, OS Version, File System, JVM Vendor, JVM Version, URL Suffix, Total Cores, Chips, Cores Per Chip]\n",
       "Index: []\n",
       "\n",
       "[0 rows x 28 columns]"
      ]
     },
     "execution_count": 44,
     "metadata": {},
     "output_type": "execute_result"
    }
   ],
   "source": [
    "ssj2008[~ssj2008['Cores Per Chip']  * ssj2008['Chips'] == ssj2008['Total Cores']]"
   ]
  },
  {
   "cell_type": "code",
   "execution_count": 31,
   "id": "001e694e-8e20-45b0-b66f-50b267f289fd",
   "metadata": {},
   "outputs": [
    {
     "data": {
      "text/plain": [
       "array([ 192.,   16.,    8.,   12.,  768.,   32.,  256.,  512.,  384.,\n",
       "         64.,   24.,  128.,   96.,    4.,  196.,   48.,   60.,    6.,\n",
       "       1536.,   18.])"
      ]
     },
     "execution_count": 31,
     "metadata": {},
     "output_type": "execute_result"
    }
   ],
   "source": [
    "ssj2008['Memory Amount'].unique()"
   ]
  },
  {
   "cell_type": "code",
   "execution_count": 14,
   "id": "e5e04236-4e83-4749-b878-771b6c9e441b",
   "metadata": {},
   "outputs": [],
   "source": [
    "ssj2008_rename_dict = {\n",
    "    'Hardware Vendor': 'HW Vendor',\n",
    "    'Model': 'System Name',\n",
    "    'Hardware Availability': 'HW Avail',\n",
    "    'Benchmark': 'Result',\n",
    "    'CPU Frequency (MHz)': 'CPU MHz', \n",
    "    'CPU(s) Enabled': 'CPU Enabled',\n",
    "    'CPU(s) Orderable': 'CPU Orderable',\n",
    "    'Primary Cache': 'L1 Cache',\n",
    "    'Secondary Cache': 'L2 Cache',\n",
    "    'Tertiary Cache': 'L3 Cache',\n",
    "    'Memory Amount (GB)': 'Memory Amount',\n",
    "    'Memory Details': 'Memory',\n",
    "    'Disk Drive': 'Storage',\n",
    "    'Operating System (OS)': 'OS',\n",
    "    'Filesystem': 'File System',\n",
    "}"
   ]
  },
  {
   "cell_type": "code",
   "execution_count": 15,
   "id": "a6162c74-a01c-4b6a-a9fa-b2fd911c74d6",
   "metadata": {},
   "outputs": [],
   "source": [
    "ssj2008.rename(columns=ssj2008_rename_dict, inplace=True)"
   ]
  },
  {
   "cell_type": "code",
   "execution_count": 16,
   "id": "f6c0008d-1852-4cc0-94f4-5e19cc39e445",
   "metadata": {},
   "outputs": [
    {
     "data": {
      "text/plain": [
       "Index(['Suite', 'HW Vendor', 'System Name', 'Test Date', 'HW Avail', 'Result',\n",
       "       'CPU Name', 'CPU Characteristics', 'CPU MHz', 'CPU Enabled',\n",
       "       'Total Threads', 'CPU Orderable', 'L1 Cache', 'L2 Cache', 'L3 Cache',\n",
       "       'Memory Amount', '# and size of DIMM', 'Memory', 'Storage', 'OS',\n",
       "       'OS Version', 'File System', 'JVM Vendor', 'JVM Version', 'URL Suffix'],\n",
       "      dtype='object')"
      ]
     },
     "execution_count": 16,
     "metadata": {},
     "output_type": "execute_result"
    }
   ],
   "source": [
    "ssj2008.columns"
   ]
  },
  {
   "cell_type": "code",
   "execution_count": 32,
   "id": "e5178128-bffc-4ba7-8ad7-f88484f426bc",
   "metadata": {},
   "outputs": [
    {
     "data": {
      "text/plain": [
       "dtype('float64')"
      ]
     },
     "execution_count": 32,
     "metadata": {},
     "output_type": "execute_result"
    }
   ],
   "source": [
    "ssj2008['Memory Amount'].dtype"
   ]
  },
  {
   "cell_type": "code",
   "execution_count": null,
   "id": "1a18d46c-47af-40c4-b811-fff30cab7c98",
   "metadata": {},
   "outputs": [
    {
     "data": {
      "text/html": [
       "<div>\n",
       "<style scoped>\n",
       "    .dataframe tbody tr th:only-of-type {\n",
       "        vertical-align: middle;\n",
       "    }\n",
       "\n",
       "    .dataframe tbody tr th {\n",
       "        vertical-align: top;\n",
       "    }\n",
       "\n",
       "    .dataframe thead th {\n",
       "        text-align: right;\n",
       "    }\n",
       "</style>\n",
       "<table border=\"1\" class=\"dataframe\">\n",
       "  <thead>\n",
       "    <tr style=\"text-align: right;\">\n",
       "      <th></th>\n",
       "      <th>OS</th>\n",
       "      <th>OS Version</th>\n",
       "    </tr>\n",
       "  </thead>\n",
       "  <tbody>\n",
       "    <tr>\n",
       "      <th>0</th>\n",
       "      <td>Microsoft Windows Server 2012 R2 Datacenter</td>\n",
       "      <td>Version 6.3 (Build 9600)</td>\n",
       "    </tr>\n",
       "    <tr>\n",
       "      <th>1</th>\n",
       "      <td>Windows Server 2008, Enterprise Edition</td>\n",
       "      <td>R2</td>\n",
       "    </tr>\n",
       "    <tr>\n",
       "      <th>2</th>\n",
       "      <td>Windows Server 2008, Enterprise Edition</td>\n",
       "      <td>R2</td>\n",
       "    </tr>\n",
       "    <tr>\n",
       "      <th>3</th>\n",
       "      <td>Windows Server 2008, Enterprise Edition</td>\n",
       "      <td>R2</td>\n",
       "    </tr>\n",
       "    <tr>\n",
       "      <th>4</th>\n",
       "      <td>Windows Server 2008, Enterprise Edition</td>\n",
       "      <td>R2</td>\n",
       "    </tr>\n",
       "    <tr>\n",
       "      <th>...</th>\n",
       "      <td>...</td>\n",
       "      <td>...</td>\n",
       "    </tr>\n",
       "    <tr>\n",
       "      <th>773</th>\n",
       "      <td>SUSE Linux Enterprise Server 12 SP4</td>\n",
       "      <td>4.12.14-94.41-default</td>\n",
       "    </tr>\n",
       "    <tr>\n",
       "      <th>774</th>\n",
       "      <td>Microsoft Windows Server 2019 Datacenter</td>\n",
       "      <td>Version 1809 (OS Build 17763.720)</td>\n",
       "    </tr>\n",
       "    <tr>\n",
       "      <th>775</th>\n",
       "      <td>Microsoft Windows Server 2012 R2 Datacenter</td>\n",
       "      <td>Version 6.3 (Build 9600)</td>\n",
       "    </tr>\n",
       "    <tr>\n",
       "      <th>776</th>\n",
       "      <td>SUSE Linux Enterprise Server 12 SP4</td>\n",
       "      <td>4.12.14-94.41-default</td>\n",
       "    </tr>\n",
       "    <tr>\n",
       "      <th>777</th>\n",
       "      <td>Microsoft Windows Server 2012 R2 Datacenter</td>\n",
       "      <td>Version 6.3 (Build 9600)</td>\n",
       "    </tr>\n",
       "  </tbody>\n",
       "</table>\n",
       "<p>778 rows × 2 columns</p>\n",
       "</div>"
      ],
      "text/plain": [
       "                                              OS  \\\n",
       "0    Microsoft Windows Server 2012 R2 Datacenter   \n",
       "1        Windows Server 2008, Enterprise Edition   \n",
       "2        Windows Server 2008, Enterprise Edition   \n",
       "3        Windows Server 2008, Enterprise Edition   \n",
       "4        Windows Server 2008, Enterprise Edition   \n",
       "..                                           ...   \n",
       "773          SUSE Linux Enterprise Server 12 SP4   \n",
       "774     Microsoft Windows Server 2019 Datacenter   \n",
       "775  Microsoft Windows Server 2012 R2 Datacenter   \n",
       "776          SUSE Linux Enterprise Server 12 SP4   \n",
       "777  Microsoft Windows Server 2012 R2 Datacenter   \n",
       "\n",
       "                            OS Version  \n",
       "0             Version 6.3 (Build 9600)  \n",
       "1                                   R2  \n",
       "2                                   R2  \n",
       "3                                   R2  \n",
       "4                                   R2  \n",
       "..                                 ...  \n",
       "773              4.12.14-94.41-default  \n",
       "774  Version 1809 (OS Build 17763.720)  \n",
       "775           Version 6.3 (Build 9600)  \n",
       "776              4.12.14-94.41-default  \n",
       "777           Version 6.3 (Build 9600)  \n",
       "\n",
       "[778 rows x 2 columns]"
      ]
     },
     "execution_count": 33,
     "metadata": {},
     "output_type": "execute_result"
    }
   ],
   "source": [
    "ssj2008[['OS', ' Version']]"
   ]
  },
  {
   "cell_type": "code",
   "execution_count": 34,
   "id": "0837c27f-5407-4fca-93d8-ccef8dbb3001",
   "metadata": {},
   "outputs": [
    {
     "data": {
      "text/html": [
       "<div>\n",
       "<style scoped>\n",
       "    .dataframe tbody tr th:only-of-type {\n",
       "        vertical-align: middle;\n",
       "    }\n",
       "\n",
       "    .dataframe tbody tr th {\n",
       "        vertical-align: top;\n",
       "    }\n",
       "\n",
       "    .dataframe thead th {\n",
       "        text-align: right;\n",
       "    }\n",
       "</style>\n",
       "<table border=\"1\" class=\"dataframe\">\n",
       "  <thead>\n",
       "    <tr style=\"text-align: right;\">\n",
       "      <th></th>\n",
       "      <th>Test Date</th>\n",
       "      <th>HW Avail</th>\n",
       "    </tr>\n",
       "  </thead>\n",
       "  <tbody>\n",
       "    <tr>\n",
       "      <th>0</th>\n",
       "      <td>Sep 26, 2018</td>\n",
       "      <td>Sep-2018</td>\n",
       "    </tr>\n",
       "    <tr>\n",
       "      <th>1</th>\n",
       "      <td>Oct 20, 2010</td>\n",
       "      <td>Oct-2010</td>\n",
       "    </tr>\n",
       "    <tr>\n",
       "      <th>2</th>\n",
       "      <td>Oct 5, 2010</td>\n",
       "      <td>Aug-2010</td>\n",
       "    </tr>\n",
       "    <tr>\n",
       "      <th>3</th>\n",
       "      <td>Oct 5, 2010</td>\n",
       "      <td>Aug-2010</td>\n",
       "    </tr>\n",
       "    <tr>\n",
       "      <th>4</th>\n",
       "      <td>Sep 29, 2010</td>\n",
       "      <td>Oct-2010</td>\n",
       "    </tr>\n",
       "    <tr>\n",
       "      <th>...</th>\n",
       "      <td>...</td>\n",
       "      <td>...</td>\n",
       "    </tr>\n",
       "    <tr>\n",
       "      <th>773</th>\n",
       "      <td>Nov 22, 2019</td>\n",
       "      <td>Oct-2019</td>\n",
       "    </tr>\n",
       "    <tr>\n",
       "      <th>774</th>\n",
       "      <td>Nov 21, 2019</td>\n",
       "      <td>Oct-2019</td>\n",
       "    </tr>\n",
       "    <tr>\n",
       "      <th>775</th>\n",
       "      <td>May 9, 2019</td>\n",
       "      <td>Apr-2019</td>\n",
       "    </tr>\n",
       "    <tr>\n",
       "      <th>776</th>\n",
       "      <td>Jun 11, 2019</td>\n",
       "      <td>Apr-2019</td>\n",
       "    </tr>\n",
       "    <tr>\n",
       "      <th>777</th>\n",
       "      <td>Jan 10, 2019</td>\n",
       "      <td>Jan-2019</td>\n",
       "    </tr>\n",
       "  </tbody>\n",
       "</table>\n",
       "<p>778 rows × 2 columns</p>\n",
       "</div>"
      ],
      "text/plain": [
       "        Test Date  HW Avail\n",
       "0    Sep 26, 2018  Sep-2018\n",
       "1    Oct 20, 2010  Oct-2010\n",
       "2     Oct 5, 2010  Aug-2010\n",
       "3     Oct 5, 2010  Aug-2010\n",
       "4    Sep 29, 2010  Oct-2010\n",
       "..            ...       ...\n",
       "773  Nov 22, 2019  Oct-2019\n",
       "774  Nov 21, 2019  Oct-2019\n",
       "775   May 9, 2019  Apr-2019\n",
       "776  Jun 11, 2019  Apr-2019\n",
       "777  Jan 10, 2019  Jan-2019\n",
       "\n",
       "[778 rows x 2 columns]"
      ]
     },
     "execution_count": 34,
     "metadata": {},
     "output_type": "execute_result"
    }
   ],
   "source": [
    "ssj2008[['Test Date', 'HW Avail']]"
   ]
  },
  {
   "cell_type": "code",
   "execution_count": 28,
   "id": "ba1275f9-4ef3-406e-9bb5-2f64cc127200",
   "metadata": {},
   "outputs": [
    {
     "data": {
      "text/html": [
       "<div>\n",
       "<style scoped>\n",
       "    .dataframe tbody tr th:only-of-type {\n",
       "        vertical-align: middle;\n",
       "    }\n",
       "\n",
       "    .dataframe tbody tr th {\n",
       "        vertical-align: top;\n",
       "    }\n",
       "\n",
       "    .dataframe thead th {\n",
       "        text-align: right;\n",
       "    }\n",
       "</style>\n",
       "<table border=\"1\" class=\"dataframe\">\n",
       "  <thead>\n",
       "    <tr style=\"text-align: right;\">\n",
       "      <th></th>\n",
       "      <th>JVM Vendor</th>\n",
       "      <th>JVM Version</th>\n",
       "    </tr>\n",
       "  </thead>\n",
       "  <tbody>\n",
       "    <tr>\n",
       "      <th>0</th>\n",
       "      <td>Oracle Corporation</td>\n",
       "      <td>Oracle Java HotSpot(TM) 64-Bit Server VM (buil...</td>\n",
       "    </tr>\n",
       "    <tr>\n",
       "      <th>1</th>\n",
       "      <td>IBM Corporation</td>\n",
       "      <td>IBM J9 VM (build 2.4, JRE 1.6.0 IBM J9 2.4 Win...</td>\n",
       "    </tr>\n",
       "    <tr>\n",
       "      <th>2</th>\n",
       "      <td>IBM Corporation</td>\n",
       "      <td>IBM J9 VM (build 2.4, JRE 1.6.0 IBM J9 2.4 Win...</td>\n",
       "    </tr>\n",
       "    <tr>\n",
       "      <th>3</th>\n",
       "      <td>IBM Corporation</td>\n",
       "      <td>IBM J9 VM (build 2.4, JRE 1.6.0 IBM J9 2.4 Win...</td>\n",
       "    </tr>\n",
       "    <tr>\n",
       "      <th>4</th>\n",
       "      <td>IBM Corporation</td>\n",
       "      <td>IBM J9 VM &lt;build 2.4, JRE 1.6.0 IBM J9 2.4 Win...</td>\n",
       "    </tr>\n",
       "    <tr>\n",
       "      <th>...</th>\n",
       "      <td>...</td>\n",
       "      <td>...</td>\n",
       "    </tr>\n",
       "    <tr>\n",
       "      <th>773</th>\n",
       "      <td>Oracle</td>\n",
       "      <td>Oracle Java HotSpot(TM) 64-Bit Server VM (buil...</td>\n",
       "    </tr>\n",
       "    <tr>\n",
       "      <th>774</th>\n",
       "      <td>Oracle</td>\n",
       "      <td>Java HotSpot(TM) 64-Bit Server VM (build 12.0....</td>\n",
       "    </tr>\n",
       "    <tr>\n",
       "      <th>775</th>\n",
       "      <td>Oracle Corporation</td>\n",
       "      <td>Oracle Java HotSpot(TM) 64-Bit Server VM (buil...</td>\n",
       "    </tr>\n",
       "    <tr>\n",
       "      <th>776</th>\n",
       "      <td>Oracle Corporation</td>\n",
       "      <td>Oracle Java HotSpot(TM) 64-Bit Server VM (buil...</td>\n",
       "    </tr>\n",
       "    <tr>\n",
       "      <th>777</th>\n",
       "      <td>Oracle Corporation</td>\n",
       "      <td>Oracle Java HotSpot(TM) 64-Bit Server VM (buil...</td>\n",
       "    </tr>\n",
       "  </tbody>\n",
       "</table>\n",
       "<p>778 rows × 2 columns</p>\n",
       "</div>"
      ],
      "text/plain": [
       "             JVM Vendor                                        JVM Version\n",
       "0    Oracle Corporation  Oracle Java HotSpot(TM) 64-Bit Server VM (buil...\n",
       "1       IBM Corporation  IBM J9 VM (build 2.4, JRE 1.6.0 IBM J9 2.4 Win...\n",
       "2       IBM Corporation  IBM J9 VM (build 2.4, JRE 1.6.0 IBM J9 2.4 Win...\n",
       "3       IBM Corporation  IBM J9 VM (build 2.4, JRE 1.6.0 IBM J9 2.4 Win...\n",
       "4       IBM Corporation  IBM J9 VM <build 2.4, JRE 1.6.0 IBM J9 2.4 Win...\n",
       "..                  ...                                                ...\n",
       "773              Oracle  Oracle Java HotSpot(TM) 64-Bit Server VM (buil...\n",
       "774              Oracle  Java HotSpot(TM) 64-Bit Server VM (build 12.0....\n",
       "775  Oracle Corporation  Oracle Java HotSpot(TM) 64-Bit Server VM (buil...\n",
       "776  Oracle Corporation  Oracle Java HotSpot(TM) 64-Bit Server VM (buil...\n",
       "777  Oracle Corporation  Oracle Java HotSpot(TM) 64-Bit Server VM (buil...\n",
       "\n",
       "[778 rows x 2 columns]"
      ]
     },
     "execution_count": 28,
     "metadata": {},
     "output_type": "execute_result"
    }
   ],
   "source": [
    "ssj2008[['JVM Vendor', 'JVM Version']]"
   ]
  },
  {
   "cell_type": "code",
   "execution_count": 26,
   "id": "5cb631b1-c49a-4047-9658-09e498c1d5fe",
   "metadata": {},
   "outputs": [
    {
     "data": {
      "text/html": [
       "<div>\n",
       "<style scoped>\n",
       "    .dataframe tbody tr th:only-of-type {\n",
       "        vertical-align: middle;\n",
       "    }\n",
       "\n",
       "    .dataframe tbody tr th {\n",
       "        vertical-align: top;\n",
       "    }\n",
       "\n",
       "    .dataframe thead th {\n",
       "        text-align: right;\n",
       "    }\n",
       "</style>\n",
       "<table border=\"1\" class=\"dataframe\">\n",
       "  <thead>\n",
       "    <tr style=\"text-align: right;\">\n",
       "      <th></th>\n",
       "      <th>Memory Amount</th>\n",
       "      <th># and size of DIMM</th>\n",
       "    </tr>\n",
       "  </thead>\n",
       "  <tbody>\n",
       "    <tr>\n",
       "      <th>0</th>\n",
       "      <td>192.0</td>\n",
       "      <td>12 x 16 GB</td>\n",
       "    </tr>\n",
       "    <tr>\n",
       "      <th>1</th>\n",
       "      <td>16.0</td>\n",
       "      <td>8 x 2048 MB</td>\n",
       "    </tr>\n",
       "    <tr>\n",
       "      <th>2</th>\n",
       "      <td>16.0</td>\n",
       "      <td>8 x 2048 MB</td>\n",
       "    </tr>\n",
       "    <tr>\n",
       "      <th>3</th>\n",
       "      <td>16.0</td>\n",
       "      <td>8 x 2048 MB</td>\n",
       "    </tr>\n",
       "    <tr>\n",
       "      <th>4</th>\n",
       "      <td>8.0</td>\n",
       "      <td>2 x 4096 MB</td>\n",
       "    </tr>\n",
       "    <tr>\n",
       "      <th>...</th>\n",
       "      <td>...</td>\n",
       "      <td>...</td>\n",
       "    </tr>\n",
       "    <tr>\n",
       "      <th>773</th>\n",
       "      <td>128.0</td>\n",
       "      <td>8 x 16 GB</td>\n",
       "    </tr>\n",
       "    <tr>\n",
       "      <th>774</th>\n",
       "      <td>128.0</td>\n",
       "      <td>8 x 16 GB</td>\n",
       "    </tr>\n",
       "    <tr>\n",
       "      <th>775</th>\n",
       "      <td>192.0</td>\n",
       "      <td>12 x 16 GB</td>\n",
       "    </tr>\n",
       "    <tr>\n",
       "      <th>776</th>\n",
       "      <td>192.0</td>\n",
       "      <td>12 x 16 GB</td>\n",
       "    </tr>\n",
       "    <tr>\n",
       "      <th>777</th>\n",
       "      <td>192.0</td>\n",
       "      <td>12 x 16 GB</td>\n",
       "    </tr>\n",
       "  </tbody>\n",
       "</table>\n",
       "<p>778 rows × 2 columns</p>\n",
       "</div>"
      ],
      "text/plain": [
       "     Memory Amount # and size of DIMM\n",
       "0            192.0         12 x 16 GB\n",
       "1             16.0        8 x 2048 MB\n",
       "2             16.0        8 x 2048 MB\n",
       "3             16.0        8 x 2048 MB\n",
       "4              8.0        2 x 4096 MB\n",
       "..             ...                ...\n",
       "773          128.0          8 x 16 GB\n",
       "774          128.0          8 x 16 GB\n",
       "775          192.0         12 x 16 GB\n",
       "776          192.0         12 x 16 GB\n",
       "777          192.0         12 x 16 GB\n",
       "\n",
       "[778 rows x 2 columns]"
      ]
     },
     "execution_count": 26,
     "metadata": {},
     "output_type": "execute_result"
    }
   ],
   "source": [
    "ssj2008[['Memory Amount', '# and size of DIMM']]"
   ]
  },
  {
   "cell_type": "code",
   "execution_count": 25,
   "id": "50eec3b0-5172-40fa-838a-8b6e5ca36512",
   "metadata": {},
   "outputs": [
    {
     "data": {
      "text/plain": [
       "array([ 192.,   16.,    8.,   12.,  768.,   32.,  256.,  512.,  384.,\n",
       "         64.,   24.,  128.,   96.,    4.,  196.,   48.,   60.,    6.,\n",
       "       1536.,   18.])"
      ]
     },
     "execution_count": 25,
     "metadata": {},
     "output_type": "execute_result"
    }
   ],
   "source": [
    "ssj2008['Memory Amount'].unique()"
   ]
  },
  {
   "cell_type": "code",
   "execution_count": 23,
   "id": "c8834f43-8588-4698-b4ff-dcf9cbe9e2b3",
   "metadata": {},
   "outputs": [
    {
     "data": {
      "text/plain": [
       "array(['12 x 16 GB', '8 x 2048 MB', '2 x 4096 MB', '6 x 2048 MB',\n",
       "       '4 x 4096 MB', '4 x 2048 MB', '1 x 16 GB', '24 x 32 GB',\n",
       "       '4 x 8 GB', '16 x 16384 MB', '16 x 32 GB', '12 x 32 GB',\n",
       "       '8 x 4096 MB', '8 x 8192 MB', '6 x 4096 MB', '8 x 8 GB',\n",
       "       '8 x 16384 MB', '4 x 2GB', '4x2GB', '4x 2GB', '4x4GB', '4x 4GB',\n",
       "       '16 x 8 GB', '8 x 16 GB', '4x2048 MB', '4x4096 MB',\n",
       "       '12 x 16384 MB', '12 x 8 GB', '2 x 8192 MB', '4 x 2 GB',\n",
       "       '4 x 4 GB', '4 x 16 GB', '16 x 16 GB', '24 x 16 GB',\n",
       "       '32 x 4096 MB', '16 x 8192 MB', '16 x 4096 MB', '2 x 2048 MB',\n",
       "       '2 x 4 GB', '24 x 16384 MB', '6 x 16384 MB', '48 x 16 GB',\n",
       "       '2 x 16 GB', '4x1GB', '2 x 4GB', '4 x 1024 MB', '12 x 4096 MB',\n",
       "       '6 x 4098 MB', '4x4096MB PC2-5300F', '6 x 8 GB', '6 x 4 GB',\n",
       "       '15 x 4 GB', '8 x 4 GB', '12 x 4 GB', '6 x 2 GB', '2 x 4096 GB',\n",
       "       '4 x 8192 MB', '6 x 8192 MB', '6 x 1024 MB', '16 x 1024 MB',\n",
       "       '16 x 2048 MB', '4 x 2048 GB', '4 x 4096 GB',\n",
       "       '2x4096 MB, 4x2048 MB', '48 x 32768 MB', '24 x 32768 MB',\n",
       "       '6 x 8182 MB', '24 x 8192 MB', '12 x 8182 MB', '8 x 8182 MB',\n",
       "       '4x2048MB', '4x4096MB', '2x2048MB', '2 x 8196 MB', '8 x 32 GB',\n",
       "       '12 x 8192 MB', '8 x 8196 MB', '2x4096MB', '8x2048MB', '8 x 2 GB',\n",
       "       '6 x 2 GB, 6 x 1 GB', '32 x 8192 MB'], dtype=object)"
      ]
     },
     "execution_count": 23,
     "metadata": {},
     "output_type": "execute_result"
    }
   ],
   "source": [
    "ssj2008['# and size of DIMM'].unique()"
   ]
  }
 ],
 "metadata": {
  "kernelspec": {
   "display_name": "Python 3 (ipykernel)",
   "language": "python",
   "name": "python3"
  },
  "language_info": {
   "codemirror_mode": {
    "name": "ipython",
    "version": 3
   },
   "file_extension": ".py",
   "mimetype": "text/x-python",
   "name": "python",
   "nbconvert_exporter": "python",
   "pygments_lexer": "ipython3",
   "version": "3.8.12"
  }
 },
 "nbformat": 4,
 "nbformat_minor": 5
}
