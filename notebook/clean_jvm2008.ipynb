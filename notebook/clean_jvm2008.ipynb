{
 "cells": [
  {
   "cell_type": "code",
   "execution_count": 1,
   "id": "dc3f87a6-d07c-43d2-ae8c-c8ecd6766d9c",
   "metadata": {},
   "outputs": [],
   "source": [
    "data_root = '/home/scott/Documents/SPEC_Spider'"
   ]
  },
  {
   "cell_type": "code",
   "execution_count": 2,
   "id": "cadcedb1-94c5-4c24-98a8-74e7c8ee8c85",
   "metadata": {},
   "outputs": [
    {
     "name": "stdout",
     "output_type": "stream",
     "text": [
      "\u001b[01;34m/home/scott/Documents/SPEC_Spider\u001b[0m\n",
      "├── \u001b[01;34mcpu\u001b[0m\n",
      "│   ├── \u001b[01;34mcpu2006\u001b[0m\n",
      "│   │   ├── \u001b[00mSPECfp.csv\u001b[0m\n",
      "│   │   ├── \u001b[00mSPECfp_rate.csv\u001b[0m\n",
      "│   │   ├── \u001b[00mSPECint.csv\u001b[0m\n",
      "│   │   └── \u001b[00mSPECint_rate.csv\u001b[0m\n",
      "│   └── \u001b[01;34mcpu2017\u001b[0m\n",
      "│       ├── \u001b[00mCFP2017_rate.csv\u001b[0m\n",
      "│       ├── \u001b[00mCFP2017_speed.csv\u001b[0m\n",
      "│       ├── \u001b[00mCINT2017_rate.csv\u001b[0m\n",
      "│       └── \u001b[00mCINT2017_speed.csv\u001b[0m\n",
      "├── \u001b[01;34mjava\u001b[0m\n",
      "│   ├── \u001b[01;34mjbb2015\u001b[0m\n",
      "│   │   ├── \u001b[00mSPECjbb2015-Composite.csv\u001b[0m\n",
      "│   │   ├── \u001b[00mSPECjbb2015-Distributed.csv\u001b[0m\n",
      "│   │   └── \u001b[00mSPECjbb2015-MultiJVM.csv\u001b[0m\n",
      "│   └── \u001b[01;34mjvm2008\u001b[0m\n",
      "│       └── \u001b[00mjvm2008.csv\u001b[0m\n",
      "├── \u001b[00mjbb2015.csv\u001b[0m\n",
      "└── \u001b[01;34mpower\u001b[0m\n",
      "    └── \u001b[00mssj2008.csv\u001b[0m\n",
      "\n",
      "7 directories, 14 files\n"
     ]
    }
   ],
   "source": [
    "!tree /home/scott/Documents/SPEC_Spider"
   ]
  },
  {
   "cell_type": "code",
   "execution_count": 3,
   "id": "de29f8a6-9737-4e31-aef7-cebfa937bcd1",
   "metadata": {},
   "outputs": [],
   "source": [
    "import pandas as pd\n",
    "import numpy as np\n",
    "import re"
   ]
  },
  {
   "cell_type": "code",
   "execution_count": 4,
   "id": "33cd5beb-08ab-41ac-94b5-dd1a8630a09a",
   "metadata": {},
   "outputs": [],
   "source": [
    "jvm2008 = pd.read_csv(f\"{data_root}/java/jvm2008/jvm2008.csv\")"
   ]
  },
  {
   "cell_type": "code",
   "execution_count": 5,
   "id": "98865a89-d352-454d-85c2-34947e4aa43a",
   "metadata": {},
   "outputs": [
    {
     "data": {
      "text/plain": [
       "Index(['Suite', 'Result', 'Submitter', 'SPEC license', 'Test date:',\n",
       "       'HW vendor', 'HW model', 'HW available', 'CPU vendor', 'CPU name',\n",
       "       'CPU frequency', '# of logical cpus', '# of chips', '# of cores',\n",
       "       'Cores per chip', 'Threads per core', 'Threading enabled',\n",
       "       'HW address bits', 'Primary cache', 'Secondary cache', 'Other cache',\n",
       "       'Memory size', 'Memory details', 'Other HW details', 'OS name',\n",
       "       'OS available', 'Filesystem', 'JVM name', 'JVM version',\n",
       "       'JVM available', 'JVM Vendor', 'URL Suffix'],\n",
       "      dtype='object')"
      ]
     },
     "execution_count": 5,
     "metadata": {},
     "output_type": "execute_result"
    }
   ],
   "source": [
    "jvm2008.columns"
   ]
  },
  {
   "cell_type": "code",
   "execution_count": 6,
   "id": "c4379afc-3afa-4b86-b406-4385669f084b",
   "metadata": {},
   "outputs": [],
   "source": [
    "jvm2008_columns = [\n",
    "    'Suite', 'HW vendor', 'HW model', 'Result',\n",
    "    'Test date:', 'HW available', 'CPU name', 'CPU vendor',\n",
    "    'CPU frequency', '# of logical cpus', '# of chips', '# of cores',\n",
    "    'Cores per chip', 'Threads per core',\n",
    "    'Primary cache', 'Secondary cache',\n",
    "    'Memory size', 'Memory details',\n",
    "    'OS name', 'Filesystem', 'JVM name', 'JVM version',\n",
    "    'URL Suffix'\n",
    "]\n",
    "jvm2008 = jvm2008[jvm2008_columns]"
   ]
  },
  {
   "cell_type": "code",
   "execution_count": 30,
   "id": "c9c11a07-81bf-45c3-9cb7-199f87478f55",
   "metadata": {},
   "outputs": [
    {
     "data": {
      "text/plain": [
       "0     32\n",
       "1     16\n",
       "2     12\n",
       "3     32\n",
       "4     32\n",
       "5     32\n",
       "6      2\n",
       "7      2\n",
       "8      2\n",
       "9     12\n",
       "10    16\n",
       "11    16\n",
       "Name: Memory, dtype: int64"
      ]
     },
     "execution_count": 30,
     "metadata": {},
     "output_type": "execute_result"
    }
   ],
   "source": [
    "def get_memory_number(memory_info):\n",
    "    items = re.findall(r'\\d+[ ]*x|\\d+[ ]*\\*', memory_info)\n",
    "    nums = [int(re.sub('[ ]*x|[ ]*\\*', '', item)) for item in items]\n",
    "    memory_num = sum(nums)\n",
    "    if memory_num == 0:\n",
    "        memory_num = 1\n",
    "    return memory_num\n",
    "jvm2008['Memory'].apply(lambda x: get_memory_number(x))"
   ]
  },
  {
   "cell_type": "code",
   "execution_count": 25,
   "id": "ccbab8f4-a73b-47b2-a478-96afb48ce807",
   "metadata": {},
   "outputs": [
    {
     "data": {
      "text/plain": [
       "0      32 x 8 GB 1Rx4 PC3L-12800R-11\n",
       "1        16 x 16 GB 2Rx4 PC4-2133P-R\n",
       "2              12*4GB DDR3-1333 DIMM\n",
       "3            32x 8 GB DDR3-1066 DIMM\n",
       "4            32x 8 GB DDR3-1066 DIMM\n",
       "5            32x 8 GB DDR3-1066 DIMM\n",
       "6               2 x 2GB DDR3 1067MHz\n",
       "7               2 x 2GB DDR3 1067MHz\n",
       "8               2 x 2GB DDR3 1067MHz\n",
       "9             12x 4GB DDR3-1066 DIMM\n",
       "10    16 x 4GB 2Rx4 PC2-5300F FBDIMM\n",
       "11    16 x 4GB 2Rx4 PC2-5300F FBDIMM\n",
       "Name: Memory, dtype: object"
      ]
     },
     "execution_count": 25,
     "metadata": {},
     "output_type": "execute_result"
    }
   ],
   "source": [
    "jvm2008['Memory']"
   ]
  },
  {
   "cell_type": "code",
   "execution_count": 7,
   "id": "cf8d93e7-c655-404c-bab8-e279a12fb65b",
   "metadata": {},
   "outputs": [],
   "source": [
    "jvm2008_rename_dict = {\n",
    "    'HW model': 'System Name',\n",
    "    'Test date:': 'Test Date',\n",
    "    'HW available': 'HW Avail',\n",
    "    'CPU name': 'CPU Name',\n",
    "    'CPU vendor': 'CPU Vendor',\n",
    "    'CPU frequency': 'CPU MHz',\n",
    "    'Cores oer chip': 'Cores Per Chips',\n",
    "    'Threads per core': 'Threads Per Core',\n",
    "    'Primary cache': 'L1 Cache',\n",
    "    'Secondary cache': 'L2 Cache',\n",
    "    'Memory size': 'Memory Size',\n",
    "    'Memory details': 'Memory',\n",
    "    'OS name': 'OS',\n",
    "    'Filesystem': 'File System',\n",
    "    'JVM name': 'JVM Name',\n",
    "    'JVM version': 'JVM Version',\n",
    "}"
   ]
  },
  {
   "cell_type": "code",
   "execution_count": 9,
   "id": "67f88274-2c96-4eb4-be9c-4d63ce98f2a1",
   "metadata": {},
   "outputs": [],
   "source": [
    "jvm2008.rename(columns=jvm2008_rename_dict, inplace=True)"
   ]
  },
  {
   "cell_type": "code",
   "execution_count": 10,
   "id": "6b695565-a73d-4175-9ea4-cd4d183188e8",
   "metadata": {},
   "outputs": [],
   "source": [
    "jvm2008['Cores Per Chip'] = jvm2008['# of cores'] // jvm2008['# of chips']"
   ]
  },
  {
   "cell_type": "code",
   "execution_count": 18,
   "id": "99901bf8-388f-47b1-aa7d-d98fd28b32c9",
   "metadata": {},
   "outputs": [
    {
     "data": {
      "text/plain": [
       "array([['Intel Xeon E7-4830 v2(Intel Turbo Boost Technology up to 2.70 GHz)',\n",
       "        '2200'],\n",
       "       ['Intel Xeon E5-2660 v3(Intel Turbo Boost Technology up to 3.30 GHz)',\n",
       "        '2600'],\n",
       "       ['Intel Xeon E5645 (Intel Turbo Boost Technology up to 2.67GHz)',\n",
       "        '2.4 GHz'],\n",
       "       ['SPARC T4', '2848'],\n",
       "       ['SPARC T4', '2848'],\n",
       "       ['SPARC T3', '1.65 GHz'],\n",
       "       ['Intel Core 2 Duo CPU E8335', '2930'],\n",
       "       ['Intel Core 2 Duo CPU E8335', '2930'],\n",
       "       ['Intel Core 2 Duo CPU E8335', '2930'],\n",
       "       ['Intel Xeon X5570 (Intel Turbo Boost Technology up to 3.33GHz)',\n",
       "        '2.93 GHz'],\n",
       "       ['Intel Xeon X7460 Quad Core (1066 MHz system bus)', '2667'],\n",
       "       ['Intel Xeon X7350 Quad Core (1066 MHz system bus)', '2933']],\n",
       "      dtype=object)"
      ]
     },
     "execution_count": 18,
     "metadata": {},
     "output_type": "execute_result"
    }
   ],
   "source": [
    "jvm2008[['CPU Name', 'CPU MHz']].values"
   ]
  },
  {
   "cell_type": "code",
   "execution_count": 21,
   "id": "6ec3c7ad-02dc-410b-9105-be78ac26709a",
   "metadata": {},
   "outputs": [
    {
     "data": {
      "text/plain": [
       "0           Intel Xeon E7-4830 v2\n",
       "1           Intel Xeon E5-2660 v3\n",
       "2               Intel Xeon E5645 \n",
       "3                        SPARC T4\n",
       "4                        SPARC T4\n",
       "5                        SPARC T3\n",
       "6      Intel Core 2 Duo CPU E8335\n",
       "7      Intel Core 2 Duo CPU E8335\n",
       "8      Intel Core 2 Duo CPU E8335\n",
       "9               Intel Xeon X5570 \n",
       "10    Intel Xeon X7460 Quad Core \n",
       "11    Intel Xeon X7350 Quad Core \n",
       "Name: CPU Name, dtype: object"
      ]
     },
     "execution_count": 21,
     "metadata": {},
     "output_type": "execute_result"
    }
   ],
   "source": [
    "def format_cpu_name(info):\n",
    "    return re.sub('[(].*?[)]', '', info)\n",
    "jvm2008['CPU Name'].apply(lambda x: format_cpu_name(x))"
   ]
  },
  {
   "cell_type": "code",
   "execution_count": 20,
   "id": "524e7e3d-79a5-49c9-be6d-c0cfa80d8e3b",
   "metadata": {},
   "outputs": [
    {
     "data": {
      "text/plain": [
       "0     2.20\n",
       "1     2.60\n",
       "2     2.40\n",
       "3     2.85\n",
       "4     2.85\n",
       "5     1.65\n",
       "6     2.93\n",
       "7     2.93\n",
       "8     2.93\n",
       "9     2.93\n",
       "10    2.67\n",
       "11    2.93\n",
       "Name: CPU MHz, dtype: float64"
      ]
     },
     "execution_count": 20,
     "metadata": {},
     "output_type": "execute_result"
    }
   ],
   "source": [
    "def _func(info):\n",
    "    if 'GHz' in info:\n",
    "        info = re.sub('[ ]*GHz', '', info)\n",
    "        val = float(info)\n",
    "    else:\n",
    "        val = float(info) / 1000\n",
    "    val = round(val, 2)\n",
    "    return val\n",
    "jvm2008['CPU MHz'].apply(lambda x: _func(x))"
   ]
  },
  {
   "cell_type": "code",
   "execution_count": 22,
   "id": "e81f975e-4bd4-454b-a127-b5419f86db3d",
   "metadata": {},
   "outputs": [
    {
     "data": {
      "text/plain": [
       "0     256 GB\n",
       "1     256 GB\n",
       "2       48GB\n",
       "3     262144\n",
       "4     262144\n",
       "5     256 GB\n",
       "6     4096MB\n",
       "7     4096MB\n",
       "8     4096MB\n",
       "9       48GB\n",
       "10     65536\n",
       "11     65536\n",
       "Name: Memory Size, dtype: object"
      ]
     },
     "execution_count": 22,
     "metadata": {},
     "output_type": "execute_result"
    }
   ],
   "source": [
    "jvm2008['Memory Size']"
   ]
  },
  {
   "cell_type": "code",
   "execution_count": 24,
   "id": "2cc342f2-0320-4079-b970-e9b4928def9f",
   "metadata": {},
   "outputs": [
    {
     "data": {
      "text/plain": [
       "0     256.0\n",
       "1     256.0\n",
       "2      48.0\n",
       "3     256.0\n",
       "4     256.0\n",
       "5     256.0\n",
       "6       4.0\n",
       "7       4.0\n",
       "8       4.0\n",
       "9      48.0\n",
       "10     64.0\n",
       "11     64.0\n",
       "Name: Memory Size, dtype: float64"
      ]
     },
     "execution_count": 24,
     "metadata": {},
     "output_type": "execute_result"
    }
   ],
   "source": [
    "def get_memory_amount(info):\n",
    "    items = re.findall('\\d+\\.*\\d*[ ]?GB', info)\n",
    "    value = 0\n",
    "    if len(items) == 0:\n",
    "        items = re.findall('\\d+\\.*\\d*[ ]?MB', info)\n",
    "        if len(items):\n",
    "            info = re.sub('[ ]*MB', '', info)\n",
    "        value = float(info) / 1024\n",
    "    else:\n",
    "        info = re.sub('[ ]*GB', '', info)\n",
    "        value = float(info)\n",
    "    value = round(value, 2)\n",
    "    return value\n",
    "jvm2008['Memory Size'].apply(lambda x: get_memory_amount(x))"
   ]
  },
  {
   "cell_type": "code",
   "execution_count": 13,
   "id": "9c4ea480-180b-4829-9c7d-1aa1f22f835e",
   "metadata": {},
   "outputs": [
    {
     "data": {
      "text/plain": [
       "0     False\n",
       "1     False\n",
       "2     False\n",
       "3     False\n",
       "4     False\n",
       "5     False\n",
       "6     False\n",
       "7     False\n",
       "8     False\n",
       "9     False\n",
       "10    False\n",
       "11    False\n",
       "dtype: bool"
      ]
     },
     "execution_count": 13,
     "metadata": {},
     "output_type": "execute_result"
    }
   ],
   "source": [
    "jvm2008['Cores Per Chip'] * jvm2008['Threads Per Core'] * jvm2008['# of chips'] == jvm2008['# of logical cpus']"
   ]
  },
  {
   "cell_type": "code",
   "execution_count": 14,
   "id": "2bd5b41e-270f-4b80-82c9-f589692dcf57",
   "metadata": {},
   "outputs": [
    {
     "data": {
      "text/html": [
       "<div>\n",
       "<style scoped>\n",
       "    .dataframe tbody tr th:only-of-type {\n",
       "        vertical-align: middle;\n",
       "    }\n",
       "\n",
       "    .dataframe tbody tr th {\n",
       "        vertical-align: top;\n",
       "    }\n",
       "\n",
       "    .dataframe thead th {\n",
       "        text-align: right;\n",
       "    }\n",
       "</style>\n",
       "<table border=\"1\" class=\"dataframe\">\n",
       "  <thead>\n",
       "    <tr style=\"text-align: right;\">\n",
       "      <th></th>\n",
       "      <th>Cores Per Chip</th>\n",
       "      <th>Threads Per Core</th>\n",
       "      <th># of chips</th>\n",
       "      <th># of logical cpus</th>\n",
       "    </tr>\n",
       "  </thead>\n",
       "  <tbody>\n",
       "    <tr>\n",
       "      <th>0</th>\n",
       "      <td>10</td>\n",
       "      <td>1</td>\n",
       "      <td>4</td>\n",
       "      <td>40</td>\n",
       "    </tr>\n",
       "    <tr>\n",
       "      <th>1</th>\n",
       "      <td>10</td>\n",
       "      <td>2</td>\n",
       "      <td>2</td>\n",
       "      <td>40</td>\n",
       "    </tr>\n",
       "    <tr>\n",
       "      <th>2</th>\n",
       "      <td>6</td>\n",
       "      <td>2</td>\n",
       "      <td>2</td>\n",
       "      <td>24 (2 chips, 6 cores/chip, 2 threads/core)</td>\n",
       "    </tr>\n",
       "    <tr>\n",
       "      <th>3</th>\n",
       "      <td>8</td>\n",
       "      <td>8</td>\n",
       "      <td>2</td>\n",
       "      <td>128</td>\n",
       "    </tr>\n",
       "    <tr>\n",
       "      <th>4</th>\n",
       "      <td>8</td>\n",
       "      <td>8</td>\n",
       "      <td>2</td>\n",
       "      <td>128</td>\n",
       "    </tr>\n",
       "    <tr>\n",
       "      <th>5</th>\n",
       "      <td>16</td>\n",
       "      <td>8</td>\n",
       "      <td>2</td>\n",
       "      <td>256</td>\n",
       "    </tr>\n",
       "    <tr>\n",
       "      <th>6</th>\n",
       "      <td>2</td>\n",
       "      <td>1</td>\n",
       "      <td>1</td>\n",
       "      <td>2</td>\n",
       "    </tr>\n",
       "    <tr>\n",
       "      <th>7</th>\n",
       "      <td>2</td>\n",
       "      <td>1</td>\n",
       "      <td>1</td>\n",
       "      <td>2</td>\n",
       "    </tr>\n",
       "    <tr>\n",
       "      <th>8</th>\n",
       "      <td>2</td>\n",
       "      <td>1</td>\n",
       "      <td>1</td>\n",
       "      <td>2</td>\n",
       "    </tr>\n",
       "    <tr>\n",
       "      <th>9</th>\n",
       "      <td>4</td>\n",
       "      <td>2</td>\n",
       "      <td>2</td>\n",
       "      <td>16 (2 chips, 4 cores/chip, 2 threads/core)</td>\n",
       "    </tr>\n",
       "    <tr>\n",
       "      <th>10</th>\n",
       "      <td>6</td>\n",
       "      <td>1</td>\n",
       "      <td>4</td>\n",
       "      <td>24</td>\n",
       "    </tr>\n",
       "    <tr>\n",
       "      <th>11</th>\n",
       "      <td>4</td>\n",
       "      <td>1</td>\n",
       "      <td>4</td>\n",
       "      <td>16</td>\n",
       "    </tr>\n",
       "  </tbody>\n",
       "</table>\n",
       "</div>"
      ],
      "text/plain": [
       "    Cores Per Chip  Threads Per Core  # of chips  \\\n",
       "0               10                 1           4   \n",
       "1               10                 2           2   \n",
       "2                6                 2           2   \n",
       "3                8                 8           2   \n",
       "4                8                 8           2   \n",
       "5               16                 8           2   \n",
       "6                2                 1           1   \n",
       "7                2                 1           1   \n",
       "8                2                 1           1   \n",
       "9                4                 2           2   \n",
       "10               6                 1           4   \n",
       "11               4                 1           4   \n",
       "\n",
       "                             # of logical cpus  \n",
       "0                                           40  \n",
       "1                                           40  \n",
       "2   24 (2 chips, 6 cores/chip, 2 threads/core)  \n",
       "3                                          128  \n",
       "4                                          128  \n",
       "5                                          256  \n",
       "6                                            2  \n",
       "7                                            2  \n",
       "8                                            2  \n",
       "9   16 (2 chips, 4 cores/chip, 2 threads/core)  \n",
       "10                                          24  \n",
       "11                                          16  "
      ]
     },
     "execution_count": 14,
     "metadata": {},
     "output_type": "execute_result"
    }
   ],
   "source": [
    "jvm2008[['Cores Per Chip', 'Threads Per Core', '# of chips', '# of logical cpus']]"
   ]
  },
  {
   "cell_type": "code",
   "execution_count": 34,
   "id": "38b4fccd-bb60-4b4f-b186-4a8fff9c4e4a",
   "metadata": {},
   "outputs": [
    {
     "data": {
      "text/plain": [
       "0     False\n",
       "1      True\n",
       "2     False\n",
       "3     False\n",
       "4     False\n",
       "5     False\n",
       "6     False\n",
       "7     False\n",
       "8     False\n",
       "9     False\n",
       "10    False\n",
       "11    False\n",
       "dtype: bool"
      ]
     },
     "execution_count": 34,
     "metadata": {},
     "output_type": "execute_result"
    }
   ],
   "source": [
    "jvm2008.isnull().any(axis=1)"
   ]
  },
  {
   "cell_type": "code",
   "execution_count": 35,
   "id": "bb4af00b-a324-4817-a771-51788b687790",
   "metadata": {},
   "outputs": [
    {
     "data": {
      "text/plain": [
       "Suite                                                      SPECjvm2008\n",
       "HW vendor                                                        Sugon\n",
       "System Name                      Sugon I620-G20(Intel Xeon E5-2660 v3)\n",
       "Result                                                          853.15\n",
       "Test Date                                 Thu Dec 25 19:18:18 CST 2014\n",
       "HW Avail                                                       2014.09\n",
       "CPU Name             Intel Xeon E5-2660 v3(Intel Turbo Boost Techno...\n",
       "CPU Vendor                                                       Intel\n",
       "CPU MHz                                                           2600\n",
       "# of logical cpus                                                   40\n",
       "# of chips                                                           2\n",
       "# of cores                                                          20\n",
       "Cores per chip                                                      10\n",
       "Threads Per Core                                                     2\n",
       "L1 Cache                                                         32 KB\n",
       "L2 Cache                                                        256 KB\n",
       "Memory Size                                                     256 GB\n",
       "Memory                                     16 x 16 GB 2Rx4 PC4-2133P-R\n",
       "OS Name                                   Red Hat Enterprise Linux 6.5\n",
       "File System                                                        NaN\n",
       "JVM Name                                      OpenJDK 64-Bit Server VM\n",
       "JVM Version                                       24.45-b08 mixed mode\n",
       "URL Suffix                       res2015q1/jvm2008-20150120-00018.html\n",
       "Cores Per Chip                                                      10\n",
       "Name: 1, dtype: object"
      ]
     },
     "execution_count": 35,
     "metadata": {},
     "output_type": "execute_result"
    }
   ],
   "source": [
    "jvm2008.loc[1]"
   ]
  },
  {
   "cell_type": "code",
   "execution_count": null,
   "id": "5b17164b-8946-4edb-a3c1-1f48cc2096ea",
   "metadata": {},
   "outputs": [],
   "source": [
    "jvm2008['Cores per chip']"
   ]
  },
  {
   "cell_type": "code",
   "execution_count": 11,
   "id": "8274540e-9743-47cd-ab31-e4513b818632",
   "metadata": {},
   "outputs": [
    {
     "data": {
      "text/html": [
       "<div>\n",
       "<style scoped>\n",
       "    .dataframe tbody tr th:only-of-type {\n",
       "        vertical-align: middle;\n",
       "    }\n",
       "\n",
       "    .dataframe tbody tr th {\n",
       "        vertical-align: top;\n",
       "    }\n",
       "\n",
       "    .dataframe thead th {\n",
       "        text-align: right;\n",
       "    }\n",
       "</style>\n",
       "<table border=\"1\" class=\"dataframe\">\n",
       "  <thead>\n",
       "    <tr style=\"text-align: right;\">\n",
       "      <th></th>\n",
       "      <th># of cores</th>\n",
       "      <th>Cores per chip</th>\n",
       "      <th># of chips</th>\n",
       "    </tr>\n",
       "  </thead>\n",
       "  <tbody>\n",
       "    <tr>\n",
       "      <th>0</th>\n",
       "      <td>40</td>\n",
       "      <td>1</td>\n",
       "      <td>4</td>\n",
       "    </tr>\n",
       "  </tbody>\n",
       "</table>\n",
       "</div>"
      ],
      "text/plain": [
       "   # of cores  Cores per chip  # of chips\n",
       "0          40               1           4"
      ]
     },
     "execution_count": 11,
     "metadata": {},
     "output_type": "execute_result"
    }
   ],
   "source": [
    "jvm2008[~(jvm2008['# of cores'] == jvm2008['Cores per chip'] * jvm2008['# of chips'])][['# of cores', 'Cores per chip', '# of chips']]"
   ]
  },
  {
   "cell_type": "code",
   "execution_count": null,
   "id": "03343233-be0d-41fa-8c91-87a43b1392e4",
   "metadata": {},
   "outputs": [],
   "source": [
    "jvm2008['# of logical cpus'] == jvm2008['Threads per core'] * jvm2008['# of cores']"
   ]
  },
  {
   "cell_type": "code",
   "execution_count": null,
   "id": "ed8a8851-7ef1-4de7-a7ed-b5ec8857a5f1",
   "metadata": {},
   "outputs": [],
   "source": [
    "jvm2008_rename_dict = {\n",
    "    'HW model': 'System Name',\n",
    "    'Result': 'Benchmark',\n",
    "    'Test date:': 'Test Date',\n",
    "    'HW available': 'HW Avail',\n",
    "    'CPU name': 'CPU Name',\n",
    "    'CPU vendor': 'CPU Vendor',\n",
    "    'CPU frequency': 'CPU MHz',\n",
    "    \n",
    "}"
   ]
  }
 ],
 "metadata": {
  "kernelspec": {
   "display_name": "Python 3 (ipykernel)",
   "language": "python",
   "name": "python3"
  },
  "language_info": {
   "codemirror_mode": {
    "name": "ipython",
    "version": 3
   },
   "file_extension": ".py",
   "mimetype": "text/x-python",
   "name": "python",
   "nbconvert_exporter": "python",
   "pygments_lexer": "ipython3",
   "version": "3.8.12"
  }
 },
 "nbformat": 4,
 "nbformat_minor": 5
}
